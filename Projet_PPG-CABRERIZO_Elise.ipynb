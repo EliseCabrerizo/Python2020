{
 "cells": [
  {
   "cell_type": "code",
   "execution_count": 1,
   "metadata": {},
   "outputs": [
    {
     "name": "stderr",
     "output_type": "stream",
     "text": [
      "C:\\ProgramData\\Anaconda3\\lib\\site-packages\\sklearn\\externals\\joblib\\__init__.py:15: DeprecationWarning: sklearn.externals.joblib is deprecated in 0.21 and will be removed in 0.23. Please import this functionality directly from joblib, which can be installed with: pip install joblib. If this warning is raised when loading pickled models, you may need to re-serialize those models with scikit-learn 0.21+.\n",
      "  warnings.warn(msg, category=DeprecationWarning)\n"
     ]
    }
   ],
   "source": [
    "import pandas as pd\n",
    "import pickle\n",
    "import matplotlib.pyplot as plt\n",
    "import seaborn\n",
    "import statistics\n",
    "\n",
    "from sklearn.model_selection import train_test_split\n",
    "from sklearn.preprocessing import StandardScaler\n",
    "from sklearn.linear_model import LinearRegression\n",
    "from sklearn.tree import DecisionTreeRegressor\n",
    "from sklearn.ensemble import RandomForestRegressor\n",
    "from sklearn.ensemble import ExtraTreesRegressor\n",
    "from sklearn.model_selection import cross_val_score\n",
    "from sklearn.model_selection import KFold\n",
    "from sklearn.ensemble import AdaBoostClassifier\n",
    "\n",
    "from collections import OrderedDict\n",
    "from sklearn.externals import joblib\n"
   ]
  },
  {
   "cell_type": "markdown",
   "metadata": {},
   "source": [
    "### L'étude dure 2h30 soit 9000 s (validé par figure 1)\n",
    "Chaque activité prend comme temps :\n",
    "* Sitting 10 min -> 600 s\n",
    "* Stairs 5 min -> 300 s\n",
    "* Table Soccer 5min -> 300 s\n",
    "* Cycling 8 min -> 480 s\n",
    "* driving car 15 min -> 900 s\n",
    "* Lunch break 30 min -> 1800 s\n",
    "* Walking 1min -> 600 s\n",
    "* Working 8 min -> 1200 s\n",
    "\n",
    "\n",
    "Nous allons dans un premier temps étudier le sujet 7 afin de comparer à la figure 1"
   ]
  },
  {
   "cell_type": "code",
   "execution_count": 2,
   "metadata": {},
   "outputs": [],
   "source": [
    "chemin = 'C:/Users/Elise/Documents/Esilv/5emeAnnee/PythonForDataAnalysis/Projet/PPG_FieldStudy/S7/S7.pkl'\n",
    "data =  pd.read_pickle(chemin)"
   ]
  },
  {
   "cell_type": "code",
   "execution_count": 3,
   "metadata": {},
   "outputs": [
    {
     "data": {
      "text/plain": [
       "{'rpeaks': array([    633,    1428,    2197, ..., 6538533, 6539057, 6539681]),\n",
       " 'signal': {'chest': {'ACC': array([[ 0.87160003,  0.02540004, -0.15560001],\n",
       "          [ 0.87100005,  0.02260005, -0.15859997],\n",
       "          [ 0.87020004,  0.02320004, -0.15899998],\n",
       "          ...,\n",
       "          [ 0.93079996, -0.06120002, -0.2062    ],\n",
       "          [ 0.93060005, -0.0564    , -0.21259999],\n",
       "          [ 0.93120003, -0.0546    , -0.21380001]]),\n",
       "   'ECG': array([[ 0.12437439],\n",
       "          [ 0.13188171],\n",
       "          [ 0.13829041],\n",
       "          ...,\n",
       "          [-0.08843994],\n",
       "          [-0.08757019],\n",
       "          [-0.08258057]]),\n",
       "   'EMG': array([[-1.5],\n",
       "          [-1.5],\n",
       "          [-1.5],\n",
       "          ...,\n",
       "          [-1.5],\n",
       "          [-1.5],\n",
       "          [-1.5]]),\n",
       "   'EDA': array([[0.],\n",
       "          [0.],\n",
       "          [0.],\n",
       "          ...,\n",
       "          [0.],\n",
       "          [0.],\n",
       "          [0.]]),\n",
       "   'Temp': array([[-273.15],\n",
       "          [-273.15],\n",
       "          [-273.15],\n",
       "          ...,\n",
       "          [-273.15],\n",
       "          [-273.15],\n",
       "          [-273.15]], dtype=float32),\n",
       "   'Resp': array([[1.3168335 ],\n",
       "          [1.30004883],\n",
       "          [1.32598877],\n",
       "          ...,\n",
       "          [1.121521  ],\n",
       "          [1.12762451],\n",
       "          [1.10168457]])},\n",
       "  'wrist': {'ACC': array([[-0.921875, -0.109375, -0.25    ],\n",
       "          [-0.921875, -0.140625, -0.265625],\n",
       "          [-0.953125, -0.171875, -0.265625],\n",
       "          ...,\n",
       "          [-0.59375 , -0.1875  ,  0.765625],\n",
       "          [-0.46875 , -0.1875  ,  0.8125  ],\n",
       "          [-0.453125, -0.1875  ,  0.84375 ]]), 'BVP': array([[-45.17],\n",
       "          [-50.1 ],\n",
       "          [-54.31],\n",
       "          ...,\n",
       "          [ 41.96],\n",
       "          [ 39.99],\n",
       "          [ 38.71]]), 'EDA': array([[0.140921],\n",
       "          [0.140921],\n",
       "          [0.13964 ],\n",
       "          ...,\n",
       "          [2.128756],\n",
       "          [2.141567],\n",
       "          [2.153097]]), 'TEMP': array([[30.57],\n",
       "          [30.57],\n",
       "          [30.57],\n",
       "          ...,\n",
       "          [34.55],\n",
       "          [34.55],\n",
       "          [34.55]])}},\n",
       " 'label': array([54.71764132, 55.17330165, 55.39308696, ..., 86.94697029,\n",
       "        79.71681682, 76.35414083]),\n",
       " 'activity': array([[0.],\n",
       "        [0.],\n",
       "        [0.],\n",
       "        ...,\n",
       "        [0.],\n",
       "        [0.],\n",
       "        [0.]]),\n",
       " 'questionnaire': {'WEIGHT': 58.0,\n",
       "  'Gender': ' f',\n",
       "  'AGE': 21,\n",
       "  'HEIGHT': 168.0,\n",
       "  'SKIN': 3,\n",
       "  'SPORT': 2},\n",
       " 'subject': 'S7'}"
      ]
     },
     "execution_count": 3,
     "metadata": {},
     "output_type": "execute_result"
    }
   ],
   "source": [
    "data"
   ]
  },
  {
   "cell_type": "markdown",
   "metadata": {},
   "source": [
    "# 1) Analyse de données"
   ]
  },
  {
   "cell_type": "code",
   "execution_count": 4,
   "metadata": {},
   "outputs": [
    {
     "name": "stdout",
     "output_type": "stream",
     "text": [
      "Nombre de keys : 6\n",
      "Nom des keys : dict_keys(['rpeaks', 'signal', 'label', 'activity', 'questionnaire', 'subject'])\n"
     ]
    }
   ],
   "source": [
    "print('Nombre de keys : ' + str(len(data.keys())) )\n",
    "print('Nom des keys : ' + str(data.keys()))"
   ]
  },
  {
   "cell_type": "code",
   "execution_count": 5,
   "metadata": {},
   "outputs": [
    {
     "name": "stdout",
     "output_type": "stream",
     "text": [
      "Sujet : S7\n",
      "Caractéristique du sujet : {'WEIGHT': 58.0, 'Gender': ' f', 'AGE': 21, 'HEIGHT': 168.0, 'SKIN': 3, 'SPORT': 2}\n"
     ]
    }
   ],
   "source": [
    "print('Sujet : ' + str(data['subject']))\n",
    "print('Caractéristique du sujet : '+ str(data['questionnaire']))"
   ]
  },
  {
   "cell_type": "markdown",
   "metadata": {},
   "source": [
    "### 1.1. Etude du label"
   ]
  },
  {
   "cell_type": "code",
   "execution_count": 6,
   "metadata": {},
   "outputs": [
    {
     "name": "stdout",
     "output_type": "stream",
     "text": [
      "Le label est les valeurs des battements de coeur mesurés sur 8 secondes avec 2 secondes de repos, reporté sur 1 min\n",
      "La moyenne des battements par minute est : 86.68667454907391\n",
      "Le nombre de battements minimum par minute est : 48.63469322902146\n",
      "Le nombre de battements maximum par minute est : 152.9134108074917\n"
     ]
    },
    {
     "data": {
      "text/plain": [
       "<matplotlib.axes._subplots.AxesSubplot at 0x219d8658278>"
      ]
     },
     "execution_count": 6,
     "metadata": {},
     "output_type": "execute_result"
    },
    {
     "data": {
      "image/png": "[encoded data removed]",
      "text/plain": [
       "<Figure size 1296x432 with 1 Axes>"
      ]
     },
     "metadata": {
      "needs_background": "light"
     },
     "output_type": "display_data"
    }
   ],
   "source": [
    "print('Le label est les valeurs des battements de coeur mesurés sur 8 secondes avec 2 secondes de repos, reporté sur 1 min')\n",
    "print('La moyenne des battements par minute est : ' +str(data['label'].mean()))\n",
    "print('Le nombre de battements minimum par minute est : ' +str(data['label'].min()))\n",
    "print('Le nombre de battements maximum par minute est : ' +str(data['label'].max()))\n",
    "dflabel = pd.DataFrame(data['label'])\n",
    "dflabel.plot(yticks=range(0,225,25),figsize=(18,6))"
   ]
  },
  {
   "cell_type": "markdown",
   "metadata": {},
   "source": [
    "### On met à l'échelle des 9000 s"
   ]
  },
  {
   "cell_type": "code",
   "execution_count": 7,
   "metadata": {},
   "outputs": [
    {
     "data": {
      "image/png": "[encoded data removed]",
      "text/plain": [
       "<Figure size 432x288 with 1 Axes>"
      ]
     },
     "metadata": {
      "needs_background": "light"
     },
     "output_type": "display_data"
    }
   ],
   "source": [
    "fig, ax = plt.subplots()\n",
    "\n",
    "color = 'tab:blue'\n",
    "ax.plot(dflabel.index*(9000/len(dflabel)), dflabel, color=color)\n",
    "ax.tick_params(axis='y', labelcolor=color)\n",
    "ax.set_yticks(range(0,225,25))\n",
    "plt.show()"
   ]
  },
  {
   "cell_type": "markdown",
   "metadata": {},
   "source": [
    "### 1.2. Etude de l'activité"
   ]
  },
  {
   "cell_type": "code",
   "execution_count": 8,
   "metadata": {
    "scrolled": true
   },
   "outputs": [
    {
     "name": "stdout",
     "output_type": "stream",
     "text": [
      "On affiche le nombre de fois où on a réalisé l'activité : \n",
      "Transient periods(ID: 0)\n",
      "Sitting (ID: 1)\n",
      "Ascending and descending stairs (ID: 2)\n",
      "Table soccer (ID: 3): Playing table soccer\n",
      "Cycling (ID: 4)\n",
      "Driving a car (ID: 5)\n",
      "Lunch break (ID: 6)\n",
      "Walking (ID: 7)\n",
      "Working (ID: 8)\n"
     ]
    },
    {
     "data": {
      "text/plain": [
       "<matplotlib.axes._subplots.AxesSubplot at 0x219d322e6a0>"
      ]
     },
     "execution_count": 8,
     "metadata": {},
     "output_type": "execute_result"
    },
    {
     "data": {
      "image/png": "[encoded data removed]",
      "text/plain": [
       "<Figure size 1296x432 with 1 Axes>"
      ]
     },
     "metadata": {
      "needs_background": "light"
     },
     "output_type": "display_data"
    }
   ],
   "source": [
    "dfactivity = pd.DataFrame(data['activity'])\n",
    "#On ajoute la colonne ci-après afin de pouvoir sommer\n",
    "dfactivity['nb'] = 1\n",
    "activity = dfactivity.groupby([0], as_index=False).sum()\n",
    "print('On affiche le nombre de fois où on a réalisé l\\'activité : ')\n",
    "print('Transient periods(ID: 0)\\nSitting (ID: 1)\\nAscending and descending stairs (ID: 2)\\nTable soccer (ID: 3): Playing table soccer\\nCycling (ID: 4)\\nDriving a car (ID: 5)\\nLunch break (ID: 6)\\nWalking (ID: 7)\\nWorking (ID: 8)')\n",
    "activity['nb'].plot(kind = \"bar\", figsize=(18,6))"
   ]
  },
  {
   "cell_type": "markdown",
   "metadata": {},
   "source": [
    "### J'essaie de retrouver le même schéma que la figure 1 du ReadMe"
   ]
  },
  {
   "cell_type": "code",
   "execution_count": 9,
   "metadata": {},
   "outputs": [
    {
     "name": "stdout",
     "output_type": "stream",
     "text": [
      "Nombre de secondes que dure une activité : 0.24082200577972815\n"
     ]
    }
   ],
   "source": [
    "print('Nombre de secondes que dure une activité : ' + str(9000/len(pd.DataFrame(data['activity']))))"
   ]
  },
  {
   "cell_type": "code",
   "execution_count": 10,
   "metadata": {},
   "outputs": [
    {
     "data": {
      "text/plain": [
       "<matplotlib.axes._subplots.AxesSubplot at 0x2199863a0f0>"
      ]
     },
     "execution_count": 10,
     "metadata": {},
     "output_type": "execute_result"
    },
    {
     "data": {
      "image/png": "[encoded data removed]",
      "text/plain": [
       "<Figure size 1296x432 with 1 Axes>"
      ]
     },
     "metadata": {
      "needs_background": "light"
     },
     "output_type": "display_data"
    }
   ],
   "source": [
    "dfactivity = pd.DataFrame(data['activity'])\n",
    "dfactivity.plot(figsize=(18,6))"
   ]
  },
  {
   "cell_type": "markdown",
   "metadata": {},
   "source": [
    "### On met à l'échelle des 9000 s"
   ]
  },
  {
   "cell_type": "code",
   "execution_count": 11,
   "metadata": {},
   "outputs": [
    {
     "data": {
      "image/png": "[encoded data removed]",
      "text/plain": [
       "<Figure size 432x288 with 1 Axes>"
      ]
     },
     "metadata": {
      "needs_background": "light"
     },
     "output_type": "display_data"
    }
   ],
   "source": [
    "dfactivity = pd.DataFrame(data['activity'])\n",
    "plt.plot(dfactivity.index*(9000/len(dfactivity)), dfactivity)\n",
    "\n",
    "plt.show()"
   ]
  },
  {
   "cell_type": "markdown",
   "metadata": {},
   "source": [
    "### 1.3. Etude du lien entre activity et label (figure 1 du ReadMe)"
   ]
  },
  {
   "cell_type": "code",
   "execution_count": 12,
   "metadata": {},
   "outputs": [
    {
     "data": {
      "image/png": "[encoded data removed]",
      "text/plain": [
       "<Figure size 432x288 with 2 Axes>"
      ]
     },
     "metadata": {},
     "output_type": "display_data"
    }
   ],
   "source": [
    "fig, ax1 = plt.subplots()\n",
    "\n",
    "color = 'tab:blue'\n",
    "ax1.plot(dflabel.index*(9000/len(dflabel)), dflabel, color=color)\n",
    "ax1.tick_params(axis='y', labelcolor=color)\n",
    "ax1.set_yticks(range(0,225,25))\n",
    "\n",
    "\n",
    "ax2 = ax1.twinx()  # instantiate a second axes that shares the same x-axis\n",
    "\n",
    "color = 'tab:pink'\n",
    "ax2.plot(dfactivity.index*(9000/len(dfactivity)), dfactivity, color=color)\n",
    "ax2.tick_params(axis='y', labelcolor=color)\n",
    "\n",
    "fig.tight_layout()  # otherwise the right y-label is slightly clipped\n",
    "plt.show()"
   ]
  },
  {
   "cell_type": "markdown",
   "metadata": {},
   "source": [
    "## 2. Création d'un dataframe regroupant tous les sujets"
   ]
  },
  {
   "cell_type": "code",
   "execution_count": 13,
   "metadata": {},
   "outputs": [
    {
     "name": "stdout",
     "output_type": "stream",
     "text": [
      "1\n",
      "2\n",
      "3\n",
      "4\n",
      "5\n",
      "6\n",
      "7\n",
      "8\n",
      "9\n",
      "10\n",
      "11\n",
      "12\n",
      "13\n",
      "14\n",
      "15\n"
     ]
    }
   ],
   "source": [
    "alldatas = {}\n",
    "for i in range(1,16):\n",
    "    print(i)\n",
    "    alldatas[i] = pd.read_pickle(f\"C:/Users/Elise/Documents/Esilv/5emeAnnee/PythonForDataAnalysis/Projet/PPG_FieldStudy/S\"+str(i)+\"/S\"+str(i)+\".pkl\")"
   ]
  },
  {
   "cell_type": "code",
   "execution_count": 14,
   "metadata": {},
   "outputs": [
    {
     "data": {
      "text/html": [
       "<div>\n",
       "<style scoped>\n",
       "    .dataframe tbody tr th:only-of-type {\n",
       "        vertical-align: middle;\n",
       "    }\n",
       "\n",
       "    .dataframe tbody tr th {\n",
       "        vertical-align: top;\n",
       "    }\n",
       "\n",
       "    .dataframe thead th {\n",
       "        text-align: right;\n",
       "    }\n",
       "</style>\n",
       "<table border=\"1\" class=\"dataframe\">\n",
       "  <thead>\n",
       "    <tr style=\"text-align: right;\">\n",
       "      <th></th>\n",
       "      <th>1</th>\n",
       "      <th>2</th>\n",
       "      <th>3</th>\n",
       "      <th>4</th>\n",
       "      <th>5</th>\n",
       "      <th>6</th>\n",
       "      <th>7</th>\n",
       "      <th>8</th>\n",
       "      <th>9</th>\n",
       "      <th>10</th>\n",
       "      <th>11</th>\n",
       "      <th>12</th>\n",
       "      <th>13</th>\n",
       "      <th>14</th>\n",
       "      <th>15</th>\n",
       "    </tr>\n",
       "  </thead>\n",
       "  <tbody>\n",
       "    <tr>\n",
       "      <th>activity</th>\n",
       "      <td>[[0.0], [0.0], [0.0], [0.0], [0.0], [0.0], [0....</td>\n",
       "      <td>[[0.0], [0.0], [0.0], [0.0], [0.0], [0.0], [0....</td>\n",
       "      <td>[[0.0], [0.0], [0.0], [0.0], [0.0], [0.0], [0....</td>\n",
       "      <td>[[0.0], [0.0], [0.0], [0.0], [0.0], [0.0], [0....</td>\n",
       "      <td>[[0.0], [0.0], [0.0], [0.0], [0.0], [0.0], [0....</td>\n",
       "      <td>[[0.0], [0.0], [0.0], [0.0], [0.0], [0.0], [0....</td>\n",
       "      <td>[[0.0], [0.0], [0.0], [0.0], [0.0], [0.0], [0....</td>\n",
       "      <td>[[0.0], [0.0], [0.0], [0.0], [0.0], [0.0], [0....</td>\n",
       "      <td>[[0.0], [0.0], [0.0], [0.0], [0.0], [0.0], [0....</td>\n",
       "      <td>[[0.0], [0.0], [0.0], [0.0], [0.0], [0.0], [0....</td>\n",
       "      <td>[[0.0], [0.0], [0.0], [0.0], [0.0], [0.0], [0....</td>\n",
       "      <td>[[0.0], [0.0], [0.0], [0.0], [0.0], [0.0], [0....</td>\n",
       "      <td>[[0.0], [0.0], [0.0], [0.0], [0.0], [0.0], [0....</td>\n",
       "      <td>[[0.0], [0.0], [0.0], [0.0], [0.0], [0.0], [0....</td>\n",
       "      <td>[[0.0], [0.0], [0.0], [0.0], [0.0], [0.0], [0....</td>\n",
       "    </tr>\n",
       "    <tr>\n",
       "      <th>label</th>\n",
       "      <td>[49.611369076105795, 50.323992482870175, 52.70...</td>\n",
       "      <td>[70.92296570347261, 71.29105527689472, 68.6938...</td>\n",
       "      <td>[52.904905990895365, 52.4832848965976, 53.5990...</td>\n",
       "      <td>[69.33133569178202, 74.23985397460334, 80.6865...</td>\n",
       "      <td>[96.0906143466522, 101.29797045926367, 108.862...</td>\n",
       "      <td>[105.03603052300089, 109.08819284696261, 111.7...</td>\n",
       "      <td>[54.71764132217654, 55.17330164858371, 55.3930...</td>\n",
       "      <td>[57.91516848266533, 59.1418718794675, 61.37444...</td>\n",
       "      <td>[66.60310756946997, 66.72622532983297, 67.1437...</td>\n",
       "      <td>[64.28235587205951, 63.349710123072235, 64.568...</td>\n",
       "      <td>[73.41463469471395, 78.43265402408036, 82.3741...</td>\n",
       "      <td>[54.98420867920524, 56.68301554508546, 58.1600...</td>\n",
       "      <td>[63.79889727455826, 65.42809985054454, 65.7692...</td>\n",
       "      <td>[72.6747289184089, 76.95480136227845, 73.42384...</td>\n",
       "      <td>[51.789772141788326, 53.95587356823631, 59.379...</td>\n",
       "    </tr>\n",
       "    <tr>\n",
       "      <th>questionnaire</th>\n",
       "      <td>{'WEIGHT': 78.0, 'Gender': ' m', 'AGE': 34, 'H...</td>\n",
       "      <td>{'WEIGHT': 80.0, 'Gender': ' m', 'AGE': 28, 'H...</td>\n",
       "      <td>{'WEIGHT': 60.0, 'Gender': ' m', 'AGE': 25, 'H...</td>\n",
       "      <td>{'WEIGHT': 57.0, 'Gender': ' m', 'AGE': 25, 'H...</td>\n",
       "      <td>{'WEIGHT': 70.0, 'Gender': ' f', 'AGE': 21, 'H...</td>\n",
       "      <td>{'WEIGHT': 70.0, 'Gender': ' f', 'AGE': 37, 'H...</td>\n",
       "      <td>{'WEIGHT': 58.0, 'Gender': ' f', 'AGE': 21, 'H...</td>\n",
       "      <td>{'WEIGHT': 70.0, 'Gender': ' m', 'AGE': 43, 'H...</td>\n",
       "      <td>{'WEIGHT': 60.0, 'Gender': ' f', 'AGE': 28, 'H...</td>\n",
       "      <td>{'WEIGHT': 56.0, 'Gender': ' f', 'AGE': 55, 'H...</td>\n",
       "      <td>{'WEIGHT': 62.0, 'Gender': ' f', 'AGE': 24, 'H...</td>\n",
       "      <td>{'WEIGHT': 105.0, 'Gender': ' m', 'AGE': 43, '...</td>\n",
       "      <td>{'WEIGHT': 63.0, 'Gender': ' f', 'AGE': 21, 'H...</td>\n",
       "      <td>{'WEIGHT': 67.0, 'Gender': ' f', 'AGE': 26, 'H...</td>\n",
       "      <td>{'WEIGHT': 79.0, 'Gender': ' m', 'AGE': 28, 'H...</td>\n",
       "    </tr>\n",
       "    <tr>\n",
       "      <th>rpeaks</th>\n",
       "      <td>[240, 1174, 2128, 3099, 3907, 4733, 5404, 6382...</td>\n",
       "      <td>[33, 700, 1316, 1932, 2536, 3094, 3661, 4220, ...</td>\n",
       "      <td>[337, 1103, 1897, 2673, 3496, 4295, 5103, 5901...</td>\n",
       "      <td>[206, 910, 1510, 2150, 2768, 3331, 3911, 4505,...</td>\n",
       "      <td>[71, 519, 976, 1440, 1874, 2331, 2783, 3225, 3...</td>\n",
       "      <td>[31, 464, 891, 1313, 1726, 2132, 2534, 2924, 3...</td>\n",
       "      <td>[633, 1428, 2197, 2971, 3739, 4507, 5241, 5963...</td>\n",
       "      <td>[217, 960, 1697, 2433, 3116, 3836, 4560, 5297,...</td>\n",
       "      <td>[486, 1161, 1829, 2473, 3095, 3709, 4291, 4886...</td>\n",
       "      <td>[560, 1194, 1851, 2503, 3168, 3800, 4448, 5137...</td>\n",
       "      <td>[553, 1181, 1804, 2417, 3009, 3591, 4121, 4655...</td>\n",
       "      <td>[669, 1496, 2303, 3089, 3838, 4552, 5267, 5989...</td>\n",
       "      <td>[226, 961, 1673, 2376, 2968, 3585, 4253, 4867,...</td>\n",
       "      <td>[7, 707, 1377, 2028, 2629, 3162, 3678, 4199, 4...</td>\n",
       "      <td>[506, 1267, 2097, 2945, 3778, 4607, 5380, 6170...</td>\n",
       "    </tr>\n",
       "    <tr>\n",
       "      <th>signal</th>\n",
       "      <td>{'chest': {'ACC': [[ 0.85640001 -0.06779999 -0...</td>\n",
       "      <td>{'chest': {'ACC': [[0.91139996 0.03219998 0.05...</td>\n",
       "      <td>{'chest': {'ACC': [[ 0.90460002 -0.06120002 -0...</td>\n",
       "      <td>{'chest': {'ACC': [[ 0.90859997 -0.15979999  0...</td>\n",
       "      <td>{'chest': {'ACC': [[ 0.88940001 -0.25019997 -0...</td>\n",
       "      <td>{'chest': {'ACC': [[ 0.79540002 -0.167      -0...</td>\n",
       "      <td>{'chest': {'ACC': [[ 0.87160003  0.02540004 -0...</td>\n",
       "      <td>{'chest': {'ACC': [[ 0.90740001 -0.04100001  0...</td>\n",
       "      <td>{'chest': {'ACC': [[ 0.84739995 -0.00819999 -0...</td>\n",
       "      <td>{'chest': {'ACC': [[ 0.91760004 -0.01779997 -0...</td>\n",
       "      <td>{'chest': {'ACC': [[ 0.91779995 -0.0054      0...</td>\n",
       "      <td>{'chest': {'ACC': [[ 0.89100003 -0.01200002 -0...</td>\n",
       "      <td>{'chest': {'ACC': [[0.89300001 0.06099999 0.17...</td>\n",
       "      <td>{'chest': {'ACC': [[ 0.89300001  0.12619996 -0...</td>\n",
       "      <td>{'chest': {'ACC': [[ 0.86740005  0.16139996 -0...</td>\n",
       "    </tr>\n",
       "    <tr>\n",
       "      <th>subject</th>\n",
       "      <td>S1</td>\n",
       "      <td>S2</td>\n",
       "      <td>S3</td>\n",
       "      <td>S4</td>\n",
       "      <td>S5</td>\n",
       "      <td>S6</td>\n",
       "      <td>S7</td>\n",
       "      <td>S8</td>\n",
       "      <td>S9</td>\n",
       "      <td>S10</td>\n",
       "      <td>S11</td>\n",
       "      <td>S12</td>\n",
       "      <td>S13</td>\n",
       "      <td>S14</td>\n",
       "      <td>S15</td>\n",
       "    </tr>\n",
       "  </tbody>\n",
       "</table>\n",
       "</div>"
      ],
      "text/plain": [
       "                                                              1   \\\n",
       "activity       [[0.0], [0.0], [0.0], [0.0], [0.0], [0.0], [0....   \n",
       "label          [49.611369076105795, 50.323992482870175, 52.70...   \n",
       "questionnaire  {'WEIGHT': 78.0, 'Gender': ' m', 'AGE': 34, 'H...   \n",
       "rpeaks         [240, 1174, 2128, 3099, 3907, 4733, 5404, 6382...   \n",
       "signal         {'chest': {'ACC': [[ 0.85640001 -0.06779999 -0...   \n",
       "subject                                                       S1   \n",
       "\n",
       "                                                              2   \\\n",
       "activity       [[0.0], [0.0], [0.0], [0.0], [0.0], [0.0], [0....   \n",
       "label          [70.92296570347261, 71.29105527689472, 68.6938...   \n",
       "questionnaire  {'WEIGHT': 80.0, 'Gender': ' m', 'AGE': 28, 'H...   \n",
       "rpeaks         [33, 700, 1316, 1932, 2536, 3094, 3661, 4220, ...   \n",
       "signal         {'chest': {'ACC': [[0.91139996 0.03219998 0.05...   \n",
       "subject                                                       S2   \n",
       "\n",
       "                                                              3   \\\n",
       "activity       [[0.0], [0.0], [0.0], [0.0], [0.0], [0.0], [0....   \n",
       "label          [52.904905990895365, 52.4832848965976, 53.5990...   \n",
       "questionnaire  {'WEIGHT': 60.0, 'Gender': ' m', 'AGE': 25, 'H...   \n",
       "rpeaks         [337, 1103, 1897, 2673, 3496, 4295, 5103, 5901...   \n",
       "signal         {'chest': {'ACC': [[ 0.90460002 -0.06120002 -0...   \n",
       "subject                                                       S3   \n",
       "\n",
       "                                                              4   \\\n",
       "activity       [[0.0], [0.0], [0.0], [0.0], [0.0], [0.0], [0....   \n",
       "label          [69.33133569178202, 74.23985397460334, 80.6865...   \n",
       "questionnaire  {'WEIGHT': 57.0, 'Gender': ' m', 'AGE': 25, 'H...   \n",
       "rpeaks         [206, 910, 1510, 2150, 2768, 3331, 3911, 4505,...   \n",
       "signal         {'chest': {'ACC': [[ 0.90859997 -0.15979999  0...   \n",
       "subject                                                       S4   \n",
       "\n",
       "                                                              5   \\\n",
       "activity       [[0.0], [0.0], [0.0], [0.0], [0.0], [0.0], [0....   \n",
       "label          [96.0906143466522, 101.29797045926367, 108.862...   \n",
       "questionnaire  {'WEIGHT': 70.0, 'Gender': ' f', 'AGE': 21, 'H...   \n",
       "rpeaks         [71, 519, 976, 1440, 1874, 2331, 2783, 3225, 3...   \n",
       "signal         {'chest': {'ACC': [[ 0.88940001 -0.25019997 -0...   \n",
       "subject                                                       S5   \n",
       "\n",
       "                                                              6   \\\n",
       "activity       [[0.0], [0.0], [0.0], [0.0], [0.0], [0.0], [0....   \n",
       "label          [105.03603052300089, 109.08819284696261, 111.7...   \n",
       "questionnaire  {'WEIGHT': 70.0, 'Gender': ' f', 'AGE': 37, 'H...   \n",
       "rpeaks         [31, 464, 891, 1313, 1726, 2132, 2534, 2924, 3...   \n",
       "signal         {'chest': {'ACC': [[ 0.79540002 -0.167      -0...   \n",
       "subject                                                       S6   \n",
       "\n",
       "                                                              7   \\\n",
       "activity       [[0.0], [0.0], [0.0], [0.0], [0.0], [0.0], [0....   \n",
       "label          [54.71764132217654, 55.17330164858371, 55.3930...   \n",
       "questionnaire  {'WEIGHT': 58.0, 'Gender': ' f', 'AGE': 21, 'H...   \n",
       "rpeaks         [633, 1428, 2197, 2971, 3739, 4507, 5241, 5963...   \n",
       "signal         {'chest': {'ACC': [[ 0.87160003  0.02540004 -0...   \n",
       "subject                                                       S7   \n",
       "\n",
       "                                                              8   \\\n",
       "activity       [[0.0], [0.0], [0.0], [0.0], [0.0], [0.0], [0....   \n",
       "label          [57.91516848266533, 59.1418718794675, 61.37444...   \n",
       "questionnaire  {'WEIGHT': 70.0, 'Gender': ' m', 'AGE': 43, 'H...   \n",
       "rpeaks         [217, 960, 1697, 2433, 3116, 3836, 4560, 5297,...   \n",
       "signal         {'chest': {'ACC': [[ 0.90740001 -0.04100001  0...   \n",
       "subject                                                       S8   \n",
       "\n",
       "                                                              9   \\\n",
       "activity       [[0.0], [0.0], [0.0], [0.0], [0.0], [0.0], [0....   \n",
       "label          [66.60310756946997, 66.72622532983297, 67.1437...   \n",
       "questionnaire  {'WEIGHT': 60.0, 'Gender': ' f', 'AGE': 28, 'H...   \n",
       "rpeaks         [486, 1161, 1829, 2473, 3095, 3709, 4291, 4886...   \n",
       "signal         {'chest': {'ACC': [[ 0.84739995 -0.00819999 -0...   \n",
       "subject                                                       S9   \n",
       "\n",
       "                                                              10  \\\n",
       "activity       [[0.0], [0.0], [0.0], [0.0], [0.0], [0.0], [0....   \n",
       "label          [64.28235587205951, 63.349710123072235, 64.568...   \n",
       "questionnaire  {'WEIGHT': 56.0, 'Gender': ' f', 'AGE': 55, 'H...   \n",
       "rpeaks         [560, 1194, 1851, 2503, 3168, 3800, 4448, 5137...   \n",
       "signal         {'chest': {'ACC': [[ 0.91760004 -0.01779997 -0...   \n",
       "subject                                                      S10   \n",
       "\n",
       "                                                              11  \\\n",
       "activity       [[0.0], [0.0], [0.0], [0.0], [0.0], [0.0], [0....   \n",
       "label          [73.41463469471395, 78.43265402408036, 82.3741...   \n",
       "questionnaire  {'WEIGHT': 62.0, 'Gender': ' f', 'AGE': 24, 'H...   \n",
       "rpeaks         [553, 1181, 1804, 2417, 3009, 3591, 4121, 4655...   \n",
       "signal         {'chest': {'ACC': [[ 0.91779995 -0.0054      0...   \n",
       "subject                                                      S11   \n",
       "\n",
       "                                                              12  \\\n",
       "activity       [[0.0], [0.0], [0.0], [0.0], [0.0], [0.0], [0....   \n",
       "label          [54.98420867920524, 56.68301554508546, 58.1600...   \n",
       "questionnaire  {'WEIGHT': 105.0, 'Gender': ' m', 'AGE': 43, '...   \n",
       "rpeaks         [669, 1496, 2303, 3089, 3838, 4552, 5267, 5989...   \n",
       "signal         {'chest': {'ACC': [[ 0.89100003 -0.01200002 -0...   \n",
       "subject                                                      S12   \n",
       "\n",
       "                                                              13  \\\n",
       "activity       [[0.0], [0.0], [0.0], [0.0], [0.0], [0.0], [0....   \n",
       "label          [63.79889727455826, 65.42809985054454, 65.7692...   \n",
       "questionnaire  {'WEIGHT': 63.0, 'Gender': ' f', 'AGE': 21, 'H...   \n",
       "rpeaks         [226, 961, 1673, 2376, 2968, 3585, 4253, 4867,...   \n",
       "signal         {'chest': {'ACC': [[0.89300001 0.06099999 0.17...   \n",
       "subject                                                      S13   \n",
       "\n",
       "                                                              14  \\\n",
       "activity       [[0.0], [0.0], [0.0], [0.0], [0.0], [0.0], [0....   \n",
       "label          [72.6747289184089, 76.95480136227845, 73.42384...   \n",
       "questionnaire  {'WEIGHT': 67.0, 'Gender': ' f', 'AGE': 26, 'H...   \n",
       "rpeaks         [7, 707, 1377, 2028, 2629, 3162, 3678, 4199, 4...   \n",
       "signal         {'chest': {'ACC': [[ 0.89300001  0.12619996 -0...   \n",
       "subject                                                      S14   \n",
       "\n",
       "                                                              15  \n",
       "activity       [[0.0], [0.0], [0.0], [0.0], [0.0], [0.0], [0....  \n",
       "label          [51.789772141788326, 53.95587356823631, 59.379...  \n",
       "questionnaire  {'WEIGHT': 79.0, 'Gender': ' m', 'AGE': 28, 'H...  \n",
       "rpeaks         [506, 1267, 2097, 2945, 3778, 4607, 5380, 6170...  \n",
       "signal         {'chest': {'ACC': [[ 0.86740005  0.16139996 -0...  \n",
       "subject                                                      S15  "
      ]
     },
     "execution_count": 14,
     "metadata": {},
     "output_type": "execute_result"
    }
   ],
   "source": [
    "pd.DataFrame(alldatas)"
   ]
  },
  {
   "cell_type": "markdown",
   "metadata": {},
   "source": [
    "Il est facile de mettre à l'échelle des 9000s pour un plot mais afin d'anticiper notre X pour la classification il faut que nous les mettions tous à l'échelle. Comme notre y sera activity et que celle-ci est à 4Hz on va tout ramener à 4 Hz."
   ]
  },
  {
   "cell_type": "markdown",
   "metadata": {},
   "source": [
    "Créons une fonction qui nous permettra de tout mettre à la bonne échelle"
   ]
  },
  {
   "cell_type": "code",
   "execution_count": 15,
   "metadata": {},
   "outputs": [],
   "source": [
    "def mise_echelle_4H(datas, freq):\n",
    "    temp = []\n",
    "    nombre_division = int(freq / 4)\n",
    "    \n",
    "    for i in range(0, len(datas), nombre_division):\n",
    "        temp.append((sum(datas[i:i+nombre_division]) / nombre_division))\n",
    "    return temp"
   ]
  },
  {
   "cell_type": "code",
   "execution_count": 16,
   "metadata": {},
   "outputs": [
    {
     "data": {
      "text/html": [
       "<div>\n",
       "<style scoped>\n",
       "    .dataframe tbody tr th:only-of-type {\n",
       "        vertical-align: middle;\n",
       "    }\n",
       "\n",
       "    .dataframe tbody tr th {\n",
       "        vertical-align: top;\n",
       "    }\n",
       "\n",
       "    .dataframe thead th {\n",
       "        text-align: right;\n",
       "    }\n",
       "</style>\n",
       "<table border=\"1\" class=\"dataframe\">\n",
       "  <thead>\n",
       "    <tr style=\"text-align: right;\">\n",
       "      <th></th>\n",
       "      <th>ID</th>\n",
       "      <th>WEIGHT</th>\n",
       "      <th>Gender</th>\n",
       "      <th>AGE</th>\n",
       "      <th>HEIGHT</th>\n",
       "      <th>SKIN</th>\n",
       "      <th>SPORT</th>\n",
       "      <th>activity</th>\n",
       "      <th>label</th>\n",
       "      <th>xchest</th>\n",
       "      <th>ychest</th>\n",
       "      <th>zchest</th>\n",
       "      <th>ecg</th>\n",
       "      <th>resp</th>\n",
       "      <th>xwrist</th>\n",
       "      <th>ywrist</th>\n",
       "      <th>zwrist</th>\n",
       "      <th>bvp</th>\n",
       "      <th>temp</th>\n",
       "    </tr>\n",
       "  </thead>\n",
       "  <tbody>\n",
       "    <tr>\n",
       "      <th>0</th>\n",
       "      <td>1</td>\n",
       "      <td>78</td>\n",
       "      <td>m</td>\n",
       "      <td>34</td>\n",
       "      <td>182</td>\n",
       "      <td>3</td>\n",
       "      <td>6</td>\n",
       "      <td>0.0</td>\n",
       "      <td>49.611369</td>\n",
       "      <td>0.852157</td>\n",
       "      <td>-0.066488</td>\n",
       "      <td>-0.367784</td>\n",
       "      <td>0.035650</td>\n",
       "      <td>4.834438</td>\n",
       "      <td>-0.763672</td>\n",
       "      <td>-0.076172</td>\n",
       "      <td>0.669922</td>\n",
       "      <td>0.138125</td>\n",
       "      <td>32.13</td>\n",
       "    </tr>\n",
       "    <tr>\n",
       "      <th>1</th>\n",
       "      <td>1</td>\n",
       "      <td>78</td>\n",
       "      <td>m</td>\n",
       "      <td>34</td>\n",
       "      <td>182</td>\n",
       "      <td>3</td>\n",
       "      <td>6</td>\n",
       "      <td>0.0</td>\n",
       "      <td>49.611369</td>\n",
       "      <td>0.851262</td>\n",
       "      <td>-0.066655</td>\n",
       "      <td>-0.370442</td>\n",
       "      <td>0.103145</td>\n",
       "      <td>4.238839</td>\n",
       "      <td>-0.763672</td>\n",
       "      <td>-0.078125</td>\n",
       "      <td>0.671875</td>\n",
       "      <td>-26.262500</td>\n",
       "      <td>32.16</td>\n",
       "    </tr>\n",
       "    <tr>\n",
       "      <th>2</th>\n",
       "      <td>1</td>\n",
       "      <td>78</td>\n",
       "      <td>m</td>\n",
       "      <td>34</td>\n",
       "      <td>182</td>\n",
       "      <td>3</td>\n",
       "      <td>6</td>\n",
       "      <td>0.0</td>\n",
       "      <td>49.611369</td>\n",
       "      <td>0.851570</td>\n",
       "      <td>-0.064677</td>\n",
       "      <td>-0.370251</td>\n",
       "      <td>0.099101</td>\n",
       "      <td>2.058559</td>\n",
       "      <td>-0.761719</td>\n",
       "      <td>-0.078125</td>\n",
       "      <td>0.671875</td>\n",
       "      <td>-40.959375</td>\n",
       "      <td>32.16</td>\n",
       "    </tr>\n",
       "    <tr>\n",
       "      <th>3</th>\n",
       "      <td>1</td>\n",
       "      <td>78</td>\n",
       "      <td>m</td>\n",
       "      <td>34</td>\n",
       "      <td>182</td>\n",
       "      <td>3</td>\n",
       "      <td>6</td>\n",
       "      <td>0.0</td>\n",
       "      <td>49.611369</td>\n",
       "      <td>0.852142</td>\n",
       "      <td>-0.065486</td>\n",
       "      <td>-0.371278</td>\n",
       "      <td>-0.170757</td>\n",
       "      <td>-0.463981</td>\n",
       "      <td>-0.753906</td>\n",
       "      <td>-0.078125</td>\n",
       "      <td>0.671875</td>\n",
       "      <td>24.173125</td>\n",
       "      <td>32.16</td>\n",
       "    </tr>\n",
       "    <tr>\n",
       "      <th>4</th>\n",
       "      <td>1</td>\n",
       "      <td>78</td>\n",
       "      <td>m</td>\n",
       "      <td>34</td>\n",
       "      <td>182</td>\n",
       "      <td>3</td>\n",
       "      <td>6</td>\n",
       "      <td>0.0</td>\n",
       "      <td>49.611369</td>\n",
       "      <td>0.851958</td>\n",
       "      <td>-0.065894</td>\n",
       "      <td>-0.370466</td>\n",
       "      <td>-0.036633</td>\n",
       "      <td>-1.867397</td>\n",
       "      <td>-0.761719</td>\n",
       "      <td>-0.076172</td>\n",
       "      <td>0.671875</td>\n",
       "      <td>25.781250</td>\n",
       "      <td>32.16</td>\n",
       "    </tr>\n",
       "    <tr>\n",
       "      <th>5</th>\n",
       "      <td>1</td>\n",
       "      <td>78</td>\n",
       "      <td>m</td>\n",
       "      <td>34</td>\n",
       "      <td>182</td>\n",
       "      <td>3</td>\n",
       "      <td>6</td>\n",
       "      <td>0.0</td>\n",
       "      <td>49.611369</td>\n",
       "      <td>0.853454</td>\n",
       "      <td>-0.066655</td>\n",
       "      <td>-0.367393</td>\n",
       "      <td>0.027540</td>\n",
       "      <td>-1.400373</td>\n",
       "      <td>-0.763672</td>\n",
       "      <td>-0.078125</td>\n",
       "      <td>0.671875</td>\n",
       "      <td>8.678125</td>\n",
       "      <td>32.15</td>\n",
       "    </tr>\n",
       "    <tr>\n",
       "      <th>6</th>\n",
       "      <td>1</td>\n",
       "      <td>78</td>\n",
       "      <td>m</td>\n",
       "      <td>34</td>\n",
       "      <td>182</td>\n",
       "      <td>3</td>\n",
       "      <td>6</td>\n",
       "      <td>0.0</td>\n",
       "      <td>49.611369</td>\n",
       "      <td>0.848446</td>\n",
       "      <td>-0.068993</td>\n",
       "      <td>-0.377715</td>\n",
       "      <td>0.119724</td>\n",
       "      <td>0.611511</td>\n",
       "      <td>-0.755859</td>\n",
       "      <td>-0.076172</td>\n",
       "      <td>0.673828</td>\n",
       "      <td>-17.215625</td>\n",
       "      <td>32.15</td>\n",
       "    </tr>\n",
       "    <tr>\n",
       "      <th>7</th>\n",
       "      <td>1</td>\n",
       "      <td>78</td>\n",
       "      <td>m</td>\n",
       "      <td>34</td>\n",
       "      <td>182</td>\n",
       "      <td>3</td>\n",
       "      <td>6</td>\n",
       "      <td>0.0</td>\n",
       "      <td>49.611369</td>\n",
       "      <td>0.848849</td>\n",
       "      <td>-0.063319</td>\n",
       "      <td>-0.363015</td>\n",
       "      <td>0.134410</td>\n",
       "      <td>2.554940</td>\n",
       "      <td>-0.765625</td>\n",
       "      <td>-0.070312</td>\n",
       "      <td>0.671875</td>\n",
       "      <td>-35.286875</td>\n",
       "      <td>32.15</td>\n",
       "    </tr>\n",
       "    <tr>\n",
       "      <th>8</th>\n",
       "      <td>1</td>\n",
       "      <td>78</td>\n",
       "      <td>m</td>\n",
       "      <td>34</td>\n",
       "      <td>182</td>\n",
       "      <td>3</td>\n",
       "      <td>6</td>\n",
       "      <td>0.0</td>\n",
       "      <td>50.323992</td>\n",
       "      <td>0.847730</td>\n",
       "      <td>-0.070083</td>\n",
       "      <td>-0.379448</td>\n",
       "      <td>-0.212572</td>\n",
       "      <td>2.310625</td>\n",
       "      <td>-0.751953</td>\n",
       "      <td>-0.078125</td>\n",
       "      <td>0.671875</td>\n",
       "      <td>21.870000</td>\n",
       "      <td>32.15</td>\n",
       "    </tr>\n",
       "    <tr>\n",
       "      <th>9</th>\n",
       "      <td>1</td>\n",
       "      <td>78</td>\n",
       "      <td>m</td>\n",
       "      <td>34</td>\n",
       "      <td>182</td>\n",
       "      <td>3</td>\n",
       "      <td>6</td>\n",
       "      <td>0.0</td>\n",
       "      <td>50.323992</td>\n",
       "      <td>0.848426</td>\n",
       "      <td>-0.065433</td>\n",
       "      <td>-0.378317</td>\n",
       "      <td>-0.074286</td>\n",
       "      <td>0.124163</td>\n",
       "      <td>-0.755859</td>\n",
       "      <td>-0.078125</td>\n",
       "      <td>0.671875</td>\n",
       "      <td>28.181250</td>\n",
       "      <td>32.15</td>\n",
       "    </tr>\n",
       "    <tr>\n",
       "      <th>10</th>\n",
       "      <td>1</td>\n",
       "      <td>78</td>\n",
       "      <td>m</td>\n",
       "      <td>34</td>\n",
       "      <td>182</td>\n",
       "      <td>3</td>\n",
       "      <td>6</td>\n",
       "      <td>0.0</td>\n",
       "      <td>50.323992</td>\n",
       "      <td>0.851305</td>\n",
       "      <td>-0.064755</td>\n",
       "      <td>-0.372001</td>\n",
       "      <td>0.011253</td>\n",
       "      <td>-1.979283</td>\n",
       "      <td>-0.761719</td>\n",
       "      <td>-0.076172</td>\n",
       "      <td>0.671875</td>\n",
       "      <td>10.370625</td>\n",
       "      <td>32.15</td>\n",
       "    </tr>\n",
       "    <tr>\n",
       "      <th>11</th>\n",
       "      <td>1</td>\n",
       "      <td>78</td>\n",
       "      <td>m</td>\n",
       "      <td>34</td>\n",
       "      <td>182</td>\n",
       "      <td>3</td>\n",
       "      <td>6</td>\n",
       "      <td>0.0</td>\n",
       "      <td>50.323992</td>\n",
       "      <td>0.850046</td>\n",
       "      <td>-0.065035</td>\n",
       "      <td>-0.370826</td>\n",
       "      <td>0.024181</td>\n",
       "      <td>-2.932199</td>\n",
       "      <td>-0.759766</td>\n",
       "      <td>-0.078125</td>\n",
       "      <td>0.671875</td>\n",
       "      <td>-11.989375</td>\n",
       "      <td>32.15</td>\n",
       "    </tr>\n",
       "    <tr>\n",
       "      <th>12</th>\n",
       "      <td>1</td>\n",
       "      <td>78</td>\n",
       "      <td>m</td>\n",
       "      <td>34</td>\n",
       "      <td>182</td>\n",
       "      <td>3</td>\n",
       "      <td>6</td>\n",
       "      <td>0.0</td>\n",
       "      <td>50.323992</td>\n",
       "      <td>0.852839</td>\n",
       "      <td>-0.061807</td>\n",
       "      <td>-0.369928</td>\n",
       "      <td>0.098834</td>\n",
       "      <td>-2.916495</td>\n",
       "      <td>-0.755859</td>\n",
       "      <td>-0.078125</td>\n",
       "      <td>0.673828</td>\n",
       "      <td>-47.277500</td>\n",
       "      <td>32.15</td>\n",
       "    </tr>\n",
       "    <tr>\n",
       "      <th>13</th>\n",
       "      <td>1</td>\n",
       "      <td>78</td>\n",
       "      <td>m</td>\n",
       "      <td>34</td>\n",
       "      <td>182</td>\n",
       "      <td>3</td>\n",
       "      <td>6</td>\n",
       "      <td>0.0</td>\n",
       "      <td>50.323992</td>\n",
       "      <td>0.850029</td>\n",
       "      <td>-0.066958</td>\n",
       "      <td>-0.373975</td>\n",
       "      <td>0.011055</td>\n",
       "      <td>-2.525678</td>\n",
       "      <td>-0.759766</td>\n",
       "      <td>-0.078125</td>\n",
       "      <td>0.671875</td>\n",
       "      <td>10.258125</td>\n",
       "      <td>32.15</td>\n",
       "    </tr>\n",
       "    <tr>\n",
       "      <th>14</th>\n",
       "      <td>1</td>\n",
       "      <td>78</td>\n",
       "      <td>m</td>\n",
       "      <td>34</td>\n",
       "      <td>182</td>\n",
       "      <td>3</td>\n",
       "      <td>6</td>\n",
       "      <td>0.0</td>\n",
       "      <td>50.323992</td>\n",
       "      <td>0.848383</td>\n",
       "      <td>-0.065248</td>\n",
       "      <td>-0.375989</td>\n",
       "      <td>-0.135380</td>\n",
       "      <td>-2.297974</td>\n",
       "      <td>-0.755859</td>\n",
       "      <td>-0.078125</td>\n",
       "      <td>0.671875</td>\n",
       "      <td>30.864375</td>\n",
       "      <td>32.15</td>\n",
       "    </tr>\n",
       "    <tr>\n",
       "      <th>15</th>\n",
       "      <td>1</td>\n",
       "      <td>78</td>\n",
       "      <td>m</td>\n",
       "      <td>34</td>\n",
       "      <td>182</td>\n",
       "      <td>3</td>\n",
       "      <td>6</td>\n",
       "      <td>0.0</td>\n",
       "      <td>50.323992</td>\n",
       "      <td>0.875522</td>\n",
       "      <td>-0.057907</td>\n",
       "      <td>-0.362584</td>\n",
       "      <td>-0.019439</td>\n",
       "      <td>-1.977949</td>\n",
       "      <td>-0.832031</td>\n",
       "      <td>-0.064453</td>\n",
       "      <td>0.738281</td>\n",
       "      <td>17.435000</td>\n",
       "      <td>32.15</td>\n",
       "    </tr>\n",
       "    <tr>\n",
       "      <th>16</th>\n",
       "      <td>1</td>\n",
       "      <td>78</td>\n",
       "      <td>m</td>\n",
       "      <td>34</td>\n",
       "      <td>182</td>\n",
       "      <td>3</td>\n",
       "      <td>6</td>\n",
       "      <td>0.0</td>\n",
       "      <td>52.708336</td>\n",
       "      <td>0.865350</td>\n",
       "      <td>-0.093753</td>\n",
       "      <td>-0.345545</td>\n",
       "      <td>0.028982</td>\n",
       "      <td>-1.243461</td>\n",
       "      <td>-0.835938</td>\n",
       "      <td>-0.169922</td>\n",
       "      <td>0.375000</td>\n",
       "      <td>-4.821875</td>\n",
       "      <td>32.15</td>\n",
       "    </tr>\n",
       "    <tr>\n",
       "      <th>17</th>\n",
       "      <td>1</td>\n",
       "      <td>78</td>\n",
       "      <td>m</td>\n",
       "      <td>34</td>\n",
       "      <td>182</td>\n",
       "      <td>3</td>\n",
       "      <td>6</td>\n",
       "      <td>0.0</td>\n",
       "      <td>52.708336</td>\n",
       "      <td>0.860162</td>\n",
       "      <td>-0.036952</td>\n",
       "      <td>-0.288294</td>\n",
       "      <td>0.097250</td>\n",
       "      <td>-0.319536</td>\n",
       "      <td>-0.906250</td>\n",
       "      <td>-0.259766</td>\n",
       "      <td>0.296875</td>\n",
       "      <td>-35.417500</td>\n",
       "      <td>32.15</td>\n",
       "    </tr>\n",
       "    <tr>\n",
       "      <th>18</th>\n",
       "      <td>1</td>\n",
       "      <td>78</td>\n",
       "      <td>m</td>\n",
       "      <td>34</td>\n",
       "      <td>182</td>\n",
       "      <td>3</td>\n",
       "      <td>6</td>\n",
       "      <td>0.0</td>\n",
       "      <td>52.708336</td>\n",
       "      <td>0.839962</td>\n",
       "      <td>-0.057024</td>\n",
       "      <td>-0.310743</td>\n",
       "      <td>0.151247</td>\n",
       "      <td>0.639832</td>\n",
       "      <td>-1.072266</td>\n",
       "      <td>-0.162109</td>\n",
       "      <td>0.187500</td>\n",
       "      <td>-21.785000</td>\n",
       "      <td>32.15</td>\n",
       "    </tr>\n",
       "    <tr>\n",
       "      <th>19</th>\n",
       "      <td>1</td>\n",
       "      <td>78</td>\n",
       "      <td>m</td>\n",
       "      <td>34</td>\n",
       "      <td>182</td>\n",
       "      <td>3</td>\n",
       "      <td>6</td>\n",
       "      <td>0.0</td>\n",
       "      <td>52.708336</td>\n",
       "      <td>0.896258</td>\n",
       "      <td>-0.091599</td>\n",
       "      <td>-0.279538</td>\n",
       "      <td>-0.220004</td>\n",
       "      <td>0.371059</td>\n",
       "      <td>-0.869141</td>\n",
       "      <td>-0.419922</td>\n",
       "      <td>0.080078</td>\n",
       "      <td>74.670000</td>\n",
       "      <td>32.15</td>\n",
       "    </tr>\n",
       "    <tr>\n",
       "      <th>20</th>\n",
       "      <td>1</td>\n",
       "      <td>78</td>\n",
       "      <td>m</td>\n",
       "      <td>34</td>\n",
       "      <td>182</td>\n",
       "      <td>3</td>\n",
       "      <td>6</td>\n",
       "      <td>0.0</td>\n",
       "      <td>52.708336</td>\n",
       "      <td>0.875751</td>\n",
       "      <td>-0.066258</td>\n",
       "      <td>-0.317931</td>\n",
       "      <td>-0.072209</td>\n",
       "      <td>0.732840</td>\n",
       "      <td>-0.880859</td>\n",
       "      <td>-0.486328</td>\n",
       "      <td>0.210938</td>\n",
       "      <td>108.626875</td>\n",
       "      <td>32.15</td>\n",
       "    </tr>\n",
       "    <tr>\n",
       "      <th>21</th>\n",
       "      <td>1</td>\n",
       "      <td>78</td>\n",
       "      <td>m</td>\n",
       "      <td>34</td>\n",
       "      <td>182</td>\n",
       "      <td>3</td>\n",
       "      <td>6</td>\n",
       "      <td>0.0</td>\n",
       "      <td>52.708336</td>\n",
       "      <td>0.861027</td>\n",
       "      <td>-0.077419</td>\n",
       "      <td>-0.357689</td>\n",
       "      <td>0.000539</td>\n",
       "      <td>1.646136</td>\n",
       "      <td>-0.767578</td>\n",
       "      <td>-0.488281</td>\n",
       "      <td>0.335938</td>\n",
       "      <td>-110.475000</td>\n",
       "      <td>32.15</td>\n",
       "    </tr>\n",
       "    <tr>\n",
       "      <th>22</th>\n",
       "      <td>1</td>\n",
       "      <td>78</td>\n",
       "      <td>m</td>\n",
       "      <td>34</td>\n",
       "      <td>182</td>\n",
       "      <td>3</td>\n",
       "      <td>6</td>\n",
       "      <td>0.0</td>\n",
       "      <td>52.708336</td>\n",
       "      <td>0.836178</td>\n",
       "      <td>-0.040602</td>\n",
       "      <td>-0.382854</td>\n",
       "      <td>0.105364</td>\n",
       "      <td>1.424168</td>\n",
       "      <td>-0.800781</td>\n",
       "      <td>-0.449219</td>\n",
       "      <td>0.474609</td>\n",
       "      <td>-59.528125</td>\n",
       "      <td>32.15</td>\n",
       "    </tr>\n",
       "    <tr>\n",
       "      <th>23</th>\n",
       "      <td>1</td>\n",
       "      <td>78</td>\n",
       "      <td>m</td>\n",
       "      <td>34</td>\n",
       "      <td>182</td>\n",
       "      <td>3</td>\n",
       "      <td>6</td>\n",
       "      <td>0.0</td>\n",
       "      <td>52.708336</td>\n",
       "      <td>0.862327</td>\n",
       "      <td>-0.045682</td>\n",
       "      <td>-0.344133</td>\n",
       "      <td>0.079459</td>\n",
       "      <td>0.726815</td>\n",
       "      <td>-0.837891</td>\n",
       "      <td>-0.462891</td>\n",
       "      <td>0.341797</td>\n",
       "      <td>-105.866875</td>\n",
       "      <td>32.15</td>\n",
       "    </tr>\n",
       "    <tr>\n",
       "      <th>24</th>\n",
       "      <td>1</td>\n",
       "      <td>78</td>\n",
       "      <td>m</td>\n",
       "      <td>34</td>\n",
       "      <td>182</td>\n",
       "      <td>3</td>\n",
       "      <td>6</td>\n",
       "      <td>0.0</td>\n",
       "      <td>55.640794</td>\n",
       "      <td>0.857360</td>\n",
       "      <td>-0.075017</td>\n",
       "      <td>-0.339330</td>\n",
       "      <td>-0.149805</td>\n",
       "      <td>0.187753</td>\n",
       "      <td>-0.833984</td>\n",
       "      <td>-0.312500</td>\n",
       "      <td>0.330078</td>\n",
       "      <td>-51.082500</td>\n",
       "      <td>32.15</td>\n",
       "    </tr>\n",
       "    <tr>\n",
       "      <th>25</th>\n",
       "      <td>1</td>\n",
       "      <td>78</td>\n",
       "      <td>m</td>\n",
       "      <td>34</td>\n",
       "      <td>182</td>\n",
       "      <td>3</td>\n",
       "      <td>6</td>\n",
       "      <td>0.0</td>\n",
       "      <td>55.640794</td>\n",
       "      <td>0.887529</td>\n",
       "      <td>-0.085578</td>\n",
       "      <td>-0.264097</td>\n",
       "      <td>-0.023052</td>\n",
       "      <td>0.076346</td>\n",
       "      <td>-0.978516</td>\n",
       "      <td>-0.226562</td>\n",
       "      <td>0.298828</td>\n",
       "      <td>110.286250</td>\n",
       "      <td>32.13</td>\n",
       "    </tr>\n",
       "    <tr>\n",
       "      <th>26</th>\n",
       "      <td>1</td>\n",
       "      <td>78</td>\n",
       "      <td>m</td>\n",
       "      <td>34</td>\n",
       "      <td>182</td>\n",
       "      <td>3</td>\n",
       "      <td>6</td>\n",
       "      <td>0.0</td>\n",
       "      <td>55.640794</td>\n",
       "      <td>0.877170</td>\n",
       "      <td>-0.073688</td>\n",
       "      <td>-0.278190</td>\n",
       "      <td>0.032590</td>\n",
       "      <td>0.395211</td>\n",
       "      <td>-1.000000</td>\n",
       "      <td>-0.181641</td>\n",
       "      <td>0.199219</td>\n",
       "      <td>112.145625</td>\n",
       "      <td>32.13</td>\n",
       "    </tr>\n",
       "    <tr>\n",
       "      <th>27</th>\n",
       "      <td>1</td>\n",
       "      <td>78</td>\n",
       "      <td>m</td>\n",
       "      <td>34</td>\n",
       "      <td>182</td>\n",
       "      <td>3</td>\n",
       "      <td>6</td>\n",
       "      <td>0.0</td>\n",
       "      <td>55.640794</td>\n",
       "      <td>0.891912</td>\n",
       "      <td>-0.083240</td>\n",
       "      <td>-0.244237</td>\n",
       "      <td>0.124832</td>\n",
       "      <td>0.431013</td>\n",
       "      <td>-1.017578</td>\n",
       "      <td>-0.126953</td>\n",
       "      <td>0.152344</td>\n",
       "      <td>-18.624375</td>\n",
       "      <td>32.13</td>\n",
       "    </tr>\n",
       "    <tr>\n",
       "      <th>28</th>\n",
       "      <td>1</td>\n",
       "      <td>78</td>\n",
       "      <td>m</td>\n",
       "      <td>34</td>\n",
       "      <td>182</td>\n",
       "      <td>3</td>\n",
       "      <td>6</td>\n",
       "      <td>0.0</td>\n",
       "      <td>55.640794</td>\n",
       "      <td>0.894077</td>\n",
       "      <td>-0.057826</td>\n",
       "      <td>-0.251440</td>\n",
       "      <td>-0.017972</td>\n",
       "      <td>0.431920</td>\n",
       "      <td>-1.003906</td>\n",
       "      <td>-0.130859</td>\n",
       "      <td>0.134766</td>\n",
       "      <td>-99.406875</td>\n",
       "      <td>32.13</td>\n",
       "    </tr>\n",
       "    <tr>\n",
       "      <th>29</th>\n",
       "      <td>1</td>\n",
       "      <td>78</td>\n",
       "      <td>m</td>\n",
       "      <td>34</td>\n",
       "      <td>182</td>\n",
       "      <td>3</td>\n",
       "      <td>6</td>\n",
       "      <td>0.0</td>\n",
       "      <td>55.640794</td>\n",
       "      <td>0.888249</td>\n",
       "      <td>-0.046453</td>\n",
       "      <td>-0.249119</td>\n",
       "      <td>-0.120418</td>\n",
       "      <td>0.614790</td>\n",
       "      <td>-0.992188</td>\n",
       "      <td>-0.068359</td>\n",
       "      <td>0.144531</td>\n",
       "      <td>-8.011250</td>\n",
       "      <td>32.15</td>\n",
       "    </tr>\n",
       "    <tr>\n",
       "      <th>...</th>\n",
       "      <td>...</td>\n",
       "      <td>...</td>\n",
       "      <td>...</td>\n",
       "      <td>...</td>\n",
       "      <td>...</td>\n",
       "      <td>...</td>\n",
       "      <td>...</td>\n",
       "      <td>...</td>\n",
       "      <td>...</td>\n",
       "      <td>...</td>\n",
       "      <td>...</td>\n",
       "      <td>...</td>\n",
       "      <td>...</td>\n",
       "      <td>...</td>\n",
       "      <td>...</td>\n",
       "      <td>...</td>\n",
       "      <td>...</td>\n",
       "      <td>...</td>\n",
       "      <td>...</td>\n",
       "    </tr>\n",
       "    <tr>\n",
       "      <th>31726</th>\n",
       "      <td>15</td>\n",
       "      <td>79</td>\n",
       "      <td>m</td>\n",
       "      <td>28</td>\n",
       "      <td>183</td>\n",
       "      <td>2</td>\n",
       "      <td>5</td>\n",
       "      <td>0.0</td>\n",
       "      <td>80.853007</td>\n",
       "      <td>0.892984</td>\n",
       "      <td>0.015378</td>\n",
       "      <td>-0.226602</td>\n",
       "      <td>0.027098</td>\n",
       "      <td>-0.262198</td>\n",
       "      <td>-0.697266</td>\n",
       "      <td>0.167969</td>\n",
       "      <td>0.441406</td>\n",
       "      <td>14.191250</td>\n",
       "      <td>34.00</td>\n",
       "    </tr>\n",
       "    <tr>\n",
       "      <th>31727</th>\n",
       "      <td>15</td>\n",
       "      <td>79</td>\n",
       "      <td>m</td>\n",
       "      <td>28</td>\n",
       "      <td>183</td>\n",
       "      <td>2</td>\n",
       "      <td>5</td>\n",
       "      <td>0.0</td>\n",
       "      <td>80.853007</td>\n",
       "      <td>0.891616</td>\n",
       "      <td>0.015399</td>\n",
       "      <td>-0.230031</td>\n",
       "      <td>-0.149866</td>\n",
       "      <td>0.568359</td>\n",
       "      <td>-1.066406</td>\n",
       "      <td>0.298828</td>\n",
       "      <td>-0.455078</td>\n",
       "      <td>-13.876250</td>\n",
       "      <td>34.00</td>\n",
       "    </tr>\n",
       "    <tr>\n",
       "      <th>31728</th>\n",
       "      <td>15</td>\n",
       "      <td>79</td>\n",
       "      <td>m</td>\n",
       "      <td>28</td>\n",
       "      <td>183</td>\n",
       "      <td>2</td>\n",
       "      <td>5</td>\n",
       "      <td>0.0</td>\n",
       "      <td>79.664230</td>\n",
       "      <td>0.891182</td>\n",
       "      <td>0.014858</td>\n",
       "      <td>-0.228905</td>\n",
       "      <td>0.052159</td>\n",
       "      <td>1.295524</td>\n",
       "      <td>-1.054688</td>\n",
       "      <td>-0.115234</td>\n",
       "      <td>0.083984</td>\n",
       "      <td>-14.053125</td>\n",
       "      <td>33.99</td>\n",
       "    </tr>\n",
       "    <tr>\n",
       "      <th>31729</th>\n",
       "      <td>15</td>\n",
       "      <td>79</td>\n",
       "      <td>m</td>\n",
       "      <td>28</td>\n",
       "      <td>183</td>\n",
       "      <td>2</td>\n",
       "      <td>5</td>\n",
       "      <td>0.0</td>\n",
       "      <td>79.664230</td>\n",
       "      <td>0.881602</td>\n",
       "      <td>0.028042</td>\n",
       "      <td>-0.196783</td>\n",
       "      <td>0.098479</td>\n",
       "      <td>1.610360</td>\n",
       "      <td>-0.228516</td>\n",
       "      <td>0.046875</td>\n",
       "      <td>0.824219</td>\n",
       "      <td>-12.603750</td>\n",
       "      <td>33.99</td>\n",
       "    </tr>\n",
       "    <tr>\n",
       "      <th>31730</th>\n",
       "      <td>15</td>\n",
       "      <td>79</td>\n",
       "      <td>m</td>\n",
       "      <td>28</td>\n",
       "      <td>183</td>\n",
       "      <td>2</td>\n",
       "      <td>5</td>\n",
       "      <td>0.0</td>\n",
       "      <td>79.664230</td>\n",
       "      <td>0.917600</td>\n",
       "      <td>0.020735</td>\n",
       "      <td>-0.173027</td>\n",
       "      <td>-0.067987</td>\n",
       "      <td>1.167742</td>\n",
       "      <td>-0.273438</td>\n",
       "      <td>0.019531</td>\n",
       "      <td>0.955078</td>\n",
       "      <td>-13.898750</td>\n",
       "      <td>33.99</td>\n",
       "    </tr>\n",
       "    <tr>\n",
       "      <th>31731</th>\n",
       "      <td>15</td>\n",
       "      <td>79</td>\n",
       "      <td>m</td>\n",
       "      <td>28</td>\n",
       "      <td>183</td>\n",
       "      <td>2</td>\n",
       "      <td>5</td>\n",
       "      <td>0.0</td>\n",
       "      <td>79.664230</td>\n",
       "      <td>0.874753</td>\n",
       "      <td>0.017560</td>\n",
       "      <td>-0.212190</td>\n",
       "      <td>0.116314</td>\n",
       "      <td>-0.040615</td>\n",
       "      <td>-0.253906</td>\n",
       "      <td>0.005859</td>\n",
       "      <td>0.939453</td>\n",
       "      <td>67.853750</td>\n",
       "      <td>33.99</td>\n",
       "    </tr>\n",
       "    <tr>\n",
       "      <th>31732</th>\n",
       "      <td>15</td>\n",
       "      <td>79</td>\n",
       "      <td>m</td>\n",
       "      <td>28</td>\n",
       "      <td>183</td>\n",
       "      <td>2</td>\n",
       "      <td>5</td>\n",
       "      <td>0.0</td>\n",
       "      <td>79.664230</td>\n",
       "      <td>0.895957</td>\n",
       "      <td>0.032169</td>\n",
       "      <td>-0.178170</td>\n",
       "      <td>0.116551</td>\n",
       "      <td>-1.390773</td>\n",
       "      <td>-0.246094</td>\n",
       "      <td>0.037109</td>\n",
       "      <td>0.957031</td>\n",
       "      <td>-22.895625</td>\n",
       "      <td>33.99</td>\n",
       "    </tr>\n",
       "    <tr>\n",
       "      <th>31733</th>\n",
       "      <td>15</td>\n",
       "      <td>79</td>\n",
       "      <td>m</td>\n",
       "      <td>28</td>\n",
       "      <td>183</td>\n",
       "      <td>2</td>\n",
       "      <td>5</td>\n",
       "      <td>0.0</td>\n",
       "      <td>79.664230</td>\n",
       "      <td>0.901486</td>\n",
       "      <td>0.022885</td>\n",
       "      <td>-0.192530</td>\n",
       "      <td>-0.090502</td>\n",
       "      <td>-2.496268</td>\n",
       "      <td>-0.240234</td>\n",
       "      <td>0.017578</td>\n",
       "      <td>0.947266</td>\n",
       "      <td>34.099375</td>\n",
       "      <td>33.99</td>\n",
       "    </tr>\n",
       "    <tr>\n",
       "      <th>31734</th>\n",
       "      <td>15</td>\n",
       "      <td>79</td>\n",
       "      <td>m</td>\n",
       "      <td>28</td>\n",
       "      <td>183</td>\n",
       "      <td>2</td>\n",
       "      <td>5</td>\n",
       "      <td>0.0</td>\n",
       "      <td>79.664230</td>\n",
       "      <td>0.898661</td>\n",
       "      <td>0.031704</td>\n",
       "      <td>-0.200032</td>\n",
       "      <td>0.019986</td>\n",
       "      <td>-3.371286</td>\n",
       "      <td>-0.251953</td>\n",
       "      <td>0.017578</td>\n",
       "      <td>0.947266</td>\n",
       "      <td>-41.079375</td>\n",
       "      <td>33.99</td>\n",
       "    </tr>\n",
       "    <tr>\n",
       "      <th>31735</th>\n",
       "      <td>15</td>\n",
       "      <td>79</td>\n",
       "      <td>m</td>\n",
       "      <td>28</td>\n",
       "      <td>183</td>\n",
       "      <td>2</td>\n",
       "      <td>5</td>\n",
       "      <td>0.0</td>\n",
       "      <td>79.664230</td>\n",
       "      <td>0.895493</td>\n",
       "      <td>0.024632</td>\n",
       "      <td>-0.201752</td>\n",
       "      <td>0.084626</td>\n",
       "      <td>-3.179051</td>\n",
       "      <td>-0.253906</td>\n",
       "      <td>0.005859</td>\n",
       "      <td>0.958984</td>\n",
       "      <td>-2.126875</td>\n",
       "      <td>33.99</td>\n",
       "    </tr>\n",
       "    <tr>\n",
       "      <th>31736</th>\n",
       "      <td>15</td>\n",
       "      <td>79</td>\n",
       "      <td>m</td>\n",
       "      <td>28</td>\n",
       "      <td>183</td>\n",
       "      <td>2</td>\n",
       "      <td>5</td>\n",
       "      <td>0.0</td>\n",
       "      <td>79.664230</td>\n",
       "      <td>0.896449</td>\n",
       "      <td>0.025639</td>\n",
       "      <td>-0.203514</td>\n",
       "      <td>-0.192143</td>\n",
       "      <td>-1.606602</td>\n",
       "      <td>-0.253906</td>\n",
       "      <td>0.011719</td>\n",
       "      <td>0.949219</td>\n",
       "      <td>-7.880000</td>\n",
       "      <td>33.99</td>\n",
       "    </tr>\n",
       "    <tr>\n",
       "      <th>31737</th>\n",
       "      <td>15</td>\n",
       "      <td>79</td>\n",
       "      <td>m</td>\n",
       "      <td>28</td>\n",
       "      <td>183</td>\n",
       "      <td>2</td>\n",
       "      <td>5</td>\n",
       "      <td>0.0</td>\n",
       "      <td>79.664230</td>\n",
       "      <td>0.895537</td>\n",
       "      <td>0.019741</td>\n",
       "      <td>-0.204318</td>\n",
       "      <td>-0.086073</td>\n",
       "      <td>0.440194</td>\n",
       "      <td>-0.257812</td>\n",
       "      <td>0.019531</td>\n",
       "      <td>0.962891</td>\n",
       "      <td>0.130000</td>\n",
       "      <td>33.99</td>\n",
       "    </tr>\n",
       "    <tr>\n",
       "      <th>31738</th>\n",
       "      <td>15</td>\n",
       "      <td>79</td>\n",
       "      <td>m</td>\n",
       "      <td>28</td>\n",
       "      <td>183</td>\n",
       "      <td>2</td>\n",
       "      <td>5</td>\n",
       "      <td>0.0</td>\n",
       "      <td>79.664230</td>\n",
       "      <td>0.897280</td>\n",
       "      <td>0.019643</td>\n",
       "      <td>-0.205576</td>\n",
       "      <td>0.183111</td>\n",
       "      <td>2.254107</td>\n",
       "      <td>-0.240234</td>\n",
       "      <td>0.015625</td>\n",
       "      <td>0.933594</td>\n",
       "      <td>14.740000</td>\n",
       "      <td>33.99</td>\n",
       "    </tr>\n",
       "    <tr>\n",
       "      <th>31739</th>\n",
       "      <td>15</td>\n",
       "      <td>79</td>\n",
       "      <td>m</td>\n",
       "      <td>28</td>\n",
       "      <td>183</td>\n",
       "      <td>2</td>\n",
       "      <td>5</td>\n",
       "      <td>0.0</td>\n",
       "      <td>79.664230</td>\n",
       "      <td>0.897944</td>\n",
       "      <td>0.020725</td>\n",
       "      <td>-0.202354</td>\n",
       "      <td>-0.161368</td>\n",
       "      <td>3.017909</td>\n",
       "      <td>-0.250000</td>\n",
       "      <td>0.021484</td>\n",
       "      <td>0.962891</td>\n",
       "      <td>-8.952500</td>\n",
       "      <td>33.99</td>\n",
       "    </tr>\n",
       "    <tr>\n",
       "      <th>31740</th>\n",
       "      <td>15</td>\n",
       "      <td>79</td>\n",
       "      <td>m</td>\n",
       "      <td>28</td>\n",
       "      <td>183</td>\n",
       "      <td>2</td>\n",
       "      <td>5</td>\n",
       "      <td>0.0</td>\n",
       "      <td>79.664230</td>\n",
       "      <td>0.897945</td>\n",
       "      <td>0.020448</td>\n",
       "      <td>-0.203021</td>\n",
       "      <td>-0.010868</td>\n",
       "      <td>2.432539</td>\n",
       "      <td>-0.242188</td>\n",
       "      <td>0.011719</td>\n",
       "      <td>0.949219</td>\n",
       "      <td>4.181250</td>\n",
       "      <td>34.00</td>\n",
       "    </tr>\n",
       "    <tr>\n",
       "      <th>31741</th>\n",
       "      <td>15</td>\n",
       "      <td>79</td>\n",
       "      <td>m</td>\n",
       "      <td>28</td>\n",
       "      <td>183</td>\n",
       "      <td>2</td>\n",
       "      <td>5</td>\n",
       "      <td>0.0</td>\n",
       "      <td>79.664230</td>\n",
       "      <td>0.896747</td>\n",
       "      <td>0.020778</td>\n",
       "      <td>-0.207638</td>\n",
       "      <td>0.160603</td>\n",
       "      <td>1.280997</td>\n",
       "      <td>-0.191406</td>\n",
       "      <td>0.009766</td>\n",
       "      <td>0.509766</td>\n",
       "      <td>10.438125</td>\n",
       "      <td>34.00</td>\n",
       "    </tr>\n",
       "    <tr>\n",
       "      <th>31742</th>\n",
       "      <td>15</td>\n",
       "      <td>79</td>\n",
       "      <td>m</td>\n",
       "      <td>28</td>\n",
       "      <td>183</td>\n",
       "      <td>2</td>\n",
       "      <td>5</td>\n",
       "      <td>0.0</td>\n",
       "      <td>79.664230</td>\n",
       "      <td>0.897397</td>\n",
       "      <td>0.021864</td>\n",
       "      <td>-0.206745</td>\n",
       "      <td>-0.121872</td>\n",
       "      <td>0.001657</td>\n",
       "      <td>-0.847656</td>\n",
       "      <td>0.609375</td>\n",
       "      <td>0.236328</td>\n",
       "      <td>-18.111875</td>\n",
       "      <td>34.00</td>\n",
       "    </tr>\n",
       "    <tr>\n",
       "      <th>31743</th>\n",
       "      <td>15</td>\n",
       "      <td>79</td>\n",
       "      <td>m</td>\n",
       "      <td>28</td>\n",
       "      <td>183</td>\n",
       "      <td>2</td>\n",
       "      <td>5</td>\n",
       "      <td>0.0</td>\n",
       "      <td>79.664230</td>\n",
       "      <td>0.897357</td>\n",
       "      <td>0.022410</td>\n",
       "      <td>-0.201846</td>\n",
       "      <td>0.002710</td>\n",
       "      <td>-0.996852</td>\n",
       "      <td>-0.650391</td>\n",
       "      <td>1.210938</td>\n",
       "      <td>0.378906</td>\n",
       "      <td>8.884375</td>\n",
       "      <td>34.00</td>\n",
       "    </tr>\n",
       "    <tr>\n",
       "      <th>31744</th>\n",
       "      <td>15</td>\n",
       "      <td>79</td>\n",
       "      <td>m</td>\n",
       "      <td>28</td>\n",
       "      <td>183</td>\n",
       "      <td>2</td>\n",
       "      <td>5</td>\n",
       "      <td>0.0</td>\n",
       "      <td>79.664230</td>\n",
       "      <td>0.896982</td>\n",
       "      <td>0.022335</td>\n",
       "      <td>-0.202762</td>\n",
       "      <td>0.128221</td>\n",
       "      <td>-1.359018</td>\n",
       "      <td>-0.644531</td>\n",
       "      <td>0.851562</td>\n",
       "      <td>0.039062</td>\n",
       "      <td>6.691875</td>\n",
       "      <td>33.99</td>\n",
       "    </tr>\n",
       "    <tr>\n",
       "      <th>31745</th>\n",
       "      <td>15</td>\n",
       "      <td>79</td>\n",
       "      <td>m</td>\n",
       "      <td>28</td>\n",
       "      <td>183</td>\n",
       "      <td>2</td>\n",
       "      <td>5</td>\n",
       "      <td>0.0</td>\n",
       "      <td>79.664230</td>\n",
       "      <td>0.896223</td>\n",
       "      <td>0.029703</td>\n",
       "      <td>-0.206515</td>\n",
       "      <td>-0.151076</td>\n",
       "      <td>-1.378435</td>\n",
       "      <td>-0.470703</td>\n",
       "      <td>0.921875</td>\n",
       "      <td>0.095703</td>\n",
       "      <td>-32.196250</td>\n",
       "      <td>33.99</td>\n",
       "    </tr>\n",
       "    <tr>\n",
       "      <th>31746</th>\n",
       "      <td>15</td>\n",
       "      <td>79</td>\n",
       "      <td>m</td>\n",
       "      <td>28</td>\n",
       "      <td>183</td>\n",
       "      <td>2</td>\n",
       "      <td>5</td>\n",
       "      <td>0.0</td>\n",
       "      <td>79.664230</td>\n",
       "      <td>0.885914</td>\n",
       "      <td>0.040470</td>\n",
       "      <td>-0.239301</td>\n",
       "      <td>-0.038106</td>\n",
       "      <td>-1.029018</td>\n",
       "      <td>-0.455078</td>\n",
       "      <td>0.822266</td>\n",
       "      <td>0.068359</td>\n",
       "      <td>-23.476875</td>\n",
       "      <td>33.99</td>\n",
       "    </tr>\n",
       "    <tr>\n",
       "      <th>31747</th>\n",
       "      <td>15</td>\n",
       "      <td>79</td>\n",
       "      <td>m</td>\n",
       "      <td>28</td>\n",
       "      <td>183</td>\n",
       "      <td>2</td>\n",
       "      <td>5</td>\n",
       "      <td>0.0</td>\n",
       "      <td>79.664230</td>\n",
       "      <td>0.897527</td>\n",
       "      <td>0.019464</td>\n",
       "      <td>-0.243633</td>\n",
       "      <td>0.097073</td>\n",
       "      <td>0.548880</td>\n",
       "      <td>-0.496094</td>\n",
       "      <td>0.890625</td>\n",
       "      <td>0.068359</td>\n",
       "      <td>-19.843125</td>\n",
       "      <td>33.99</td>\n",
       "    </tr>\n",
       "    <tr>\n",
       "      <th>31748</th>\n",
       "      <td>15</td>\n",
       "      <td>79</td>\n",
       "      <td>m</td>\n",
       "      <td>28</td>\n",
       "      <td>183</td>\n",
       "      <td>2</td>\n",
       "      <td>5</td>\n",
       "      <td>0.0</td>\n",
       "      <td>79.664230</td>\n",
       "      <td>0.880653</td>\n",
       "      <td>-0.017781</td>\n",
       "      <td>-0.255127</td>\n",
       "      <td>-0.166376</td>\n",
       "      <td>2.785924</td>\n",
       "      <td>-0.492188</td>\n",
       "      <td>0.886719</td>\n",
       "      <td>0.085938</td>\n",
       "      <td>48.166250</td>\n",
       "      <td>33.99</td>\n",
       "    </tr>\n",
       "    <tr>\n",
       "      <th>31749</th>\n",
       "      <td>15</td>\n",
       "      <td>79</td>\n",
       "      <td>m</td>\n",
       "      <td>28</td>\n",
       "      <td>183</td>\n",
       "      <td>2</td>\n",
       "      <td>5</td>\n",
       "      <td>0.0</td>\n",
       "      <td>79.664230</td>\n",
       "      <td>0.896769</td>\n",
       "      <td>-0.017253</td>\n",
       "      <td>-0.228310</td>\n",
       "      <td>-0.033121</td>\n",
       "      <td>3.934806</td>\n",
       "      <td>-0.470703</td>\n",
       "      <td>0.876953</td>\n",
       "      <td>0.095703</td>\n",
       "      <td>36.986250</td>\n",
       "      <td>33.99</td>\n",
       "    </tr>\n",
       "    <tr>\n",
       "      <th>31750</th>\n",
       "      <td>15</td>\n",
       "      <td>79</td>\n",
       "      <td>m</td>\n",
       "      <td>28</td>\n",
       "      <td>183</td>\n",
       "      <td>2</td>\n",
       "      <td>5</td>\n",
       "      <td>0.0</td>\n",
       "      <td>79.664230</td>\n",
       "      <td>0.889443</td>\n",
       "      <td>0.000747</td>\n",
       "      <td>-0.242222</td>\n",
       "      <td>0.142447</td>\n",
       "      <td>3.570190</td>\n",
       "      <td>-0.466797</td>\n",
       "      <td>0.865234</td>\n",
       "      <td>0.080078</td>\n",
       "      <td>4.733750</td>\n",
       "      <td>33.99</td>\n",
       "    </tr>\n",
       "    <tr>\n",
       "      <th>31751</th>\n",
       "      <td>15</td>\n",
       "      <td>79</td>\n",
       "      <td>m</td>\n",
       "      <td>28</td>\n",
       "      <td>183</td>\n",
       "      <td>2</td>\n",
       "      <td>5</td>\n",
       "      <td>0.0</td>\n",
       "      <td>79.664230</td>\n",
       "      <td>0.891137</td>\n",
       "      <td>-0.003744</td>\n",
       "      <td>-0.235411</td>\n",
       "      <td>-0.153640</td>\n",
       "      <td>1.664638</td>\n",
       "      <td>-0.515625</td>\n",
       "      <td>0.863281</td>\n",
       "      <td>0.140625</td>\n",
       "      <td>-19.655000</td>\n",
       "      <td>33.99</td>\n",
       "    </tr>\n",
       "    <tr>\n",
       "      <th>31752</th>\n",
       "      <td>15</td>\n",
       "      <td>79</td>\n",
       "      <td>m</td>\n",
       "      <td>28</td>\n",
       "      <td>183</td>\n",
       "      <td>2</td>\n",
       "      <td>5</td>\n",
       "      <td>0.0</td>\n",
       "      <td>79.664230</td>\n",
       "      <td>0.899386</td>\n",
       "      <td>-0.015863</td>\n",
       "      <td>-0.220926</td>\n",
       "      <td>-0.007924</td>\n",
       "      <td>-0.338684</td>\n",
       "      <td>-0.656250</td>\n",
       "      <td>0.716797</td>\n",
       "      <td>-0.304688</td>\n",
       "      <td>21.031250</td>\n",
       "      <td>33.99</td>\n",
       "    </tr>\n",
       "    <tr>\n",
       "      <th>31753</th>\n",
       "      <td>15</td>\n",
       "      <td>79</td>\n",
       "      <td>m</td>\n",
       "      <td>28</td>\n",
       "      <td>183</td>\n",
       "      <td>2</td>\n",
       "      <td>5</td>\n",
       "      <td>0.0</td>\n",
       "      <td>79.664230</td>\n",
       "      <td>0.903733</td>\n",
       "      <td>-0.007829</td>\n",
       "      <td>-0.219377</td>\n",
       "      <td>0.117915</td>\n",
       "      <td>-1.616098</td>\n",
       "      <td>-0.449219</td>\n",
       "      <td>0.474609</td>\n",
       "      <td>-0.671875</td>\n",
       "      <td>9.114375</td>\n",
       "      <td>33.99</td>\n",
       "    </tr>\n",
       "    <tr>\n",
       "      <th>31754</th>\n",
       "      <td>15</td>\n",
       "      <td>79</td>\n",
       "      <td>m</td>\n",
       "      <td>28</td>\n",
       "      <td>183</td>\n",
       "      <td>2</td>\n",
       "      <td>5</td>\n",
       "      <td>0.0</td>\n",
       "      <td>79.664230</td>\n",
       "      <td>0.889470</td>\n",
       "      <td>0.015502</td>\n",
       "      <td>-0.211233</td>\n",
       "      <td>-0.184228</td>\n",
       "      <td>-2.403059</td>\n",
       "      <td>-0.404297</td>\n",
       "      <td>0.328125</td>\n",
       "      <td>-0.841797</td>\n",
       "      <td>-24.615625</td>\n",
       "      <td>33.99</td>\n",
       "    </tr>\n",
       "    <tr>\n",
       "      <th>31755</th>\n",
       "      <td>15</td>\n",
       "      <td>79</td>\n",
       "      <td>m</td>\n",
       "      <td>28</td>\n",
       "      <td>183</td>\n",
       "      <td>2</td>\n",
       "      <td>5</td>\n",
       "      <td>0.0</td>\n",
       "      <td>79.664230</td>\n",
       "      <td>0.902410</td>\n",
       "      <td>0.019365</td>\n",
       "      <td>-0.196662</td>\n",
       "      <td>-0.008447</td>\n",
       "      <td>-2.013620</td>\n",
       "      <td>-0.281250</td>\n",
       "      <td>0.283203</td>\n",
       "      <td>-0.906250</td>\n",
       "      <td>22.134375</td>\n",
       "      <td>33.99</td>\n",
       "    </tr>\n",
       "  </tbody>\n",
       "</table>\n",
       "<p>517956 rows × 19 columns</p>\n",
       "</div>"
      ],
      "text/plain": [
       "       ID WEIGHT Gender AGE HEIGHT SKIN SPORT  activity      label    xchest  \\\n",
       "0       1     78      m  34    182    3     6       0.0  49.611369  0.852157   \n",
       "1       1     78      m  34    182    3     6       0.0  49.611369  0.851262   \n",
       "2       1     78      m  34    182    3     6       0.0  49.611369  0.851570   \n",
       "3       1     78      m  34    182    3     6       0.0  49.611369  0.852142   \n",
       "4       1     78      m  34    182    3     6       0.0  49.611369  0.851958   \n",
       "5       1     78      m  34    182    3     6       0.0  49.611369  0.853454   \n",
       "6       1     78      m  34    182    3     6       0.0  49.611369  0.848446   \n",
       "7       1     78      m  34    182    3     6       0.0  49.611369  0.848849   \n",
       "8       1     78      m  34    182    3     6       0.0  50.323992  0.847730   \n",
       "9       1     78      m  34    182    3     6       0.0  50.323992  0.848426   \n",
       "10      1     78      m  34    182    3     6       0.0  50.323992  0.851305   \n",
       "11      1     78      m  34    182    3     6       0.0  50.323992  0.850046   \n",
       "12      1     78      m  34    182    3     6       0.0  50.323992  0.852839   \n",
       "13      1     78      m  34    182    3     6       0.0  50.323992  0.850029   \n",
       "14      1     78      m  34    182    3     6       0.0  50.323992  0.848383   \n",
       "15      1     78      m  34    182    3     6       0.0  50.323992  0.875522   \n",
       "16      1     78      m  34    182    3     6       0.0  52.708336  0.865350   \n",
       "17      1     78      m  34    182    3     6       0.0  52.708336  0.860162   \n",
       "18      1     78      m  34    182    3     6       0.0  52.708336  0.839962   \n",
       "19      1     78      m  34    182    3     6       0.0  52.708336  0.896258   \n",
       "20      1     78      m  34    182    3     6       0.0  52.708336  0.875751   \n",
       "21      1     78      m  34    182    3     6       0.0  52.708336  0.861027   \n",
       "22      1     78      m  34    182    3     6       0.0  52.708336  0.836178   \n",
       "23      1     78      m  34    182    3     6       0.0  52.708336  0.862327   \n",
       "24      1     78      m  34    182    3     6       0.0  55.640794  0.857360   \n",
       "25      1     78      m  34    182    3     6       0.0  55.640794  0.887529   \n",
       "26      1     78      m  34    182    3     6       0.0  55.640794  0.877170   \n",
       "27      1     78      m  34    182    3     6       0.0  55.640794  0.891912   \n",
       "28      1     78      m  34    182    3     6       0.0  55.640794  0.894077   \n",
       "29      1     78      m  34    182    3     6       0.0  55.640794  0.888249   \n",
       "...    ..    ...    ...  ..    ...  ...   ...       ...        ...       ...   \n",
       "31726  15     79      m  28    183    2     5       0.0  80.853007  0.892984   \n",
       "31727  15     79      m  28    183    2     5       0.0  80.853007  0.891616   \n",
       "31728  15     79      m  28    183    2     5       0.0  79.664230  0.891182   \n",
       "31729  15     79      m  28    183    2     5       0.0  79.664230  0.881602   \n",
       "31730  15     79      m  28    183    2     5       0.0  79.664230  0.917600   \n",
       "31731  15     79      m  28    183    2     5       0.0  79.664230  0.874753   \n",
       "31732  15     79      m  28    183    2     5       0.0  79.664230  0.895957   \n",
       "31733  15     79      m  28    183    2     5       0.0  79.664230  0.901486   \n",
       "31734  15     79      m  28    183    2     5       0.0  79.664230  0.898661   \n",
       "31735  15     79      m  28    183    2     5       0.0  79.664230  0.895493   \n",
       "31736  15     79      m  28    183    2     5       0.0  79.664230  0.896449   \n",
       "31737  15     79      m  28    183    2     5       0.0  79.664230  0.895537   \n",
       "31738  15     79      m  28    183    2     5       0.0  79.664230  0.897280   \n",
       "31739  15     79      m  28    183    2     5       0.0  79.664230  0.897944   \n",
       "31740  15     79      m  28    183    2     5       0.0  79.664230  0.897945   \n",
       "31741  15     79      m  28    183    2     5       0.0  79.664230  0.896747   \n",
       "31742  15     79      m  28    183    2     5       0.0  79.664230  0.897397   \n",
       "31743  15     79      m  28    183    2     5       0.0  79.664230  0.897357   \n",
       "31744  15     79      m  28    183    2     5       0.0  79.664230  0.896982   \n",
       "31745  15     79      m  28    183    2     5       0.0  79.664230  0.896223   \n",
       "31746  15     79      m  28    183    2     5       0.0  79.664230  0.885914   \n",
       "31747  15     79      m  28    183    2     5       0.0  79.664230  0.897527   \n",
       "31748  15     79      m  28    183    2     5       0.0  79.664230  0.880653   \n",
       "31749  15     79      m  28    183    2     5       0.0  79.664230  0.896769   \n",
       "31750  15     79      m  28    183    2     5       0.0  79.664230  0.889443   \n",
       "31751  15     79      m  28    183    2     5       0.0  79.664230  0.891137   \n",
       "31752  15     79      m  28    183    2     5       0.0  79.664230  0.899386   \n",
       "31753  15     79      m  28    183    2     5       0.0  79.664230  0.903733   \n",
       "31754  15     79      m  28    183    2     5       0.0  79.664230  0.889470   \n",
       "31755  15     79      m  28    183    2     5       0.0  79.664230  0.902410   \n",
       "\n",
       "         ychest    zchest       ecg      resp    xwrist    ywrist    zwrist  \\\n",
       "0     -0.066488 -0.367784  0.035650  4.834438 -0.763672 -0.076172  0.669922   \n",
       "1     -0.066655 -0.370442  0.103145  4.238839 -0.763672 -0.078125  0.671875   \n",
       "2     -0.064677 -0.370251  0.099101  2.058559 -0.761719 -0.078125  0.671875   \n",
       "3     -0.065486 -0.371278 -0.170757 -0.463981 -0.753906 -0.078125  0.671875   \n",
       "4     -0.065894 -0.370466 -0.036633 -1.867397 -0.761719 -0.076172  0.671875   \n",
       "5     -0.066655 -0.367393  0.027540 -1.400373 -0.763672 -0.078125  0.671875   \n",
       "6     -0.068993 -0.377715  0.119724  0.611511 -0.755859 -0.076172  0.673828   \n",
       "7     -0.063319 -0.363015  0.134410  2.554940 -0.765625 -0.070312  0.671875   \n",
       "8     -0.070083 -0.379448 -0.212572  2.310625 -0.751953 -0.078125  0.671875   \n",
       "9     -0.065433 -0.378317 -0.074286  0.124163 -0.755859 -0.078125  0.671875   \n",
       "10    -0.064755 -0.372001  0.011253 -1.979283 -0.761719 -0.076172  0.671875   \n",
       "11    -0.065035 -0.370826  0.024181 -2.932199 -0.759766 -0.078125  0.671875   \n",
       "12    -0.061807 -0.369928  0.098834 -2.916495 -0.755859 -0.078125  0.673828   \n",
       "13    -0.066958 -0.373975  0.011055 -2.525678 -0.759766 -0.078125  0.671875   \n",
       "14    -0.065248 -0.375989 -0.135380 -2.297974 -0.755859 -0.078125  0.671875   \n",
       "15    -0.057907 -0.362584 -0.019439 -1.977949 -0.832031 -0.064453  0.738281   \n",
       "16    -0.093753 -0.345545  0.028982 -1.243461 -0.835938 -0.169922  0.375000   \n",
       "17    -0.036952 -0.288294  0.097250 -0.319536 -0.906250 -0.259766  0.296875   \n",
       "18    -0.057024 -0.310743  0.151247  0.639832 -1.072266 -0.162109  0.187500   \n",
       "19    -0.091599 -0.279538 -0.220004  0.371059 -0.869141 -0.419922  0.080078   \n",
       "20    -0.066258 -0.317931 -0.072209  0.732840 -0.880859 -0.486328  0.210938   \n",
       "21    -0.077419 -0.357689  0.000539  1.646136 -0.767578 -0.488281  0.335938   \n",
       "22    -0.040602 -0.382854  0.105364  1.424168 -0.800781 -0.449219  0.474609   \n",
       "23    -0.045682 -0.344133  0.079459  0.726815 -0.837891 -0.462891  0.341797   \n",
       "24    -0.075017 -0.339330 -0.149805  0.187753 -0.833984 -0.312500  0.330078   \n",
       "25    -0.085578 -0.264097 -0.023052  0.076346 -0.978516 -0.226562  0.298828   \n",
       "26    -0.073688 -0.278190  0.032590  0.395211 -1.000000 -0.181641  0.199219   \n",
       "27    -0.083240 -0.244237  0.124832  0.431013 -1.017578 -0.126953  0.152344   \n",
       "28    -0.057826 -0.251440 -0.017972  0.431920 -1.003906 -0.130859  0.134766   \n",
       "29    -0.046453 -0.249119 -0.120418  0.614790 -0.992188 -0.068359  0.144531   \n",
       "...         ...       ...       ...       ...       ...       ...       ...   \n",
       "31726  0.015378 -0.226602  0.027098 -0.262198 -0.697266  0.167969  0.441406   \n",
       "31727  0.015399 -0.230031 -0.149866  0.568359 -1.066406  0.298828 -0.455078   \n",
       "31728  0.014858 -0.228905  0.052159  1.295524 -1.054688 -0.115234  0.083984   \n",
       "31729  0.028042 -0.196783  0.098479  1.610360 -0.228516  0.046875  0.824219   \n",
       "31730  0.020735 -0.173027 -0.067987  1.167742 -0.273438  0.019531  0.955078   \n",
       "31731  0.017560 -0.212190  0.116314 -0.040615 -0.253906  0.005859  0.939453   \n",
       "31732  0.032169 -0.178170  0.116551 -1.390773 -0.246094  0.037109  0.957031   \n",
       "31733  0.022885 -0.192530 -0.090502 -2.496268 -0.240234  0.017578  0.947266   \n",
       "31734  0.031704 -0.200032  0.019986 -3.371286 -0.251953  0.017578  0.947266   \n",
       "31735  0.024632 -0.201752  0.084626 -3.179051 -0.253906  0.005859  0.958984   \n",
       "31736  0.025639 -0.203514 -0.192143 -1.606602 -0.253906  0.011719  0.949219   \n",
       "31737  0.019741 -0.204318 -0.086073  0.440194 -0.257812  0.019531  0.962891   \n",
       "31738  0.019643 -0.205576  0.183111  2.254107 -0.240234  0.015625  0.933594   \n",
       "31739  0.020725 -0.202354 -0.161368  3.017909 -0.250000  0.021484  0.962891   \n",
       "31740  0.020448 -0.203021 -0.010868  2.432539 -0.242188  0.011719  0.949219   \n",
       "31741  0.020778 -0.207638  0.160603  1.280997 -0.191406  0.009766  0.509766   \n",
       "31742  0.021864 -0.206745 -0.121872  0.001657 -0.847656  0.609375  0.236328   \n",
       "31743  0.022410 -0.201846  0.002710 -0.996852 -0.650391  1.210938  0.378906   \n",
       "31744  0.022335 -0.202762  0.128221 -1.359018 -0.644531  0.851562  0.039062   \n",
       "31745  0.029703 -0.206515 -0.151076 -1.378435 -0.470703  0.921875  0.095703   \n",
       "31746  0.040470 -0.239301 -0.038106 -1.029018 -0.455078  0.822266  0.068359   \n",
       "31747  0.019464 -0.243633  0.097073  0.548880 -0.496094  0.890625  0.068359   \n",
       "31748 -0.017781 -0.255127 -0.166376  2.785924 -0.492188  0.886719  0.085938   \n",
       "31749 -0.017253 -0.228310 -0.033121  3.934806 -0.470703  0.876953  0.095703   \n",
       "31750  0.000747 -0.242222  0.142447  3.570190 -0.466797  0.865234  0.080078   \n",
       "31751 -0.003744 -0.235411 -0.153640  1.664638 -0.515625  0.863281  0.140625   \n",
       "31752 -0.015863 -0.220926 -0.007924 -0.338684 -0.656250  0.716797 -0.304688   \n",
       "31753 -0.007829 -0.219377  0.117915 -1.616098 -0.449219  0.474609 -0.671875   \n",
       "31754  0.015502 -0.211233 -0.184228 -2.403059 -0.404297  0.328125 -0.841797   \n",
       "31755  0.019365 -0.196662 -0.008447 -2.013620 -0.281250  0.283203 -0.906250   \n",
       "\n",
       "              bvp   temp  \n",
       "0        0.138125  32.13  \n",
       "1      -26.262500  32.16  \n",
       "2      -40.959375  32.16  \n",
       "3       24.173125  32.16  \n",
       "4       25.781250  32.16  \n",
       "5        8.678125  32.15  \n",
       "6      -17.215625  32.15  \n",
       "7      -35.286875  32.15  \n",
       "8       21.870000  32.15  \n",
       "9       28.181250  32.15  \n",
       "10      10.370625  32.15  \n",
       "11     -11.989375  32.15  \n",
       "12     -47.277500  32.15  \n",
       "13      10.258125  32.15  \n",
       "14      30.864375  32.15  \n",
       "15      17.435000  32.15  \n",
       "16      -4.821875  32.15  \n",
       "17     -35.417500  32.15  \n",
       "18     -21.785000  32.15  \n",
       "19      74.670000  32.15  \n",
       "20     108.626875  32.15  \n",
       "21    -110.475000  32.15  \n",
       "22     -59.528125  32.15  \n",
       "23    -105.866875  32.15  \n",
       "24     -51.082500  32.15  \n",
       "25     110.286250  32.13  \n",
       "26     112.145625  32.13  \n",
       "27     -18.624375  32.13  \n",
       "28     -99.406875  32.13  \n",
       "29      -8.011250  32.15  \n",
       "...           ...    ...  \n",
       "31726   14.191250  34.00  \n",
       "31727  -13.876250  34.00  \n",
       "31728  -14.053125  33.99  \n",
       "31729  -12.603750  33.99  \n",
       "31730  -13.898750  33.99  \n",
       "31731   67.853750  33.99  \n",
       "31732  -22.895625  33.99  \n",
       "31733   34.099375  33.99  \n",
       "31734  -41.079375  33.99  \n",
       "31735   -2.126875  33.99  \n",
       "31736   -7.880000  33.99  \n",
       "31737    0.130000  33.99  \n",
       "31738   14.740000  33.99  \n",
       "31739   -8.952500  33.99  \n",
       "31740    4.181250  34.00  \n",
       "31741   10.438125  34.00  \n",
       "31742  -18.111875  34.00  \n",
       "31743    8.884375  34.00  \n",
       "31744    6.691875  33.99  \n",
       "31745  -32.196250  33.99  \n",
       "31746  -23.476875  33.99  \n",
       "31747  -19.843125  33.99  \n",
       "31748   48.166250  33.99  \n",
       "31749   36.986250  33.99  \n",
       "31750    4.733750  33.99  \n",
       "31751  -19.655000  33.99  \n",
       "31752   21.031250  33.99  \n",
       "31753    9.114375  33.99  \n",
       "31754  -24.615625  33.99  \n",
       "31755   22.134375  33.99  \n",
       "\n",
       "[517956 rows x 19 columns]"
      ]
     },
     "execution_count": 16,
     "metadata": {},
     "output_type": "execute_result"
    }
   ],
   "source": [
    "for k,v in alldatas.items():\n",
    "    \n",
    "    dfactivity = pd.DataFrame.from_dict(v[\"activity\"])\n",
    "    dfactivity.rename(columns={0:'activity'}, inplace=True)\n",
    "    \n",
    "    #On a besoin de répéter les données afin d'éviter les Nan \n",
    "    temp=v['label'].repeat(len(v['activity'])/len(v['label'])).tolist()\n",
    "    #On obtient pas le bon nombre de valeur car il prend l'entier inférieur. \n",
    "    #Afin de ne pas fausser les valeurs on rajoute la moyenne des valeurs \n",
    "    temp.extend([statistics.mean(v['label'])] * (len(v['activity'])-len(temp)))\n",
    "    dflabel = pd.DataFrame(temp)\n",
    "    dflabel.rename(columns={0:'label'}, inplace=True)\n",
    "    \n",
    "    v[\"signal\"][\"chest\"][\"ECG\"] = mise_echelle_4H(v[\"signal\"][\"chest\"][\"ECG\"], 700)\n",
    "    dfecg =pd.DataFrame.from_dict(v[\"signal\"][\"chest\"][\"ECG\"])\n",
    "    dfecg.rename(columns={0:'ecg'}, inplace=True)\n",
    "    \n",
    "    v[\"signal\"][\"chest\"][\"ACC\"] = mise_echelle_4H(v[\"signal\"][\"chest\"][\"ACC\"], 700)\n",
    "    dfchestacc = pd.DataFrame.from_dict(v[\"signal\"][\"chest\"][\"ACC\"])\n",
    "    dfchestacc.rename(columns={0:'xchest',1:'ychest',2:'zchest'}, inplace=True)\n",
    "    \n",
    "    v[\"signal\"][\"chest\"][\"Resp\"] = mise_echelle_4H(v[\"signal\"][\"chest\"][\"Resp\"], 700)    \n",
    "    dfresp=pd.DataFrame.from_dict(v[\"signal\"][\"chest\"][\"Resp\"])\n",
    "    dfresp.rename(columns={0:'resp'}, inplace=True)\n",
    "\n",
    "    dfallchest = pd.concat([dfchestacc,dfecg , dfresp], axis=1)\n",
    "    \n",
    "    \n",
    "    dftemp=pd.DataFrame.from_dict(v[\"signal\"][\"wrist\"][\"TEMP\"])\n",
    "    dftemp.rename(columns={0:'temp'}, inplace=True)\n",
    "    \n",
    "    v[\"signal\"][\"wrist\"][\"ACC\"] = mise_echelle_4H(v[\"signal\"][\"wrist\"][\"ACC\"], 32)\n",
    "    dfwristacc = pd.DataFrame.from_dict(v[\"signal\"][\"wrist\"][\"ACC\"])\n",
    "    dfwristacc.rename(columns={0:'xwrist', 1:'ywrist', 2:'zwrist'}, inplace=True)\n",
    "    \n",
    "    v[\"signal\"][\"wrist\"][\"BVP\"] = mise_echelle_4H(v[\"signal\"][\"wrist\"][\"BVP\"], 64)\n",
    "    dfbvp=pd.DataFrame.from_dict(v[\"signal\"][\"wrist\"][\"BVP\"])\n",
    "    dfbvp.rename(columns={0:'bvp'}, inplace=True )\n",
    "    \n",
    "    dfallwrist = pd.concat([dfwristacc, dfbvp, dftemp], axis=1)\n",
    "    \n",
    "    \n",
    "    \n",
    "    #On multipplie par la taille de dfallwrist afin de répéter sur toutes les lignes l'id des sujets\n",
    "    #C'est le même principe pour les informations des sujets\n",
    "    dfid=pd.DataFrame([v['subject'][1:]] * len(dfallwrist))\n",
    "    dfid.rename(columns = {0:'ID'}, inplace=True)\n",
    "    \n",
    "    questionnaire = v[\"questionnaire\"]\n",
    "    dfquestionnaire = pd.DataFrame.from_dict(questionnaire, orient = 'index').T\n",
    "    dfquestionnaire = pd.concat([dfquestionnaire]*len(dfallwrist), ignore_index=True)\n",
    "    \n",
    "\n",
    "    dfalldatas = pd.concat([dfid,dfquestionnaire,dfactivity,dflabel,dfallchest, dfallwrist], axis=1)\n",
    "    \n",
    "    alldatas[k] = dfalldatas\n",
    "\n",
    "\n",
    "dfalldataframes = pd.concat([alldatas[1],alldatas[2],alldatas[3],alldatas[4],alldatas[5],alldatas[6],alldatas[7],alldatas[8],alldatas[9],alldatas[10],alldatas[11],alldatas[12],alldatas[13],alldatas[14],alldatas[15]])\n",
    "dfalldataframes"
   ]
  },
  {
   "cell_type": "code",
   "execution_count": 17,
   "metadata": {},
   "outputs": [
    {
     "data": {
      "image/png": "[encoded data removed]",
      "text/plain": [
       "<Figure size 432x288 with 2 Axes>"
      ]
     },
     "metadata": {
      "needs_background": "light"
     },
     "output_type": "display_data"
    }
   ],
   "source": [
    "matrix_correlation = dfalldataframes.corr()\n",
    "\n",
    "plt.figure()\n",
    "seaborn.heatmap(matrix_correlation,annot=True)\n",
    "plt.show()"
   ]
  },
  {
   "cell_type": "markdown",
   "metadata": {},
   "source": [
    "## 3. Classification "
   ]
  },
  {
   "cell_type": "markdown",
   "metadata": {},
   "source": [
    "## 3.1. On récupère notre X et y"
   ]
  },
  {
   "cell_type": "code",
   "execution_count": 18,
   "metadata": {},
   "outputs": [
    {
     "data": {
      "text/plain": [
       "((517956, 14), (517956, 1))"
      ]
     },
     "execution_count": 18,
     "metadata": {},
     "output_type": "execute_result"
    }
   ],
   "source": [
    "X = dfalldataframes[['ID','AGE','SPORT','label','xchest','ychest','zchest','ecg','resp','xwrist','ywrist','zwrist','bvp','temp']]\n",
    "y = dfalldataframes[['activity']]\n",
    "\n",
    "X.shape, y.shape"
   ]
  },
  {
   "cell_type": "markdown",
   "metadata": {},
   "source": [
    "Pour passer le y en array 1d on utilise y.ravel()"
   ]
  },
  {
   "cell_type": "markdown",
   "metadata": {},
   "source": [
    "## 3.2. On divise en jeu de test et apprentissage"
   ]
  },
  {
   "cell_type": "code",
   "execution_count": 19,
   "metadata": {},
   "outputs": [],
   "source": [
    "X_train, X_test, y_train, y_test = train_test_split(X, y.values.ravel(), random_state=1234)"
   ]
  },
  {
   "cell_type": "code",
   "execution_count": 20,
   "metadata": {},
   "outputs": [
    {
     "data": {
      "text/plain": [
       "((388467, 14), (129489, 14), (388467,), (129489,))"
      ]
     },
     "execution_count": 20,
     "metadata": {},
     "output_type": "execute_result"
    }
   ],
   "source": [
    "X_train.shape, X_test.shape, y_train.shape, y_test.shape"
   ]
  },
  {
   "cell_type": "markdown",
   "metadata": {},
   "source": [
    "On retrouve bien le splitage ratio"
   ]
  },
  {
   "cell_type": "code",
   "execution_count": 21,
   "metadata": {},
   "outputs": [
    {
     "data": {
      "text/plain": [
       "[0.75, 0.25, 0.75, 0.25]"
      ]
     },
     "execution_count": 21,
     "metadata": {},
     "output_type": "execute_result"
    }
   ],
   "source": [
    "[tuple_[0]/X.shape[0] for tuple_ in (X_train.shape, X_test.shape, y_train.shape, y_test.shape)]"
   ]
  },
  {
   "cell_type": "code",
   "execution_count": 22,
   "metadata": {},
   "outputs": [],
   "source": [
    "performances = dict()"
   ]
  },
  {
   "cell_type": "markdown",
   "metadata": {},
   "source": [
    "Il est préférable de standardiser les valeurs même pour une LinearRegression ce n'est pas obligatoire "
   ]
  },
  {
   "cell_type": "code",
   "execution_count": 23,
   "metadata": {},
   "outputs": [],
   "source": [
    "scaler   = StandardScaler().fit(X_train)\n",
    "X_train  = scaler.transform(X_train)\n",
    "X_test   = scaler.transform(X_test)"
   ]
  },
  {
   "cell_type": "markdown",
   "metadata": {},
   "source": [
    "## 3.3 . LinearRegression"
   ]
  },
  {
   "cell_type": "code",
   "execution_count": 24,
   "metadata": {},
   "outputs": [
    {
     "data": {
      "text/plain": [
       "0.21953269105205753"
      ]
     },
     "execution_count": 24,
     "metadata": {},
     "output_type": "execute_result"
    }
   ],
   "source": [
    "algorithme = LinearRegression()\n",
    "algorithme.fit(X_train, y_train)\n",
    "algorithme.score(X_test, y_test)"
   ]
  },
  {
   "cell_type": "code",
   "execution_count": 25,
   "metadata": {},
   "outputs": [
    {
     "data": {
      "text/plain": [
       "<matplotlib.collections.PathCollection at 0x219b3a09f28>"
      ]
     },
     "execution_count": 25,
     "metadata": {},
     "output_type": "execute_result"
    },
    {
     "data": {
      "image/png": "[encoded data removed]",
      "text/plain": [
       "<Figure size 432x288 with 1 Axes>"
      ]
     },
     "metadata": {
      "needs_background": "light"
     },
     "output_type": "display_data"
    }
   ],
   "source": [
    "plt.scatter(x=y_test, y=algorithme.predict(X_test))"
   ]
  },
  {
   "cell_type": "code",
   "execution_count": 26,
   "metadata": {},
   "outputs": [
    {
     "data": {
      "text/plain": [
       "array([ 0.06179157, -0.00148183,  0.28535798, -0.16627828, -0.11379755,\n",
       "       -0.29187543, -0.02487006,  0.0163056 , -0.00313358,  0.02143111,\n",
       "       -0.68468248,  0.39372556, -0.00220566,  0.93905848])"
      ]
     },
     "execution_count": 26,
     "metadata": {},
     "output_type": "execute_result"
    }
   ],
   "source": [
    "algorithme.coef_"
   ]
  },
  {
   "cell_type": "code",
   "execution_count": 27,
   "metadata": {},
   "outputs": [],
   "source": [
    "performances[algorithme] = algorithme.score(X_test, y_test)"
   ]
  },
  {
   "cell_type": "markdown",
   "metadata": {},
   "source": [
    "### On crée une fonction de tout ceci afin de pouvoir l'utiliser dans l'API"
   ]
  },
  {
   "cell_type": "code",
   "execution_count": 28,
   "metadata": {},
   "outputs": [],
   "source": [
    "def get_score(algorithme, X_train, X_test, y_train, y_test, display_graph=False, display_options=True):\n",
    "    if display_options:\n",
    "        print(\"fitting :\\n\"+ str(algorithme))\n",
    "        print(\"X_train:{} , X_test:{} ,  y_train:{} ,  y_test:{}\".format(X_train.shape, X_test.shape, y_train.shape, y_test.shape))\n",
    "    modele = algorithme.fit(X_train, y_train)\n",
    "    score  = modele.score(X_test, y_test)\n",
    "    if display_graph:\n",
    "        import matplotlib.pyplot as plt\n",
    "        plt.scatter(x=y_test, y=algorithme.predict(X_test)) ## Predictions against True values\n",
    "    return score"
   ]
  },
  {
   "cell_type": "code",
   "execution_count": 29,
   "metadata": {},
   "outputs": [
    {
     "name": "stdout",
     "output_type": "stream",
     "text": [
      "fitting :\n",
      "LinearRegression(copy_X=True, fit_intercept=True, n_jobs=None, normalize=False)\n",
      "X_train:(388467, 14) , X_test:(129489, 14) ,  y_train:(388467, 1) ,  y_test:(129489, 1)\n"
     ]
    },
    {
     "data": {
      "text/plain": [
       "0.21953269105205753"
      ]
     },
     "execution_count": 29,
     "metadata": {},
     "output_type": "execute_result"
    }
   ],
   "source": [
    "get_score(LinearRegression(), *train_test_split(X, y, random_state=1234))"
   ]
  },
  {
   "cell_type": "markdown",
   "metadata": {},
   "source": [
    "## 3.4. Cross Validation"
   ]
  },
  {
   "cell_type": "markdown",
   "metadata": {},
   "source": [
    "### On va utiliser la cross validation afin de valider la robustesse de notre modèle. Cela évite donc le coup de chance"
   ]
  },
  {
   "cell_type": "code",
   "execution_count": 30,
   "metadata": {},
   "outputs": [
    {
     "name": "stderr",
     "output_type": "stream",
     "text": [
      "C:\\ProgramData\\Anaconda3\\lib\\site-packages\\sklearn\\model_selection\\_split.py:1978: FutureWarning: The default value of cv will change from 3 to 5 in version 0.22. Specify it explicitly to silence this warning.\n",
      "  warnings.warn(CV_WARNING, FutureWarning)\n"
     ]
    },
    {
     "data": {
      "text/plain": [
       "array([-0.11705645,  0.07010645, -0.39957802])"
      ]
     },
     "metadata": {},
     "output_type": "display_data"
    },
    {
     "data": {
      "text/plain": [
       "-0.1488426723411692"
      ]
     },
     "metadata": {},
     "output_type": "display_data"
    },
    {
     "data": {
      "text/plain": [
       "0.19306069495900183"
      ]
     },
     "metadata": {},
     "output_type": "display_data"
    }
   ],
   "source": [
    "results = cross_val_score(LinearRegression(), X, y) \n",
    "display(results, results.mean(), results.std())"
   ]
  },
  {
   "cell_type": "code",
   "execution_count": 31,
   "metadata": {},
   "outputs": [
    {
     "data": {
      "text/plain": [
       "array([0.21699536, 0.221345  , 0.22276315, 0.22392673, 0.22103899])"
      ]
     },
     "metadata": {},
     "output_type": "display_data"
    },
    {
     "data": {
      "text/plain": [
       "0.2212138449376091"
      ]
     },
     "metadata": {},
     "output_type": "display_data"
    },
    {
     "data": {
      "text/plain": [
       "0.0023496159536556794"
      ]
     },
     "metadata": {},
     "output_type": "display_data"
    }
   ],
   "source": [
    "## On le fait avec notre LinearRegression\n",
    "results = cross_val_score(LinearRegression(), X, y, cv=KFold(shuffle=True, n_splits=5))\n",
    "display(results, results.mean(), results.std())"
   ]
  },
  {
   "cell_type": "markdown",
   "metadata": {},
   "source": [
    "## 3.5. DecisionTreeRegression"
   ]
  },
  {
   "cell_type": "code",
   "execution_count": 32,
   "metadata": {},
   "outputs": [],
   "source": [
    "algorithme = DecisionTreeRegressor()\n",
    "algorithme.fit(X_train, y_train)\n",
    "score = algorithme.score(X_test, y_test.ravel())\n",
    "performances[algorithme] = score"
   ]
  },
  {
   "cell_type": "code",
   "execution_count": 33,
   "metadata": {},
   "outputs": [
    {
     "data": {
      "text/plain": [
       "<matplotlib.collections.PathCollection at 0x219a5f42cc0>"
      ]
     },
     "execution_count": 33,
     "metadata": {},
     "output_type": "execute_result"
    },
    {
     "data": {
      "image/png": "[encoded data removed]",
      "text/plain": [
       "<Figure size 432x288 with 1 Axes>"
      ]
     },
     "metadata": {
      "needs_background": "light"
     },
     "output_type": "display_data"
    }
   ],
   "source": [
    "plt.scatter(x=y_test, y=algorithme.predict(X_test))"
   ]
  },
  {
   "cell_type": "markdown",
   "metadata": {},
   "source": [
    "## 3.6. RandomForestRegression"
   ]
  },
  {
   "cell_type": "code",
   "execution_count": 34,
   "metadata": {},
   "outputs": [
    {
     "name": "stdout",
     "output_type": "stream",
     "text": [
      "fitting :\n",
      "RandomForestRegressor(bootstrap=True, criterion='mse', max_depth=None,\n",
      "                      max_features='auto', max_leaf_nodes=None,\n",
      "                      min_impurity_decrease=0.0, min_impurity_split=None,\n",
      "                      min_samples_leaf=1, min_samples_split=2,\n",
      "                      min_weight_fraction_leaf=0.0, n_estimators=30,\n",
      "                      n_jobs=None, oob_score=False, random_state=None,\n",
      "                      verbose=0, warm_start=False)\n",
      "X_train:(388467, 14) , X_test:(129489, 14) ,  y_train:(388467,) ,  y_test:(129489,)\n"
     ]
    }
   ],
   "source": [
    "hyperparametres = { 'n_estimators':30 }\n",
    "algorithme = RandomForestRegressor(**hyperparametres)\n",
    "score = get_score(algorithme, X_train, X_test, y_train, y_test)\n",
    "performances[algorithme] = score"
   ]
  },
  {
   "cell_type": "code",
   "execution_count": 35,
   "metadata": {},
   "outputs": [
    {
     "data": {
      "text/plain": [
       "<matplotlib.collections.PathCollection at 0x219b1e78908>"
      ]
     },
     "execution_count": 35,
     "metadata": {},
     "output_type": "execute_result"
    },
    {
     "data": {
      "image/png": "[encoded data removed]",
      "text/plain": [
       "<Figure size 432x288 with 1 Axes>"
      ]
     },
     "metadata": {
      "needs_background": "light"
     },
     "output_type": "display_data"
    }
   ],
   "source": [
    "plt.scatter(x=y_test, y=algorithme.predict(X_test))"
   ]
  },
  {
   "cell_type": "markdown",
   "metadata": {},
   "source": [
    "## 3.7. ExtraTreesRegression"
   ]
  },
  {
   "cell_type": "code",
   "execution_count": 36,
   "metadata": {},
   "outputs": [
    {
     "name": "stdout",
     "output_type": "stream",
     "text": [
      "fitting :\n",
      "ExtraTreesRegressor(bootstrap=False, criterion='mse', max_depth=None,\n",
      "                    max_features='auto', max_leaf_nodes=None,\n",
      "                    min_impurity_decrease=0.0, min_impurity_split=None,\n",
      "                    min_samples_leaf=1, min_samples_split=2,\n",
      "                    min_weight_fraction_leaf=0.0, n_estimators='warn',\n",
      "                    n_jobs=None, oob_score=False, random_state=None, verbose=0,\n",
      "                    warm_start=False)\n",
      "X_train:(388467, 14) , X_test:(129489, 14) ,  y_train:(388467,) ,  y_test:(129489,)\n"
     ]
    },
    {
     "name": "stderr",
     "output_type": "stream",
     "text": [
      "C:\\ProgramData\\Anaconda3\\lib\\site-packages\\sklearn\\ensemble\\forest.py:245: FutureWarning: The default value of n_estimators will change from 10 in version 0.20 to 100 in 0.22.\n",
      "  \"10 in version 0.20 to 100 in 0.22.\", FutureWarning)\n"
     ]
    }
   ],
   "source": [
    "algorithme = ExtraTreesRegressor()\n",
    "score      = get_score(algorithme, X_train, X_test, y_train, y_test)\n",
    "performances[algorithme] = score"
   ]
  },
  {
   "cell_type": "code",
   "execution_count": 37,
   "metadata": {},
   "outputs": [
    {
     "data": {
      "text/plain": [
       "<matplotlib.collections.PathCollection at 0x21998977908>"
      ]
     },
     "execution_count": 37,
     "metadata": {},
     "output_type": "execute_result"
    },
    {
     "data": {
      "image/png": "[encoded data removed]",
      "text/plain": [
       "<Figure size 432x288 with 1 Axes>"
      ]
     },
     "metadata": {
      "needs_background": "light"
     },
     "output_type": "display_data"
    }
   ],
   "source": [
    "plt.scatter(x=y_test, y=algorithme.predict(X_test))"
   ]
  },
  {
   "cell_type": "markdown",
   "metadata": {},
   "source": [
    "## 3.8. AdaBoostClassifier"
   ]
  },
  {
   "cell_type": "code",
   "execution_count": 38,
   "metadata": {},
   "outputs": [
    {
     "name": "stdout",
     "output_type": "stream",
     "text": [
      "fitting :\n",
      "AdaBoostClassifier(algorithm='SAMME.R', base_estimator=None, learning_rate=1.0,\n",
      "                   n_estimators=100, random_state=1234)\n",
      "X_train:(388467, 14) , X_test:(129489, 14) ,  y_train:(388467,) ,  y_test:(129489,)\n"
     ]
    }
   ],
   "source": [
    "algorithme = AdaBoostClassifier(n_estimators=100, random_state=1234)\n",
    "score      = get_score(algorithme, X_train, X_test, y_train, y_test)\n",
    "performances[algorithme] = score"
   ]
  },
  {
   "cell_type": "code",
   "execution_count": 39,
   "metadata": {},
   "outputs": [
    {
     "data": {
      "text/plain": [
       "<matplotlib.collections.PathCollection at 0x219b3670630>"
      ]
     },
     "execution_count": 39,
     "metadata": {},
     "output_type": "execute_result"
    },
    {
     "data": {
      "image/png": "[encoded data removed]",
      "text/plain": [
       "<Figure size 432x288 with 1 Axes>"
      ]
     },
     "metadata": {
      "needs_background": "light"
     },
     "output_type": "display_data"
    }
   ],
   "source": [
    "plt.scatter(x=y_test, y=algorithme.predict(X_test))"
   ]
  },
  {
   "cell_type": "markdown",
   "metadata": {},
   "source": [
    "## 3.9. Comparaison des résultats de nos modèles"
   ]
  },
  {
   "cell_type": "code",
   "execution_count": 40,
   "metadata": {},
   "outputs": [
    {
     "data": {
      "text/html": [
       "<div>\n",
       "<style scoped>\n",
       "    .dataframe tbody tr th:only-of-type {\n",
       "        vertical-align: middle;\n",
       "    }\n",
       "\n",
       "    .dataframe tbody tr th {\n",
       "        vertical-align: top;\n",
       "    }\n",
       "\n",
       "    .dataframe thead th {\n",
       "        text-align: right;\n",
       "    }\n",
       "</style>\n",
       "<table border=\"1\" class=\"dataframe\">\n",
       "  <thead>\n",
       "    <tr style=\"text-align: right;\">\n",
       "      <th></th>\n",
       "      <th>perf</th>\n",
       "      <th>algo</th>\n",
       "    </tr>\n",
       "    <tr>\n",
       "      <th>nom_algo</th>\n",
       "      <th></th>\n",
       "      <th></th>\n",
       "    </tr>\n",
       "  </thead>\n",
       "  <tbody>\n",
       "    <tr>\n",
       "      <th>LinearRegression</th>\n",
       "      <td>0.219533</td>\n",
       "      <td>LinearRegression(copy_X=True, fit_intercept=Tr...</td>\n",
       "    </tr>\n",
       "    <tr>\n",
       "      <th>DecisionTreeRegressor</th>\n",
       "      <td>0.885619</td>\n",
       "      <td>DecisionTreeRegressor(criterion='mse', max_dep...</td>\n",
       "    </tr>\n",
       "    <tr>\n",
       "      <th>RandomForestRegressor</th>\n",
       "      <td>0.949217</td>\n",
       "      <td>(DecisionTreeRegressor(criterion='mse', max_de...</td>\n",
       "    </tr>\n",
       "    <tr>\n",
       "      <th>ExtraTreesRegressor</th>\n",
       "      <td>0.959251</td>\n",
       "      <td>(ExtraTreeRegressor(criterion='mse', max_depth...</td>\n",
       "    </tr>\n",
       "    <tr>\n",
       "      <th>AdaBoostClassifier</th>\n",
       "      <td>0.425372</td>\n",
       "      <td>(DecisionTreeClassifier(class_weight=None, cri...</td>\n",
       "    </tr>\n",
       "  </tbody>\n",
       "</table>\n",
       "</div>"
      ],
      "text/plain": [
       "                           perf  \\\n",
       "nom_algo                          \n",
       "LinearRegression       0.219533   \n",
       "DecisionTreeRegressor  0.885619   \n",
       "RandomForestRegressor  0.949217   \n",
       "ExtraTreesRegressor    0.959251   \n",
       "AdaBoostClassifier     0.425372   \n",
       "\n",
       "                                                                    algo  \n",
       "nom_algo                                                                  \n",
       "LinearRegression       LinearRegression(copy_X=True, fit_intercept=Tr...  \n",
       "DecisionTreeRegressor  DecisionTreeRegressor(criterion='mse', max_dep...  \n",
       "RandomForestRegressor  (DecisionTreeRegressor(criterion='mse', max_de...  \n",
       "ExtraTreesRegressor    (ExtraTreeRegressor(criterion='mse', max_depth...  \n",
       "AdaBoostClassifier     (DecisionTreeClassifier(class_weight=None, cri...  "
      ]
     },
     "execution_count": 40,
     "metadata": {},
     "output_type": "execute_result"
    }
   ],
   "source": [
    "dico_ordonne = OrderedDict(performances)\n",
    "df = pd.DataFrame()\n",
    "df[\"perf\"] = dico_ordonne.values()\n",
    "df[\"algo\"] = dico_ordonne.keys()\n",
    "df['nom_algo'] = df.algo.apply(lambda algo: str(algo).split('(')[0])\n",
    "df.set_index('nom_algo', inplace=True)\n",
    "df"
   ]
  },
  {
   "cell_type": "code",
   "execution_count": 41,
   "metadata": {},
   "outputs": [
    {
     "data": {
      "text/plain": [
       "<matplotlib.axes._subplots.AxesSubplot at 0x219b4511668>"
      ]
     },
     "execution_count": 41,
     "metadata": {},
     "output_type": "execute_result"
    },
    {
     "data": {
      "image/png": "[encoded data removed]",
      "text/plain": [
       "<Figure size 432x288 with 1 Axes>"
      ]
     },
     "metadata": {
      "needs_background": "light"
     },
     "output_type": "display_data"
    }
   ],
   "source": [
    "df[[\"perf\"]].plot(kind='line', rot=60)"
   ]
  },
  {
   "cell_type": "markdown",
   "metadata": {},
   "source": [
    "# 4. API"
   ]
  },
  {
   "cell_type": "code",
   "execution_count": 42,
   "metadata": {},
   "outputs": [],
   "source": [
    "scaler =  StandardScaler()\n",
    "X = scaler.fit_transform(X)"
   ]
  },
  {
   "cell_type": "code",
   "execution_count": 43,
   "metadata": {},
   "outputs": [
    {
     "name": "stderr",
     "output_type": "stream",
     "text": [
      "C:\\ProgramData\\Anaconda3\\lib\\site-packages\\sklearn\\ensemble\\forest.py:245: FutureWarning: The default value of n_estimators will change from 10 in version 0.20 to 100 in 0.22.\n",
      "  \"10 in version 0.20 to 100 in 0.22.\", FutureWarning)\n",
      "C:\\ProgramData\\Anaconda3\\lib\\site-packages\\ipykernel_launcher.py:2: DataConversionWarning: A column-vector y was passed when a 1d array was expected. Please change the shape of y to (n_samples,), for example using ravel().\n",
      "  \n"
     ]
    },
    {
     "data": {
      "text/plain": [
       "ExtraTreesRegressor(bootstrap=False, criterion='mse', max_depth=None,\n",
       "                    max_features='auto', max_leaf_nodes=None,\n",
       "                    min_impurity_decrease=0.0, min_impurity_split=None,\n",
       "                    min_samples_leaf=1, min_samples_split=2,\n",
       "                    min_weight_fraction_leaf=0.0, n_estimators=10, n_jobs=None,\n",
       "                    oob_score=False, random_state=None, verbose=0,\n",
       "                    warm_start=False)"
      ]
     },
     "execution_count": 43,
     "metadata": {},
     "output_type": "execute_result"
    }
   ],
   "source": [
    "lm = ExtraTreesRegressor()\n",
    "lm.fit(X, y)"
   ]
  },
  {
   "cell_type": "code",
   "execution_count": 44,
   "metadata": {},
   "outputs": [
    {
     "data": {
      "text/plain": [
       "<matplotlib.collections.PathCollection at 0x219b4586f98>"
      ]
     },
     "execution_count": 44,
     "metadata": {},
     "output_type": "execute_result"
    },
    {
     "data": {
      "image/png": "[encoded data removed]",
      "text/plain": [
       "<Figure size 432x288 with 1 Axes>"
      ]
     },
     "metadata": {
      "needs_background": "light"
     },
     "output_type": "display_data"
    }
   ],
   "source": [
    "plt.scatter(y, lm.predict(X))"
   ]
  },
  {
   "cell_type": "code",
   "execution_count": 45,
   "metadata": {},
   "outputs": [
    {
     "data": {
      "text/plain": [
       "['model_simple.sav']"
      ]
     },
     "execution_count": 45,
     "metadata": {},
     "output_type": "execute_result"
    }
   ],
   "source": [
    "joblib.dump(lm, \"model_simple.sav\")"
   ]
  },
  {
   "cell_type": "code",
   "execution_count": 46,
   "metadata": {},
   "outputs": [
    {
     "data": {
      "text/plain": [
       "['scaler.sav']"
      ]
     },
     "execution_count": 46,
     "metadata": {},
     "output_type": "execute_result"
    }
   ],
   "source": [
    "joblib.dump(scaler, \"scaler.sav\")"
   ]
  },
  {
   "cell_type": "code",
   "execution_count": null,
   "metadata": {},
   "outputs": [],
   "source": []
  }
 ],
 "metadata": {
  "kernelspec": {
   "display_name": "Python 3",
   "language": "python",
   "name": "python3"
  },
  "language_info": {
   "codemirror_mode": {
    "name": "ipython",
    "version": 3
   },
   "file_extension": ".py",
   "mimetype": "text/x-python",
   "name": "python",
   "nbconvert_exporter": "python",
   "pygments_lexer": "ipython3",
   "version": "3.7.3"
  }
 },
 "nbformat": 4,
 "nbformat_minor": 2
}
