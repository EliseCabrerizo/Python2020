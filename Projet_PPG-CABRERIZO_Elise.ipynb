{
 "cells": [
  {
   "cell_type": "code",
   "execution_count": 1,
   "metadata": {},
   "outputs": [
    {
     "name": "stderr",
     "output_type": "stream",
     "text": [
      "C:\\Users\\Elise\\AppData\\Roaming\\Python\\Python37\\site-packages\\sklearn\\externals\\joblib\\__init__.py:15: FutureWarning: sklearn.externals.joblib is deprecated in 0.21 and will be removed in 0.23. Please import this functionality directly from joblib, which can be installed with: pip install joblib. If this warning is raised when loading pickled models, you may need to re-serialize those models with scikit-learn 0.21+.\n",
      "  warnings.warn(msg, category=FutureWarning)\n"
     ]
    }
   ],
   "source": [
    "import pandas as pd\n",
    "import pickle\n",
    "import matplotlib.pyplot as plt\n",
    "from sklearn.metrics import plot_confusion_matrix\n",
    "import seaborn\n",
    "import statistics\n",
    "\n",
    "\n",
    "from sklearn.model_selection import train_test_split\n",
    "from sklearn.preprocessing import StandardScaler\n",
    "from sklearn.tree import DecisionTreeClassifier\n",
    "from sklearn.ensemble import RandomForestClassifier\n",
    "from sklearn.ensemble import AdaBoostClassifier\n",
    "from sklearn.ensemble import ExtraTreesClassifier\n",
    "from sklearn.model_selection import cross_val_score\n",
    "from sklearn.model_selection import KFold\n",
    "\n",
    "from collections import OrderedDict\n",
    "from sklearn.externals import joblib\n"
   ]
  },
  {
   "cell_type": "markdown",
   "metadata": {},
   "source": [
    "### L'étude dure 2h30 soit 9000 s (validé par figure 1)\n",
    "Chaque activité prend comme temps :\n",
    "* Sitting 10 min -> 600 s\n",
    "* Stairs 5 min -> 300 s\n",
    "* Table Soccer 5min -> 300 s\n",
    "* Cycling 8 min -> 480 s\n",
    "* driving car 15 min -> 900 s\n",
    "* Lunch break 30 min -> 1800 s\n",
    "* Walking 1min -> 600 s\n",
    "* Working 8 min -> 1200 s\n",
    "\n",
    "\n",
    "Nous allons dans un premier temps étudier le sujet 7 afin de comparer à la figure 1"
   ]
  },
  {
   "cell_type": "code",
   "execution_count": 2,
   "metadata": {},
   "outputs": [],
   "source": [
    "chemin = 'C:/Users/Elise/Documents/Esilv/5emeAnnee/PythonForDataAnalysis/Projet/PPG_FieldStudy/S7/S7.pkl'\n",
    "data =  pd.read_pickle(chemin)"
   ]
  },
  {
   "cell_type": "code",
   "execution_count": 3,
   "metadata": {},
   "outputs": [
    {
     "data": {
      "text/plain": [
       "{'rpeaks': array([    633,    1428,    2197, ..., 6538533, 6539057, 6539681]),\n",
       " 'signal': {'chest': {'ACC': array([[ 0.87160003,  0.02540004, -0.15560001],\n",
       "          [ 0.87100005,  0.02260005, -0.15859997],\n",
       "          [ 0.87020004,  0.02320004, -0.15899998],\n",
       "          ...,\n",
       "          [ 0.93079996, -0.06120002, -0.2062    ],\n",
       "          [ 0.93060005, -0.0564    , -0.21259999],\n",
       "          [ 0.93120003, -0.0546    , -0.21380001]]),\n",
       "   'ECG': array([[ 0.12437439],\n",
       "          [ 0.13188171],\n",
       "          [ 0.13829041],\n",
       "          ...,\n",
       "          [-0.08843994],\n",
       "          [-0.08757019],\n",
       "          [-0.08258057]]),\n",
       "   'EMG': array([[-1.5],\n",
       "          [-1.5],\n",
       "          [-1.5],\n",
       "          ...,\n",
       "          [-1.5],\n",
       "          [-1.5],\n",
       "          [-1.5]]),\n",
       "   'EDA': array([[0.],\n",
       "          [0.],\n",
       "          [0.],\n",
       "          ...,\n",
       "          [0.],\n",
       "          [0.],\n",
       "          [0.]]),\n",
       "   'Temp': array([[-273.15],\n",
       "          [-273.15],\n",
       "          [-273.15],\n",
       "          ...,\n",
       "          [-273.15],\n",
       "          [-273.15],\n",
       "          [-273.15]], dtype=float32),\n",
       "   'Resp': array([[1.3168335 ],\n",
       "          [1.30004883],\n",
       "          [1.32598877],\n",
       "          ...,\n",
       "          [1.121521  ],\n",
       "          [1.12762451],\n",
       "          [1.10168457]])},\n",
       "  'wrist': {'ACC': array([[-0.921875, -0.109375, -0.25    ],\n",
       "          [-0.921875, -0.140625, -0.265625],\n",
       "          [-0.953125, -0.171875, -0.265625],\n",
       "          ...,\n",
       "          [-0.59375 , -0.1875  ,  0.765625],\n",
       "          [-0.46875 , -0.1875  ,  0.8125  ],\n",
       "          [-0.453125, -0.1875  ,  0.84375 ]]), 'BVP': array([[-45.17],\n",
       "          [-50.1 ],\n",
       "          [-54.31],\n",
       "          ...,\n",
       "          [ 41.96],\n",
       "          [ 39.99],\n",
       "          [ 38.71]]), 'EDA': array([[0.140921],\n",
       "          [0.140921],\n",
       "          [0.13964 ],\n",
       "          ...,\n",
       "          [2.128756],\n",
       "          [2.141567],\n",
       "          [2.153097]]), 'TEMP': array([[30.57],\n",
       "          [30.57],\n",
       "          [30.57],\n",
       "          ...,\n",
       "          [34.55],\n",
       "          [34.55],\n",
       "          [34.55]])}},\n",
       " 'label': array([54.71764132, 55.17330165, 55.39308696, ..., 86.94697029,\n",
       "        79.71681682, 76.35414083]),\n",
       " 'activity': array([[0.],\n",
       "        [0.],\n",
       "        [0.],\n",
       "        ...,\n",
       "        [0.],\n",
       "        [0.],\n",
       "        [0.]]),\n",
       " 'questionnaire': {'WEIGHT': 58.0,\n",
       "  'Gender': ' f',\n",
       "  'AGE': 21,\n",
       "  'HEIGHT': 168.0,\n",
       "  'SKIN': 3,\n",
       "  'SPORT': 2},\n",
       " 'subject': 'S7'}"
      ]
     },
     "execution_count": 3,
     "metadata": {},
     "output_type": "execute_result"
    }
   ],
   "source": [
    "data"
   ]
  },
  {
   "cell_type": "markdown",
   "metadata": {},
   "source": [
    "# 1) Analyse de données"
   ]
  },
  {
   "cell_type": "code",
   "execution_count": 4,
   "metadata": {},
   "outputs": [
    {
     "name": "stdout",
     "output_type": "stream",
     "text": [
      "Nombre de keys : 6\n",
      "Nom des keys : dict_keys(['rpeaks', 'signal', 'label', 'activity', 'questionnaire', 'subject'])\n"
     ]
    }
   ],
   "source": [
    "print('Nombre de keys : ' + str(len(data.keys())) )\n",
    "print('Nom des keys : ' + str(data.keys()))"
   ]
  },
  {
   "cell_type": "code",
   "execution_count": 5,
   "metadata": {},
   "outputs": [
    {
     "name": "stdout",
     "output_type": "stream",
     "text": [
      "Sujet : S7\n",
      "Caractéristique du sujet : {'WEIGHT': 58.0, 'Gender': ' f', 'AGE': 21, 'HEIGHT': 168.0, 'SKIN': 3, 'SPORT': 2}\n"
     ]
    }
   ],
   "source": [
    "print('Sujet : ' + str(data['subject']))\n",
    "print('Caractéristique du sujet : '+ str(data['questionnaire']))"
   ]
  },
  {
   "cell_type": "markdown",
   "metadata": {},
   "source": [
    "### 1.1. Etude du label"
   ]
  },
  {
   "cell_type": "code",
   "execution_count": 6,
   "metadata": {},
   "outputs": [
    {
     "name": "stdout",
     "output_type": "stream",
     "text": [
      "Le label est les valeurs des battements de coeur mesurés sur 8 secondes avec 2 secondes de repos, reporté sur 1 min\n",
      "La moyenne des battements par minute est : 86.68667454907391\n",
      "Le nombre de battements minimum par minute est : 48.63469322902146\n",
      "Le nombre de battements maximum par minute est : 152.9134108074917\n"
     ]
    },
    {
     "data": {
      "text/plain": [
       "<matplotlib.axes._subplots.AxesSubplot at 0x13e108f52b0>"
      ]
     },
     "execution_count": 6,
     "metadata": {},
     "output_type": "execute_result"
    },
    {
     "data": {
      "image/png": "[encoded data removed]",
      "text/plain": [
       "<Figure size 1296x432 with 1 Axes>"
      ]
     },
     "metadata": {
      "needs_background": "light"
     },
     "output_type": "display_data"
    }
   ],
   "source": [
    "print('Le label est les valeurs des battements de coeur mesurés sur 8 secondes avec 2 secondes de repos, reporté sur 1 min')\n",
    "print('La moyenne des battements par minute est : ' +str(data['label'].mean()))\n",
    "print('Le nombre de battements minimum par minute est : ' +str(data['label'].min()))\n",
    "print('Le nombre de battements maximum par minute est : ' +str(data['label'].max()))\n",
    "dflabel = pd.DataFrame(data['label'])\n",
    "dflabel.plot(yticks=range(0,225,25),figsize=(18,6))"
   ]
  },
  {
   "cell_type": "markdown",
   "metadata": {},
   "source": [
    "### On met à l'échelle des 9000 s"
   ]
  },
  {
   "cell_type": "code",
   "execution_count": 10,
   "metadata": {},
   "outputs": [
    {
     "data": {
      "image/png": "[encoded data removed]",
      "text/plain": [
       "<Figure size 1296x432 with 1 Axes>"
      ]
     },
     "metadata": {
      "needs_background": "light"
     },
     "output_type": "display_data"
    }
   ],
   "source": [
    "plt.figure(figsize = (18,6))\n",
    "plt.plot(dflabel.index*(9000/len(dflabel)), dflabel)\n",
    "plt.yticks(range(0,225,25))\n",
    "plt.show()"
   ]
  },
  {
   "cell_type": "markdown",
   "metadata": {},
   "source": [
    "### 1.2. Etude de l'activité"
   ]
  },
  {
   "cell_type": "code",
   "execution_count": 11,
   "metadata": {
    "scrolled": true
   },
   "outputs": [
    {
     "name": "stdout",
     "output_type": "stream",
     "text": [
      "On affiche le nombre de fois où on a réalisé l'activité : \n",
      "Transient periods(ID: 0)\n",
      "Sitting (ID: 1)\n",
      "Ascending and descending stairs (ID: 2)\n",
      "Table soccer (ID: 3): Playing table soccer\n",
      "Cycling (ID: 4)\n",
      "Driving a car (ID: 5)\n",
      "Lunch break (ID: 6)\n",
      "Walking (ID: 7)\n",
      "Working (ID: 8)\n"
     ]
    },
    {
     "data": {
      "text/plain": [
       "<matplotlib.axes._subplots.AxesSubplot at 0x13e4f2c9dd8>"
      ]
     },
     "execution_count": 11,
     "metadata": {},
     "output_type": "execute_result"
    },
    {
     "data": {
      "image/png": "[encoded data removed]",
      "text/plain": [
       "<Figure size 1296x432 with 1 Axes>"
      ]
     },
     "metadata": {
      "needs_background": "light"
     },
     "output_type": "display_data"
    }
   ],
   "source": [
    "dfactivity = pd.DataFrame(data['activity'])\n",
    "#On ajoute la colonne ci-après afin de pouvoir sommer\n",
    "dfactivity['nb'] = 1\n",
    "activity = dfactivity.groupby([0], as_index=False).sum()\n",
    "print('On affiche le nombre de fois où on a réalisé l\\'activité : ')\n",
    "print('Transient periods(ID: 0)\\nSitting (ID: 1)\\nAscending and descending stairs (ID: 2)\\nTable soccer (ID: 3): Playing table soccer\\nCycling (ID: 4)\\nDriving a car (ID: 5)\\nLunch break (ID: 6)\\nWalking (ID: 7)\\nWorking (ID: 8)')\n",
    "activity['nb'].plot(kind = \"bar\", figsize=(18,6))"
   ]
  },
  {
   "cell_type": "markdown",
   "metadata": {},
   "source": [
    "### J'essaie de retrouver le même schéma que la figure 1 du ReadMe"
   ]
  },
  {
   "cell_type": "code",
   "execution_count": 12,
   "metadata": {},
   "outputs": [
    {
     "name": "stdout",
     "output_type": "stream",
     "text": [
      "Nombre de secondes que dure une activité : 0.24082200577972815\n"
     ]
    }
   ],
   "source": [
    "print('Nombre de secondes que dure une activité : ' + str(9000/len(pd.DataFrame(data['activity']))))"
   ]
  },
  {
   "cell_type": "code",
   "execution_count": 13,
   "metadata": {},
   "outputs": [
    {
     "data": {
      "text/plain": [
       "<matplotlib.axes._subplots.AxesSubplot at 0x13e4ecc0550>"
      ]
     },
     "execution_count": 13,
     "metadata": {},
     "output_type": "execute_result"
    },
    {
     "data": {
      "image/png": "[encoded data removed]",
      "text/plain": [
       "<Figure size 1296x432 with 1 Axes>"
      ]
     },
     "metadata": {
      "needs_background": "light"
     },
     "output_type": "display_data"
    }
   ],
   "source": [
    "dfactivity = pd.DataFrame(data['activity'])\n",
    "dfactivity.plot(figsize=(18,6))"
   ]
  },
  {
   "cell_type": "markdown",
   "metadata": {},
   "source": [
    "### On met à l'échelle des 9000 s"
   ]
  },
  {
   "cell_type": "code",
   "execution_count": 14,
   "metadata": {},
   "outputs": [
    {
     "data": {
      "image/png": "[encoded data removed]",
      "text/plain": [
       "<Figure size 1296x432 with 1 Axes>"
      ]
     },
     "metadata": {
      "needs_background": "light"
     },
     "output_type": "display_data"
    }
   ],
   "source": [
    "dfactivity = pd.DataFrame(data['activity'])\n",
    "plt.figure(figsize = (18,6))\n",
    "plt.plot(dfactivity.index*(9000/len(dfactivity)), dfactivity)\n",
    "\n",
    "plt.show()"
   ]
  },
  {
   "cell_type": "markdown",
   "metadata": {},
   "source": [
    "### 1.3. Etude du lien entre activity et label (figure 1 du ReadMe)"
   ]
  },
  {
   "cell_type": "code",
   "execution_count": 15,
   "metadata": {},
   "outputs": [
    {
     "data": {
      "image/png": "[encoded data removed]",
      "text/plain": [
       "<Figure size 432x288 with 2 Axes>"
      ]
     },
     "metadata": {},
     "output_type": "display_data"
    }
   ],
   "source": [
    "fig, ax1 = plt.subplots()\n",
    "\n",
    "color = 'tab:blue'\n",
    "ax1.plot(dflabel.index*(9000/len(dflabel)), dflabel, color=color)\n",
    "ax1.tick_params(axis='y', labelcolor=color)\n",
    "ax1.set_yticks(range(0,225,25))\n",
    "\n",
    "\n",
    "ax2 = ax1.twinx()  # instantiate a second axes that shares the same x-axis\n",
    "\n",
    "color = 'tab:pink'\n",
    "ax2.plot(dfactivity.index*(9000/len(dfactivity)), dfactivity, color=color)\n",
    "ax2.tick_params(axis='y', labelcolor=color)\n",
    "\n",
    "fig.tight_layout()  # otherwise the right y-label is slightly clipped\n",
    "plt.show()"
   ]
  },
  {
   "cell_type": "markdown",
   "metadata": {},
   "source": [
    "## 2. Création d'un dataframe regroupant tous les sujets"
   ]
  },
  {
   "cell_type": "code",
   "execution_count": 16,
   "metadata": {},
   "outputs": [
    {
     "name": "stdout",
     "output_type": "stream",
     "text": [
      "1\n",
      "2\n",
      "3\n",
      "4\n",
      "5\n",
      "6\n",
      "7\n",
      "8\n",
      "9\n",
      "10\n",
      "11\n",
      "12\n",
      "13\n",
      "14\n",
      "15\n"
     ]
    }
   ],
   "source": [
    "alldatas = {}\n",
    "for i in range(1,16):\n",
    "    print(i)\n",
    "    alldatas[i] = pd.read_pickle(f\"C:/Users/Elise/Documents/Esilv/5emeAnnee/PythonForDataAnalysis/Projet/PPG_FieldStudy/S\"+str(i)+\"/S\"+str(i)+\".pkl\")"
   ]
  },
  {
   "cell_type": "code",
   "execution_count": 17,
   "metadata": {},
   "outputs": [
    {
     "data": {
      "text/html": [
       "<div>\n",
       "<style scoped>\n",
       "    .dataframe tbody tr th:only-of-type {\n",
       "        vertical-align: middle;\n",
       "    }\n",
       "\n",
       "    .dataframe tbody tr th {\n",
       "        vertical-align: top;\n",
       "    }\n",
       "\n",
       "    .dataframe thead th {\n",
       "        text-align: right;\n",
       "    }\n",
       "</style>\n",
       "<table border=\"1\" class=\"dataframe\">\n",
       "  <thead>\n",
       "    <tr style=\"text-align: right;\">\n",
       "      <th></th>\n",
       "      <th>1</th>\n",
       "      <th>2</th>\n",
       "      <th>3</th>\n",
       "      <th>4</th>\n",
       "      <th>5</th>\n",
       "      <th>6</th>\n",
       "      <th>7</th>\n",
       "      <th>8</th>\n",
       "      <th>9</th>\n",
       "      <th>10</th>\n",
       "      <th>11</th>\n",
       "      <th>12</th>\n",
       "      <th>13</th>\n",
       "      <th>14</th>\n",
       "      <th>15</th>\n",
       "    </tr>\n",
       "  </thead>\n",
       "  <tbody>\n",
       "    <tr>\n",
       "      <th>activity</th>\n",
       "      <td>[[0.0], [0.0], [0.0], [0.0], [0.0], [0.0], [0....</td>\n",
       "      <td>[[0.0], [0.0], [0.0], [0.0], [0.0], [0.0], [0....</td>\n",
       "      <td>[[0.0], [0.0], [0.0], [0.0], [0.0], [0.0], [0....</td>\n",
       "      <td>[[0.0], [0.0], [0.0], [0.0], [0.0], [0.0], [0....</td>\n",
       "      <td>[[0.0], [0.0], [0.0], [0.0], [0.0], [0.0], [0....</td>\n",
       "      <td>[[0.0], [0.0], [0.0], [0.0], [0.0], [0.0], [0....</td>\n",
       "      <td>[[0.0], [0.0], [0.0], [0.0], [0.0], [0.0], [0....</td>\n",
       "      <td>[[0.0], [0.0], [0.0], [0.0], [0.0], [0.0], [0....</td>\n",
       "      <td>[[0.0], [0.0], [0.0], [0.0], [0.0], [0.0], [0....</td>\n",
       "      <td>[[0.0], [0.0], [0.0], [0.0], [0.0], [0.0], [0....</td>\n",
       "      <td>[[0.0], [0.0], [0.0], [0.0], [0.0], [0.0], [0....</td>\n",
       "      <td>[[0.0], [0.0], [0.0], [0.0], [0.0], [0.0], [0....</td>\n",
       "      <td>[[0.0], [0.0], [0.0], [0.0], [0.0], [0.0], [0....</td>\n",
       "      <td>[[0.0], [0.0], [0.0], [0.0], [0.0], [0.0], [0....</td>\n",
       "      <td>[[0.0], [0.0], [0.0], [0.0], [0.0], [0.0], [0....</td>\n",
       "    </tr>\n",
       "    <tr>\n",
       "      <th>label</th>\n",
       "      <td>[49.611369076105795, 50.323992482870175, 52.70...</td>\n",
       "      <td>[70.92296570347261, 71.29105527689472, 68.6938...</td>\n",
       "      <td>[52.904905990895365, 52.4832848965976, 53.5990...</td>\n",
       "      <td>[69.33133569178202, 74.23985397460334, 80.6865...</td>\n",
       "      <td>[96.0906143466522, 101.29797045926367, 108.862...</td>\n",
       "      <td>[105.03603052300089, 109.08819284696261, 111.7...</td>\n",
       "      <td>[54.71764132217654, 55.17330164858371, 55.3930...</td>\n",
       "      <td>[57.91516848266533, 59.1418718794675, 61.37444...</td>\n",
       "      <td>[66.60310756946997, 66.72622532983297, 67.1437...</td>\n",
       "      <td>[64.28235587205951, 63.349710123072235, 64.568...</td>\n",
       "      <td>[73.41463469471395, 78.43265402408036, 82.3741...</td>\n",
       "      <td>[54.98420867920524, 56.68301554508546, 58.1600...</td>\n",
       "      <td>[63.79889727455826, 65.42809985054454, 65.7692...</td>\n",
       "      <td>[72.6747289184089, 76.95480136227845, 73.42384...</td>\n",
       "      <td>[51.789772141788326, 53.95587356823631, 59.379...</td>\n",
       "    </tr>\n",
       "    <tr>\n",
       "      <th>questionnaire</th>\n",
       "      <td>{'WEIGHT': 78.0, 'Gender': ' m', 'AGE': 34, 'H...</td>\n",
       "      <td>{'WEIGHT': 80.0, 'Gender': ' m', 'AGE': 28, 'H...</td>\n",
       "      <td>{'WEIGHT': 60.0, 'Gender': ' m', 'AGE': 25, 'H...</td>\n",
       "      <td>{'WEIGHT': 57.0, 'Gender': ' m', 'AGE': 25, 'H...</td>\n",
       "      <td>{'WEIGHT': 70.0, 'Gender': ' f', 'AGE': 21, 'H...</td>\n",
       "      <td>{'WEIGHT': 70.0, 'Gender': ' f', 'AGE': 37, 'H...</td>\n",
       "      <td>{'WEIGHT': 58.0, 'Gender': ' f', 'AGE': 21, 'H...</td>\n",
       "      <td>{'WEIGHT': 70.0, 'Gender': ' m', 'AGE': 43, 'H...</td>\n",
       "      <td>{'WEIGHT': 60.0, 'Gender': ' f', 'AGE': 28, 'H...</td>\n",
       "      <td>{'WEIGHT': 56.0, 'Gender': ' f', 'AGE': 55, 'H...</td>\n",
       "      <td>{'WEIGHT': 62.0, 'Gender': ' f', 'AGE': 24, 'H...</td>\n",
       "      <td>{'WEIGHT': 105.0, 'Gender': ' m', 'AGE': 43, '...</td>\n",
       "      <td>{'WEIGHT': 63.0, 'Gender': ' f', 'AGE': 21, 'H...</td>\n",
       "      <td>{'WEIGHT': 67.0, 'Gender': ' f', 'AGE': 26, 'H...</td>\n",
       "      <td>{'WEIGHT': 79.0, 'Gender': ' m', 'AGE': 28, 'H...</td>\n",
       "    </tr>\n",
       "    <tr>\n",
       "      <th>rpeaks</th>\n",
       "      <td>[240, 1174, 2128, 3099, 3907, 4733, 5404, 6382...</td>\n",
       "      <td>[33, 700, 1316, 1932, 2536, 3094, 3661, 4220, ...</td>\n",
       "      <td>[337, 1103, 1897, 2673, 3496, 4295, 5103, 5901...</td>\n",
       "      <td>[206, 910, 1510, 2150, 2768, 3331, 3911, 4505,...</td>\n",
       "      <td>[71, 519, 976, 1440, 1874, 2331, 2783, 3225, 3...</td>\n",
       "      <td>[31, 464, 891, 1313, 1726, 2132, 2534, 2924, 3...</td>\n",
       "      <td>[633, 1428, 2197, 2971, 3739, 4507, 5241, 5963...</td>\n",
       "      <td>[217, 960, 1697, 2433, 3116, 3836, 4560, 5297,...</td>\n",
       "      <td>[486, 1161, 1829, 2473, 3095, 3709, 4291, 4886...</td>\n",
       "      <td>[560, 1194, 1851, 2503, 3168, 3800, 4448, 5137...</td>\n",
       "      <td>[553, 1181, 1804, 2417, 3009, 3591, 4121, 4655...</td>\n",
       "      <td>[669, 1496, 2303, 3089, 3838, 4552, 5267, 5989...</td>\n",
       "      <td>[226, 961, 1673, 2376, 2968, 3585, 4253, 4867,...</td>\n",
       "      <td>[7, 707, 1377, 2028, 2629, 3162, 3678, 4199, 4...</td>\n",
       "      <td>[506, 1267, 2097, 2945, 3778, 4607, 5380, 6170...</td>\n",
       "    </tr>\n",
       "    <tr>\n",
       "      <th>signal</th>\n",
       "      <td>{'chest': {'ACC': [[ 0.85640001 -0.06779999 -0...</td>\n",
       "      <td>{'chest': {'ACC': [[0.91139996 0.03219998 0.05...</td>\n",
       "      <td>{'chest': {'ACC': [[ 0.90460002 -0.06120002 -0...</td>\n",
       "      <td>{'chest': {'ACC': [[ 0.90859997 -0.15979999  0...</td>\n",
       "      <td>{'chest': {'ACC': [[ 0.88940001 -0.25019997 -0...</td>\n",
       "      <td>{'chest': {'ACC': [[ 0.79540002 -0.167      -0...</td>\n",
       "      <td>{'chest': {'ACC': [[ 0.87160003  0.02540004 -0...</td>\n",
       "      <td>{'chest': {'ACC': [[ 0.90740001 -0.04100001  0...</td>\n",
       "      <td>{'chest': {'ACC': [[ 0.84739995 -0.00819999 -0...</td>\n",
       "      <td>{'chest': {'ACC': [[ 0.91760004 -0.01779997 -0...</td>\n",
       "      <td>{'chest': {'ACC': [[ 0.91779995 -0.0054      0...</td>\n",
       "      <td>{'chest': {'ACC': [[ 0.89100003 -0.01200002 -0...</td>\n",
       "      <td>{'chest': {'ACC': [[0.89300001 0.06099999 0.17...</td>\n",
       "      <td>{'chest': {'ACC': [[ 0.89300001  0.12619996 -0...</td>\n",
       "      <td>{'chest': {'ACC': [[ 0.86740005  0.16139996 -0...</td>\n",
       "    </tr>\n",
       "    <tr>\n",
       "      <th>subject</th>\n",
       "      <td>S1</td>\n",
       "      <td>S2</td>\n",
       "      <td>S3</td>\n",
       "      <td>S4</td>\n",
       "      <td>S5</td>\n",
       "      <td>S6</td>\n",
       "      <td>S7</td>\n",
       "      <td>S8</td>\n",
       "      <td>S9</td>\n",
       "      <td>S10</td>\n",
       "      <td>S11</td>\n",
       "      <td>S12</td>\n",
       "      <td>S13</td>\n",
       "      <td>S14</td>\n",
       "      <td>S15</td>\n",
       "    </tr>\n",
       "  </tbody>\n",
       "</table>\n",
       "</div>"
      ],
      "text/plain": [
       "                                                              1   \\\n",
       "activity       [[0.0], [0.0], [0.0], [0.0], [0.0], [0.0], [0....   \n",
       "label          [49.611369076105795, 50.323992482870175, 52.70...   \n",
       "questionnaire  {'WEIGHT': 78.0, 'Gender': ' m', 'AGE': 34, 'H...   \n",
       "rpeaks         [240, 1174, 2128, 3099, 3907, 4733, 5404, 6382...   \n",
       "signal         {'chest': {'ACC': [[ 0.85640001 -0.06779999 -0...   \n",
       "subject                                                       S1   \n",
       "\n",
       "                                                              2   \\\n",
       "activity       [[0.0], [0.0], [0.0], [0.0], [0.0], [0.0], [0....   \n",
       "label          [70.92296570347261, 71.29105527689472, 68.6938...   \n",
       "questionnaire  {'WEIGHT': 80.0, 'Gender': ' m', 'AGE': 28, 'H...   \n",
       "rpeaks         [33, 700, 1316, 1932, 2536, 3094, 3661, 4220, ...   \n",
       "signal         {'chest': {'ACC': [[0.91139996 0.03219998 0.05...   \n",
       "subject                                                       S2   \n",
       "\n",
       "                                                              3   \\\n",
       "activity       [[0.0], [0.0], [0.0], [0.0], [0.0], [0.0], [0....   \n",
       "label          [52.904905990895365, 52.4832848965976, 53.5990...   \n",
       "questionnaire  {'WEIGHT': 60.0, 'Gender': ' m', 'AGE': 25, 'H...   \n",
       "rpeaks         [337, 1103, 1897, 2673, 3496, 4295, 5103, 5901...   \n",
       "signal         {'chest': {'ACC': [[ 0.90460002 -0.06120002 -0...   \n",
       "subject                                                       S3   \n",
       "\n",
       "                                                              4   \\\n",
       "activity       [[0.0], [0.0], [0.0], [0.0], [0.0], [0.0], [0....   \n",
       "label          [69.33133569178202, 74.23985397460334, 80.6865...   \n",
       "questionnaire  {'WEIGHT': 57.0, 'Gender': ' m', 'AGE': 25, 'H...   \n",
       "rpeaks         [206, 910, 1510, 2150, 2768, 3331, 3911, 4505,...   \n",
       "signal         {'chest': {'ACC': [[ 0.90859997 -0.15979999  0...   \n",
       "subject                                                       S4   \n",
       "\n",
       "                                                              5   \\\n",
       "activity       [[0.0], [0.0], [0.0], [0.0], [0.0], [0.0], [0....   \n",
       "label          [96.0906143466522, 101.29797045926367, 108.862...   \n",
       "questionnaire  {'WEIGHT': 70.0, 'Gender': ' f', 'AGE': 21, 'H...   \n",
       "rpeaks         [71, 519, 976, 1440, 1874, 2331, 2783, 3225, 3...   \n",
       "signal         {'chest': {'ACC': [[ 0.88940001 -0.25019997 -0...   \n",
       "subject                                                       S5   \n",
       "\n",
       "                                                              6   \\\n",
       "activity       [[0.0], [0.0], [0.0], [0.0], [0.0], [0.0], [0....   \n",
       "label          [105.03603052300089, 109.08819284696261, 111.7...   \n",
       "questionnaire  {'WEIGHT': 70.0, 'Gender': ' f', 'AGE': 37, 'H...   \n",
       "rpeaks         [31, 464, 891, 1313, 1726, 2132, 2534, 2924, 3...   \n",
       "signal         {'chest': {'ACC': [[ 0.79540002 -0.167      -0...   \n",
       "subject                                                       S6   \n",
       "\n",
       "                                                              7   \\\n",
       "activity       [[0.0], [0.0], [0.0], [0.0], [0.0], [0.0], [0....   \n",
       "label          [54.71764132217654, 55.17330164858371, 55.3930...   \n",
       "questionnaire  {'WEIGHT': 58.0, 'Gender': ' f', 'AGE': 21, 'H...   \n",
       "rpeaks         [633, 1428, 2197, 2971, 3739, 4507, 5241, 5963...   \n",
       "signal         {'chest': {'ACC': [[ 0.87160003  0.02540004 -0...   \n",
       "subject                                                       S7   \n",
       "\n",
       "                                                              8   \\\n",
       "activity       [[0.0], [0.0], [0.0], [0.0], [0.0], [0.0], [0....   \n",
       "label          [57.91516848266533, 59.1418718794675, 61.37444...   \n",
       "questionnaire  {'WEIGHT': 70.0, 'Gender': ' m', 'AGE': 43, 'H...   \n",
       "rpeaks         [217, 960, 1697, 2433, 3116, 3836, 4560, 5297,...   \n",
       "signal         {'chest': {'ACC': [[ 0.90740001 -0.04100001  0...   \n",
       "subject                                                       S8   \n",
       "\n",
       "                                                              9   \\\n",
       "activity       [[0.0], [0.0], [0.0], [0.0], [0.0], [0.0], [0....   \n",
       "label          [66.60310756946997, 66.72622532983297, 67.1437...   \n",
       "questionnaire  {'WEIGHT': 60.0, 'Gender': ' f', 'AGE': 28, 'H...   \n",
       "rpeaks         [486, 1161, 1829, 2473, 3095, 3709, 4291, 4886...   \n",
       "signal         {'chest': {'ACC': [[ 0.84739995 -0.00819999 -0...   \n",
       "subject                                                       S9   \n",
       "\n",
       "                                                              10  \\\n",
       "activity       [[0.0], [0.0], [0.0], [0.0], [0.0], [0.0], [0....   \n",
       "label          [64.28235587205951, 63.349710123072235, 64.568...   \n",
       "questionnaire  {'WEIGHT': 56.0, 'Gender': ' f', 'AGE': 55, 'H...   \n",
       "rpeaks         [560, 1194, 1851, 2503, 3168, 3800, 4448, 5137...   \n",
       "signal         {'chest': {'ACC': [[ 0.91760004 -0.01779997 -0...   \n",
       "subject                                                      S10   \n",
       "\n",
       "                                                              11  \\\n",
       "activity       [[0.0], [0.0], [0.0], [0.0], [0.0], [0.0], [0....   \n",
       "label          [73.41463469471395, 78.43265402408036, 82.3741...   \n",
       "questionnaire  {'WEIGHT': 62.0, 'Gender': ' f', 'AGE': 24, 'H...   \n",
       "rpeaks         [553, 1181, 1804, 2417, 3009, 3591, 4121, 4655...   \n",
       "signal         {'chest': {'ACC': [[ 0.91779995 -0.0054      0...   \n",
       "subject                                                      S11   \n",
       "\n",
       "                                                              12  \\\n",
       "activity       [[0.0], [0.0], [0.0], [0.0], [0.0], [0.0], [0....   \n",
       "label          [54.98420867920524, 56.68301554508546, 58.1600...   \n",
       "questionnaire  {'WEIGHT': 105.0, 'Gender': ' m', 'AGE': 43, '...   \n",
       "rpeaks         [669, 1496, 2303, 3089, 3838, 4552, 5267, 5989...   \n",
       "signal         {'chest': {'ACC': [[ 0.89100003 -0.01200002 -0...   \n",
       "subject                                                      S12   \n",
       "\n",
       "                                                              13  \\\n",
       "activity       [[0.0], [0.0], [0.0], [0.0], [0.0], [0.0], [0....   \n",
       "label          [63.79889727455826, 65.42809985054454, 65.7692...   \n",
       "questionnaire  {'WEIGHT': 63.0, 'Gender': ' f', 'AGE': 21, 'H...   \n",
       "rpeaks         [226, 961, 1673, 2376, 2968, 3585, 4253, 4867,...   \n",
       "signal         {'chest': {'ACC': [[0.89300001 0.06099999 0.17...   \n",
       "subject                                                      S13   \n",
       "\n",
       "                                                              14  \\\n",
       "activity       [[0.0], [0.0], [0.0], [0.0], [0.0], [0.0], [0....   \n",
       "label          [72.6747289184089, 76.95480136227845, 73.42384...   \n",
       "questionnaire  {'WEIGHT': 67.0, 'Gender': ' f', 'AGE': 26, 'H...   \n",
       "rpeaks         [7, 707, 1377, 2028, 2629, 3162, 3678, 4199, 4...   \n",
       "signal         {'chest': {'ACC': [[ 0.89300001  0.12619996 -0...   \n",
       "subject                                                      S14   \n",
       "\n",
       "                                                              15  \n",
       "activity       [[0.0], [0.0], [0.0], [0.0], [0.0], [0.0], [0....  \n",
       "label          [51.789772141788326, 53.95587356823631, 59.379...  \n",
       "questionnaire  {'WEIGHT': 79.0, 'Gender': ' m', 'AGE': 28, 'H...  \n",
       "rpeaks         [506, 1267, 2097, 2945, 3778, 4607, 5380, 6170...  \n",
       "signal         {'chest': {'ACC': [[ 0.86740005  0.16139996 -0...  \n",
       "subject                                                      S15  "
      ]
     },
     "execution_count": 17,
     "metadata": {},
     "output_type": "execute_result"
    }
   ],
   "source": [
    "pd.DataFrame(alldatas)"
   ]
  },
  {
   "cell_type": "markdown",
   "metadata": {},
   "source": [
    "Il est facile de mettre à l'échelle des 9000s pour un plot mais afin d'anticiper notre X pour la classification il faut que nous les mettions tous à l'échelle. Comme notre y sera activity et que celle-ci est à 4Hz on va tout ramener à 4 Hz."
   ]
  },
  {
   "cell_type": "markdown",
   "metadata": {},
   "source": [
    "Créons une fonction qui nous permettra de tout mettre à la bonne échelle"
   ]
  },
  {
   "cell_type": "code",
   "execution_count": 18,
   "metadata": {},
   "outputs": [],
   "source": [
    "def mise_echelle_4H(datas, freq):\n",
    "    temp = []\n",
    "    nombre_division = int(freq / 4)\n",
    "    \n",
    "    for i in range(0, len(datas), nombre_division):\n",
    "        temp.append((sum(datas[i:i+nombre_division]) / nombre_division))\n",
    "    return temp"
   ]
  },
  {
   "cell_type": "code",
   "execution_count": 19,
   "metadata": {},
   "outputs": [
    {
     "data": {
      "text/html": [
       "<div>\n",
       "<style scoped>\n",
       "    .dataframe tbody tr th:only-of-type {\n",
       "        vertical-align: middle;\n",
       "    }\n",
       "\n",
       "    .dataframe tbody tr th {\n",
       "        vertical-align: top;\n",
       "    }\n",
       "\n",
       "    .dataframe thead th {\n",
       "        text-align: right;\n",
       "    }\n",
       "</style>\n",
       "<table border=\"1\" class=\"dataframe\">\n",
       "  <thead>\n",
       "    <tr style=\"text-align: right;\">\n",
       "      <th></th>\n",
       "      <th>IDSubject</th>\n",
       "      <th>WEIGHT</th>\n",
       "      <th>Gender</th>\n",
       "      <th>AGE</th>\n",
       "      <th>HEIGHT</th>\n",
       "      <th>SKIN</th>\n",
       "      <th>SPORT</th>\n",
       "      <th>activity</th>\n",
       "      <th>label</th>\n",
       "      <th>xchest</th>\n",
       "      <th>ychest</th>\n",
       "      <th>zchest</th>\n",
       "      <th>ecg</th>\n",
       "      <th>resp</th>\n",
       "      <th>xwrist</th>\n",
       "      <th>ywrist</th>\n",
       "      <th>zwrist</th>\n",
       "      <th>bvp</th>\n",
       "      <th>temp</th>\n",
       "    </tr>\n",
       "  </thead>\n",
       "  <tbody>\n",
       "    <tr>\n",
       "      <th>0</th>\n",
       "      <td>1</td>\n",
       "      <td>78</td>\n",
       "      <td>m</td>\n",
       "      <td>34</td>\n",
       "      <td>182</td>\n",
       "      <td>3</td>\n",
       "      <td>6</td>\n",
       "      <td>0.0</td>\n",
       "      <td>49.611369</td>\n",
       "      <td>0.852157</td>\n",
       "      <td>-0.066488</td>\n",
       "      <td>-0.367784</td>\n",
       "      <td>0.035650</td>\n",
       "      <td>4.834438</td>\n",
       "      <td>-0.763672</td>\n",
       "      <td>-0.076172</td>\n",
       "      <td>0.669922</td>\n",
       "      <td>0.138125</td>\n",
       "      <td>32.13</td>\n",
       "    </tr>\n",
       "    <tr>\n",
       "      <th>1</th>\n",
       "      <td>1</td>\n",
       "      <td>78</td>\n",
       "      <td>m</td>\n",
       "      <td>34</td>\n",
       "      <td>182</td>\n",
       "      <td>3</td>\n",
       "      <td>6</td>\n",
       "      <td>0.0</td>\n",
       "      <td>49.611369</td>\n",
       "      <td>0.851262</td>\n",
       "      <td>-0.066655</td>\n",
       "      <td>-0.370442</td>\n",
       "      <td>0.103145</td>\n",
       "      <td>4.238839</td>\n",
       "      <td>-0.763672</td>\n",
       "      <td>-0.078125</td>\n",
       "      <td>0.671875</td>\n",
       "      <td>-26.262500</td>\n",
       "      <td>32.16</td>\n",
       "    </tr>\n",
       "    <tr>\n",
       "      <th>2</th>\n",
       "      <td>1</td>\n",
       "      <td>78</td>\n",
       "      <td>m</td>\n",
       "      <td>34</td>\n",
       "      <td>182</td>\n",
       "      <td>3</td>\n",
       "      <td>6</td>\n",
       "      <td>0.0</td>\n",
       "      <td>49.611369</td>\n",
       "      <td>0.851570</td>\n",
       "      <td>-0.064677</td>\n",
       "      <td>-0.370251</td>\n",
       "      <td>0.099101</td>\n",
       "      <td>2.058559</td>\n",
       "      <td>-0.761719</td>\n",
       "      <td>-0.078125</td>\n",
       "      <td>0.671875</td>\n",
       "      <td>-40.959375</td>\n",
       "      <td>32.16</td>\n",
       "    </tr>\n",
       "    <tr>\n",
       "      <th>3</th>\n",
       "      <td>1</td>\n",
       "      <td>78</td>\n",
       "      <td>m</td>\n",
       "      <td>34</td>\n",
       "      <td>182</td>\n",
       "      <td>3</td>\n",
       "      <td>6</td>\n",
       "      <td>0.0</td>\n",
       "      <td>49.611369</td>\n",
       "      <td>0.852142</td>\n",
       "      <td>-0.065486</td>\n",
       "      <td>-0.371278</td>\n",
       "      <td>-0.170757</td>\n",
       "      <td>-0.463981</td>\n",
       "      <td>-0.753906</td>\n",
       "      <td>-0.078125</td>\n",
       "      <td>0.671875</td>\n",
       "      <td>24.173125</td>\n",
       "      <td>32.16</td>\n",
       "    </tr>\n",
       "    <tr>\n",
       "      <th>4</th>\n",
       "      <td>1</td>\n",
       "      <td>78</td>\n",
       "      <td>m</td>\n",
       "      <td>34</td>\n",
       "      <td>182</td>\n",
       "      <td>3</td>\n",
       "      <td>6</td>\n",
       "      <td>0.0</td>\n",
       "      <td>49.611369</td>\n",
       "      <td>0.851958</td>\n",
       "      <td>-0.065894</td>\n",
       "      <td>-0.370466</td>\n",
       "      <td>-0.036633</td>\n",
       "      <td>-1.867397</td>\n",
       "      <td>-0.761719</td>\n",
       "      <td>-0.076172</td>\n",
       "      <td>0.671875</td>\n",
       "      <td>25.781250</td>\n",
       "      <td>32.16</td>\n",
       "    </tr>\n",
       "    <tr>\n",
       "      <th>5</th>\n",
       "      <td>1</td>\n",
       "      <td>78</td>\n",
       "      <td>m</td>\n",
       "      <td>34</td>\n",
       "      <td>182</td>\n",
       "      <td>3</td>\n",
       "      <td>6</td>\n",
       "      <td>0.0</td>\n",
       "      <td>49.611369</td>\n",
       "      <td>0.853454</td>\n",
       "      <td>-0.066655</td>\n",
       "      <td>-0.367393</td>\n",
       "      <td>0.027540</td>\n",
       "      <td>-1.400373</td>\n",
       "      <td>-0.763672</td>\n",
       "      <td>-0.078125</td>\n",
       "      <td>0.671875</td>\n",
       "      <td>8.678125</td>\n",
       "      <td>32.15</td>\n",
       "    </tr>\n",
       "    <tr>\n",
       "      <th>6</th>\n",
       "      <td>1</td>\n",
       "      <td>78</td>\n",
       "      <td>m</td>\n",
       "      <td>34</td>\n",
       "      <td>182</td>\n",
       "      <td>3</td>\n",
       "      <td>6</td>\n",
       "      <td>0.0</td>\n",
       "      <td>49.611369</td>\n",
       "      <td>0.848446</td>\n",
       "      <td>-0.068993</td>\n",
       "      <td>-0.377715</td>\n",
       "      <td>0.119724</td>\n",
       "      <td>0.611511</td>\n",
       "      <td>-0.755859</td>\n",
       "      <td>-0.076172</td>\n",
       "      <td>0.673828</td>\n",
       "      <td>-17.215625</td>\n",
       "      <td>32.15</td>\n",
       "    </tr>\n",
       "    <tr>\n",
       "      <th>7</th>\n",
       "      <td>1</td>\n",
       "      <td>78</td>\n",
       "      <td>m</td>\n",
       "      <td>34</td>\n",
       "      <td>182</td>\n",
       "      <td>3</td>\n",
       "      <td>6</td>\n",
       "      <td>0.0</td>\n",
       "      <td>49.611369</td>\n",
       "      <td>0.848849</td>\n",
       "      <td>-0.063319</td>\n",
       "      <td>-0.363015</td>\n",
       "      <td>0.134410</td>\n",
       "      <td>2.554940</td>\n",
       "      <td>-0.765625</td>\n",
       "      <td>-0.070312</td>\n",
       "      <td>0.671875</td>\n",
       "      <td>-35.286875</td>\n",
       "      <td>32.15</td>\n",
       "    </tr>\n",
       "    <tr>\n",
       "      <th>8</th>\n",
       "      <td>1</td>\n",
       "      <td>78</td>\n",
       "      <td>m</td>\n",
       "      <td>34</td>\n",
       "      <td>182</td>\n",
       "      <td>3</td>\n",
       "      <td>6</td>\n",
       "      <td>0.0</td>\n",
       "      <td>50.323992</td>\n",
       "      <td>0.847730</td>\n",
       "      <td>-0.070083</td>\n",
       "      <td>-0.379448</td>\n",
       "      <td>-0.212572</td>\n",
       "      <td>2.310625</td>\n",
       "      <td>-0.751953</td>\n",
       "      <td>-0.078125</td>\n",
       "      <td>0.671875</td>\n",
       "      <td>21.870000</td>\n",
       "      <td>32.15</td>\n",
       "    </tr>\n",
       "    <tr>\n",
       "      <th>9</th>\n",
       "      <td>1</td>\n",
       "      <td>78</td>\n",
       "      <td>m</td>\n",
       "      <td>34</td>\n",
       "      <td>182</td>\n",
       "      <td>3</td>\n",
       "      <td>6</td>\n",
       "      <td>0.0</td>\n",
       "      <td>50.323992</td>\n",
       "      <td>0.848426</td>\n",
       "      <td>-0.065433</td>\n",
       "      <td>-0.378317</td>\n",
       "      <td>-0.074286</td>\n",
       "      <td>0.124163</td>\n",
       "      <td>-0.755859</td>\n",
       "      <td>-0.078125</td>\n",
       "      <td>0.671875</td>\n",
       "      <td>28.181250</td>\n",
       "      <td>32.15</td>\n",
       "    </tr>\n",
       "    <tr>\n",
       "      <th>10</th>\n",
       "      <td>1</td>\n",
       "      <td>78</td>\n",
       "      <td>m</td>\n",
       "      <td>34</td>\n",
       "      <td>182</td>\n",
       "      <td>3</td>\n",
       "      <td>6</td>\n",
       "      <td>0.0</td>\n",
       "      <td>50.323992</td>\n",
       "      <td>0.851305</td>\n",
       "      <td>-0.064755</td>\n",
       "      <td>-0.372001</td>\n",
       "      <td>0.011253</td>\n",
       "      <td>-1.979283</td>\n",
       "      <td>-0.761719</td>\n",
       "      <td>-0.076172</td>\n",
       "      <td>0.671875</td>\n",
       "      <td>10.370625</td>\n",
       "      <td>32.15</td>\n",
       "    </tr>\n",
       "    <tr>\n",
       "      <th>11</th>\n",
       "      <td>1</td>\n",
       "      <td>78</td>\n",
       "      <td>m</td>\n",
       "      <td>34</td>\n",
       "      <td>182</td>\n",
       "      <td>3</td>\n",
       "      <td>6</td>\n",
       "      <td>0.0</td>\n",
       "      <td>50.323992</td>\n",
       "      <td>0.850046</td>\n",
       "      <td>-0.065035</td>\n",
       "      <td>-0.370826</td>\n",
       "      <td>0.024181</td>\n",
       "      <td>-2.932199</td>\n",
       "      <td>-0.759766</td>\n",
       "      <td>-0.078125</td>\n",
       "      <td>0.671875</td>\n",
       "      <td>-11.989375</td>\n",
       "      <td>32.15</td>\n",
       "    </tr>\n",
       "    <tr>\n",
       "      <th>12</th>\n",
       "      <td>1</td>\n",
       "      <td>78</td>\n",
       "      <td>m</td>\n",
       "      <td>34</td>\n",
       "      <td>182</td>\n",
       "      <td>3</td>\n",
       "      <td>6</td>\n",
       "      <td>0.0</td>\n",
       "      <td>50.323992</td>\n",
       "      <td>0.852839</td>\n",
       "      <td>-0.061807</td>\n",
       "      <td>-0.369928</td>\n",
       "      <td>0.098834</td>\n",
       "      <td>-2.916495</td>\n",
       "      <td>-0.755859</td>\n",
       "      <td>-0.078125</td>\n",
       "      <td>0.673828</td>\n",
       "      <td>-47.277500</td>\n",
       "      <td>32.15</td>\n",
       "    </tr>\n",
       "    <tr>\n",
       "      <th>13</th>\n",
       "      <td>1</td>\n",
       "      <td>78</td>\n",
       "      <td>m</td>\n",
       "      <td>34</td>\n",
       "      <td>182</td>\n",
       "      <td>3</td>\n",
       "      <td>6</td>\n",
       "      <td>0.0</td>\n",
       "      <td>50.323992</td>\n",
       "      <td>0.850029</td>\n",
       "      <td>-0.066958</td>\n",
       "      <td>-0.373975</td>\n",
       "      <td>0.011055</td>\n",
       "      <td>-2.525678</td>\n",
       "      <td>-0.759766</td>\n",
       "      <td>-0.078125</td>\n",
       "      <td>0.671875</td>\n",
       "      <td>10.258125</td>\n",
       "      <td>32.15</td>\n",
       "    </tr>\n",
       "    <tr>\n",
       "      <th>14</th>\n",
       "      <td>1</td>\n",
       "      <td>78</td>\n",
       "      <td>m</td>\n",
       "      <td>34</td>\n",
       "      <td>182</td>\n",
       "      <td>3</td>\n",
       "      <td>6</td>\n",
       "      <td>0.0</td>\n",
       "      <td>50.323992</td>\n",
       "      <td>0.848383</td>\n",
       "      <td>-0.065248</td>\n",
       "      <td>-0.375989</td>\n",
       "      <td>-0.135380</td>\n",
       "      <td>-2.297974</td>\n",
       "      <td>-0.755859</td>\n",
       "      <td>-0.078125</td>\n",
       "      <td>0.671875</td>\n",
       "      <td>30.864375</td>\n",
       "      <td>32.15</td>\n",
       "    </tr>\n",
       "    <tr>\n",
       "      <th>15</th>\n",
       "      <td>1</td>\n",
       "      <td>78</td>\n",
       "      <td>m</td>\n",
       "      <td>34</td>\n",
       "      <td>182</td>\n",
       "      <td>3</td>\n",
       "      <td>6</td>\n",
       "      <td>0.0</td>\n",
       "      <td>50.323992</td>\n",
       "      <td>0.875522</td>\n",
       "      <td>-0.057907</td>\n",
       "      <td>-0.362584</td>\n",
       "      <td>-0.019439</td>\n",
       "      <td>-1.977949</td>\n",
       "      <td>-0.832031</td>\n",
       "      <td>-0.064453</td>\n",
       "      <td>0.738281</td>\n",
       "      <td>17.435000</td>\n",
       "      <td>32.15</td>\n",
       "    </tr>\n",
       "    <tr>\n",
       "      <th>16</th>\n",
       "      <td>1</td>\n",
       "      <td>78</td>\n",
       "      <td>m</td>\n",
       "      <td>34</td>\n",
       "      <td>182</td>\n",
       "      <td>3</td>\n",
       "      <td>6</td>\n",
       "      <td>0.0</td>\n",
       "      <td>52.708336</td>\n",
       "      <td>0.865350</td>\n",
       "      <td>-0.093753</td>\n",
       "      <td>-0.345545</td>\n",
       "      <td>0.028982</td>\n",
       "      <td>-1.243461</td>\n",
       "      <td>-0.835938</td>\n",
       "      <td>-0.169922</td>\n",
       "      <td>0.375000</td>\n",
       "      <td>-4.821875</td>\n",
       "      <td>32.15</td>\n",
       "    </tr>\n",
       "    <tr>\n",
       "      <th>17</th>\n",
       "      <td>1</td>\n",
       "      <td>78</td>\n",
       "      <td>m</td>\n",
       "      <td>34</td>\n",
       "      <td>182</td>\n",
       "      <td>3</td>\n",
       "      <td>6</td>\n",
       "      <td>0.0</td>\n",
       "      <td>52.708336</td>\n",
       "      <td>0.860162</td>\n",
       "      <td>-0.036952</td>\n",
       "      <td>-0.288294</td>\n",
       "      <td>0.097250</td>\n",
       "      <td>-0.319536</td>\n",
       "      <td>-0.906250</td>\n",
       "      <td>-0.259766</td>\n",
       "      <td>0.296875</td>\n",
       "      <td>-35.417500</td>\n",
       "      <td>32.15</td>\n",
       "    </tr>\n",
       "    <tr>\n",
       "      <th>18</th>\n",
       "      <td>1</td>\n",
       "      <td>78</td>\n",
       "      <td>m</td>\n",
       "      <td>34</td>\n",
       "      <td>182</td>\n",
       "      <td>3</td>\n",
       "      <td>6</td>\n",
       "      <td>0.0</td>\n",
       "      <td>52.708336</td>\n",
       "      <td>0.839962</td>\n",
       "      <td>-0.057024</td>\n",
       "      <td>-0.310743</td>\n",
       "      <td>0.151247</td>\n",
       "      <td>0.639832</td>\n",
       "      <td>-1.072266</td>\n",
       "      <td>-0.162109</td>\n",
       "      <td>0.187500</td>\n",
       "      <td>-21.785000</td>\n",
       "      <td>32.15</td>\n",
       "    </tr>\n",
       "    <tr>\n",
       "      <th>19</th>\n",
       "      <td>1</td>\n",
       "      <td>78</td>\n",
       "      <td>m</td>\n",
       "      <td>34</td>\n",
       "      <td>182</td>\n",
       "      <td>3</td>\n",
       "      <td>6</td>\n",
       "      <td>0.0</td>\n",
       "      <td>52.708336</td>\n",
       "      <td>0.896258</td>\n",
       "      <td>-0.091599</td>\n",
       "      <td>-0.279538</td>\n",
       "      <td>-0.220004</td>\n",
       "      <td>0.371059</td>\n",
       "      <td>-0.869141</td>\n",
       "      <td>-0.419922</td>\n",
       "      <td>0.080078</td>\n",
       "      <td>74.670000</td>\n",
       "      <td>32.15</td>\n",
       "    </tr>\n",
       "    <tr>\n",
       "      <th>20</th>\n",
       "      <td>1</td>\n",
       "      <td>78</td>\n",
       "      <td>m</td>\n",
       "      <td>34</td>\n",
       "      <td>182</td>\n",
       "      <td>3</td>\n",
       "      <td>6</td>\n",
       "      <td>0.0</td>\n",
       "      <td>52.708336</td>\n",
       "      <td>0.875751</td>\n",
       "      <td>-0.066258</td>\n",
       "      <td>-0.317931</td>\n",
       "      <td>-0.072209</td>\n",
       "      <td>0.732840</td>\n",
       "      <td>-0.880859</td>\n",
       "      <td>-0.486328</td>\n",
       "      <td>0.210938</td>\n",
       "      <td>108.626875</td>\n",
       "      <td>32.15</td>\n",
       "    </tr>\n",
       "    <tr>\n",
       "      <th>21</th>\n",
       "      <td>1</td>\n",
       "      <td>78</td>\n",
       "      <td>m</td>\n",
       "      <td>34</td>\n",
       "      <td>182</td>\n",
       "      <td>3</td>\n",
       "      <td>6</td>\n",
       "      <td>0.0</td>\n",
       "      <td>52.708336</td>\n",
       "      <td>0.861027</td>\n",
       "      <td>-0.077419</td>\n",
       "      <td>-0.357689</td>\n",
       "      <td>0.000539</td>\n",
       "      <td>1.646136</td>\n",
       "      <td>-0.767578</td>\n",
       "      <td>-0.488281</td>\n",
       "      <td>0.335938</td>\n",
       "      <td>-110.475000</td>\n",
       "      <td>32.15</td>\n",
       "    </tr>\n",
       "    <tr>\n",
       "      <th>22</th>\n",
       "      <td>1</td>\n",
       "      <td>78</td>\n",
       "      <td>m</td>\n",
       "      <td>34</td>\n",
       "      <td>182</td>\n",
       "      <td>3</td>\n",
       "      <td>6</td>\n",
       "      <td>0.0</td>\n",
       "      <td>52.708336</td>\n",
       "      <td>0.836178</td>\n",
       "      <td>-0.040602</td>\n",
       "      <td>-0.382854</td>\n",
       "      <td>0.105364</td>\n",
       "      <td>1.424168</td>\n",
       "      <td>-0.800781</td>\n",
       "      <td>-0.449219</td>\n",
       "      <td>0.474609</td>\n",
       "      <td>-59.528125</td>\n",
       "      <td>32.15</td>\n",
       "    </tr>\n",
       "    <tr>\n",
       "      <th>23</th>\n",
       "      <td>1</td>\n",
       "      <td>78</td>\n",
       "      <td>m</td>\n",
       "      <td>34</td>\n",
       "      <td>182</td>\n",
       "      <td>3</td>\n",
       "      <td>6</td>\n",
       "      <td>0.0</td>\n",
       "      <td>52.708336</td>\n",
       "      <td>0.862327</td>\n",
       "      <td>-0.045682</td>\n",
       "      <td>-0.344133</td>\n",
       "      <td>0.079459</td>\n",
       "      <td>0.726815</td>\n",
       "      <td>-0.837891</td>\n",
       "      <td>-0.462891</td>\n",
       "      <td>0.341797</td>\n",
       "      <td>-105.866875</td>\n",
       "      <td>32.15</td>\n",
       "    </tr>\n",
       "    <tr>\n",
       "      <th>24</th>\n",
       "      <td>1</td>\n",
       "      <td>78</td>\n",
       "      <td>m</td>\n",
       "      <td>34</td>\n",
       "      <td>182</td>\n",
       "      <td>3</td>\n",
       "      <td>6</td>\n",
       "      <td>0.0</td>\n",
       "      <td>55.640794</td>\n",
       "      <td>0.857360</td>\n",
       "      <td>-0.075017</td>\n",
       "      <td>-0.339330</td>\n",
       "      <td>-0.149805</td>\n",
       "      <td>0.187753</td>\n",
       "      <td>-0.833984</td>\n",
       "      <td>-0.312500</td>\n",
       "      <td>0.330078</td>\n",
       "      <td>-51.082500</td>\n",
       "      <td>32.15</td>\n",
       "    </tr>\n",
       "    <tr>\n",
       "      <th>25</th>\n",
       "      <td>1</td>\n",
       "      <td>78</td>\n",
       "      <td>m</td>\n",
       "      <td>34</td>\n",
       "      <td>182</td>\n",
       "      <td>3</td>\n",
       "      <td>6</td>\n",
       "      <td>0.0</td>\n",
       "      <td>55.640794</td>\n",
       "      <td>0.887529</td>\n",
       "      <td>-0.085578</td>\n",
       "      <td>-0.264097</td>\n",
       "      <td>-0.023052</td>\n",
       "      <td>0.076346</td>\n",
       "      <td>-0.978516</td>\n",
       "      <td>-0.226562</td>\n",
       "      <td>0.298828</td>\n",
       "      <td>110.286250</td>\n",
       "      <td>32.13</td>\n",
       "    </tr>\n",
       "    <tr>\n",
       "      <th>26</th>\n",
       "      <td>1</td>\n",
       "      <td>78</td>\n",
       "      <td>m</td>\n",
       "      <td>34</td>\n",
       "      <td>182</td>\n",
       "      <td>3</td>\n",
       "      <td>6</td>\n",
       "      <td>0.0</td>\n",
       "      <td>55.640794</td>\n",
       "      <td>0.877170</td>\n",
       "      <td>-0.073688</td>\n",
       "      <td>-0.278190</td>\n",
       "      <td>0.032590</td>\n",
       "      <td>0.395211</td>\n",
       "      <td>-1.000000</td>\n",
       "      <td>-0.181641</td>\n",
       "      <td>0.199219</td>\n",
       "      <td>112.145625</td>\n",
       "      <td>32.13</td>\n",
       "    </tr>\n",
       "    <tr>\n",
       "      <th>27</th>\n",
       "      <td>1</td>\n",
       "      <td>78</td>\n",
       "      <td>m</td>\n",
       "      <td>34</td>\n",
       "      <td>182</td>\n",
       "      <td>3</td>\n",
       "      <td>6</td>\n",
       "      <td>0.0</td>\n",
       "      <td>55.640794</td>\n",
       "      <td>0.891912</td>\n",
       "      <td>-0.083240</td>\n",
       "      <td>-0.244237</td>\n",
       "      <td>0.124832</td>\n",
       "      <td>0.431013</td>\n",
       "      <td>-1.017578</td>\n",
       "      <td>-0.126953</td>\n",
       "      <td>0.152344</td>\n",
       "      <td>-18.624375</td>\n",
       "      <td>32.13</td>\n",
       "    </tr>\n",
       "    <tr>\n",
       "      <th>28</th>\n",
       "      <td>1</td>\n",
       "      <td>78</td>\n",
       "      <td>m</td>\n",
       "      <td>34</td>\n",
       "      <td>182</td>\n",
       "      <td>3</td>\n",
       "      <td>6</td>\n",
       "      <td>0.0</td>\n",
       "      <td>55.640794</td>\n",
       "      <td>0.894077</td>\n",
       "      <td>-0.057826</td>\n",
       "      <td>-0.251440</td>\n",
       "      <td>-0.017972</td>\n",
       "      <td>0.431920</td>\n",
       "      <td>-1.003906</td>\n",
       "      <td>-0.130859</td>\n",
       "      <td>0.134766</td>\n",
       "      <td>-99.406875</td>\n",
       "      <td>32.13</td>\n",
       "    </tr>\n",
       "    <tr>\n",
       "      <th>29</th>\n",
       "      <td>1</td>\n",
       "      <td>78</td>\n",
       "      <td>m</td>\n",
       "      <td>34</td>\n",
       "      <td>182</td>\n",
       "      <td>3</td>\n",
       "      <td>6</td>\n",
       "      <td>0.0</td>\n",
       "      <td>55.640794</td>\n",
       "      <td>0.888249</td>\n",
       "      <td>-0.046453</td>\n",
       "      <td>-0.249119</td>\n",
       "      <td>-0.120418</td>\n",
       "      <td>0.614790</td>\n",
       "      <td>-0.992188</td>\n",
       "      <td>-0.068359</td>\n",
       "      <td>0.144531</td>\n",
       "      <td>-8.011250</td>\n",
       "      <td>32.15</td>\n",
       "    </tr>\n",
       "    <tr>\n",
       "      <th>...</th>\n",
       "      <td>...</td>\n",
       "      <td>...</td>\n",
       "      <td>...</td>\n",
       "      <td>...</td>\n",
       "      <td>...</td>\n",
       "      <td>...</td>\n",
       "      <td>...</td>\n",
       "      <td>...</td>\n",
       "      <td>...</td>\n",
       "      <td>...</td>\n",
       "      <td>...</td>\n",
       "      <td>...</td>\n",
       "      <td>...</td>\n",
       "      <td>...</td>\n",
       "      <td>...</td>\n",
       "      <td>...</td>\n",
       "      <td>...</td>\n",
       "      <td>...</td>\n",
       "      <td>...</td>\n",
       "    </tr>\n",
       "    <tr>\n",
       "      <th>31726</th>\n",
       "      <td>15</td>\n",
       "      <td>79</td>\n",
       "      <td>m</td>\n",
       "      <td>28</td>\n",
       "      <td>183</td>\n",
       "      <td>2</td>\n",
       "      <td>5</td>\n",
       "      <td>0.0</td>\n",
       "      <td>80.853007</td>\n",
       "      <td>0.892984</td>\n",
       "      <td>0.015378</td>\n",
       "      <td>-0.226602</td>\n",
       "      <td>0.027098</td>\n",
       "      <td>-0.262198</td>\n",
       "      <td>-0.697266</td>\n",
       "      <td>0.167969</td>\n",
       "      <td>0.441406</td>\n",
       "      <td>14.191250</td>\n",
       "      <td>34.00</td>\n",
       "    </tr>\n",
       "    <tr>\n",
       "      <th>31727</th>\n",
       "      <td>15</td>\n",
       "      <td>79</td>\n",
       "      <td>m</td>\n",
       "      <td>28</td>\n",
       "      <td>183</td>\n",
       "      <td>2</td>\n",
       "      <td>5</td>\n",
       "      <td>0.0</td>\n",
       "      <td>80.853007</td>\n",
       "      <td>0.891616</td>\n",
       "      <td>0.015399</td>\n",
       "      <td>-0.230031</td>\n",
       "      <td>-0.149866</td>\n",
       "      <td>0.568359</td>\n",
       "      <td>-1.066406</td>\n",
       "      <td>0.298828</td>\n",
       "      <td>-0.455078</td>\n",
       "      <td>-13.876250</td>\n",
       "      <td>34.00</td>\n",
       "    </tr>\n",
       "    <tr>\n",
       "      <th>31728</th>\n",
       "      <td>15</td>\n",
       "      <td>79</td>\n",
       "      <td>m</td>\n",
       "      <td>28</td>\n",
       "      <td>183</td>\n",
       "      <td>2</td>\n",
       "      <td>5</td>\n",
       "      <td>0.0</td>\n",
       "      <td>79.664230</td>\n",
       "      <td>0.891182</td>\n",
       "      <td>0.014858</td>\n",
       "      <td>-0.228905</td>\n",
       "      <td>0.052159</td>\n",
       "      <td>1.295524</td>\n",
       "      <td>-1.054688</td>\n",
       "      <td>-0.115234</td>\n",
       "      <td>0.083984</td>\n",
       "      <td>-14.053125</td>\n",
       "      <td>33.99</td>\n",
       "    </tr>\n",
       "    <tr>\n",
       "      <th>31729</th>\n",
       "      <td>15</td>\n",
       "      <td>79</td>\n",
       "      <td>m</td>\n",
       "      <td>28</td>\n",
       "      <td>183</td>\n",
       "      <td>2</td>\n",
       "      <td>5</td>\n",
       "      <td>0.0</td>\n",
       "      <td>79.664230</td>\n",
       "      <td>0.881602</td>\n",
       "      <td>0.028042</td>\n",
       "      <td>-0.196783</td>\n",
       "      <td>0.098479</td>\n",
       "      <td>1.610360</td>\n",
       "      <td>-0.228516</td>\n",
       "      <td>0.046875</td>\n",
       "      <td>0.824219</td>\n",
       "      <td>-12.603750</td>\n",
       "      <td>33.99</td>\n",
       "    </tr>\n",
       "    <tr>\n",
       "      <th>31730</th>\n",
       "      <td>15</td>\n",
       "      <td>79</td>\n",
       "      <td>m</td>\n",
       "      <td>28</td>\n",
       "      <td>183</td>\n",
       "      <td>2</td>\n",
       "      <td>5</td>\n",
       "      <td>0.0</td>\n",
       "      <td>79.664230</td>\n",
       "      <td>0.917600</td>\n",
       "      <td>0.020735</td>\n",
       "      <td>-0.173027</td>\n",
       "      <td>-0.067987</td>\n",
       "      <td>1.167742</td>\n",
       "      <td>-0.273438</td>\n",
       "      <td>0.019531</td>\n",
       "      <td>0.955078</td>\n",
       "      <td>-13.898750</td>\n",
       "      <td>33.99</td>\n",
       "    </tr>\n",
       "    <tr>\n",
       "      <th>31731</th>\n",
       "      <td>15</td>\n",
       "      <td>79</td>\n",
       "      <td>m</td>\n",
       "      <td>28</td>\n",
       "      <td>183</td>\n",
       "      <td>2</td>\n",
       "      <td>5</td>\n",
       "      <td>0.0</td>\n",
       "      <td>79.664230</td>\n",
       "      <td>0.874753</td>\n",
       "      <td>0.017560</td>\n",
       "      <td>-0.212190</td>\n",
       "      <td>0.116314</td>\n",
       "      <td>-0.040615</td>\n",
       "      <td>-0.253906</td>\n",
       "      <td>0.005859</td>\n",
       "      <td>0.939453</td>\n",
       "      <td>67.853750</td>\n",
       "      <td>33.99</td>\n",
       "    </tr>\n",
       "    <tr>\n",
       "      <th>31732</th>\n",
       "      <td>15</td>\n",
       "      <td>79</td>\n",
       "      <td>m</td>\n",
       "      <td>28</td>\n",
       "      <td>183</td>\n",
       "      <td>2</td>\n",
       "      <td>5</td>\n",
       "      <td>0.0</td>\n",
       "      <td>79.664230</td>\n",
       "      <td>0.895957</td>\n",
       "      <td>0.032169</td>\n",
       "      <td>-0.178170</td>\n",
       "      <td>0.116551</td>\n",
       "      <td>-1.390773</td>\n",
       "      <td>-0.246094</td>\n",
       "      <td>0.037109</td>\n",
       "      <td>0.957031</td>\n",
       "      <td>-22.895625</td>\n",
       "      <td>33.99</td>\n",
       "    </tr>\n",
       "    <tr>\n",
       "      <th>31733</th>\n",
       "      <td>15</td>\n",
       "      <td>79</td>\n",
       "      <td>m</td>\n",
       "      <td>28</td>\n",
       "      <td>183</td>\n",
       "      <td>2</td>\n",
       "      <td>5</td>\n",
       "      <td>0.0</td>\n",
       "      <td>79.664230</td>\n",
       "      <td>0.901486</td>\n",
       "      <td>0.022885</td>\n",
       "      <td>-0.192530</td>\n",
       "      <td>-0.090502</td>\n",
       "      <td>-2.496268</td>\n",
       "      <td>-0.240234</td>\n",
       "      <td>0.017578</td>\n",
       "      <td>0.947266</td>\n",
       "      <td>34.099375</td>\n",
       "      <td>33.99</td>\n",
       "    </tr>\n",
       "    <tr>\n",
       "      <th>31734</th>\n",
       "      <td>15</td>\n",
       "      <td>79</td>\n",
       "      <td>m</td>\n",
       "      <td>28</td>\n",
       "      <td>183</td>\n",
       "      <td>2</td>\n",
       "      <td>5</td>\n",
       "      <td>0.0</td>\n",
       "      <td>79.664230</td>\n",
       "      <td>0.898661</td>\n",
       "      <td>0.031704</td>\n",
       "      <td>-0.200032</td>\n",
       "      <td>0.019986</td>\n",
       "      <td>-3.371286</td>\n",
       "      <td>-0.251953</td>\n",
       "      <td>0.017578</td>\n",
       "      <td>0.947266</td>\n",
       "      <td>-41.079375</td>\n",
       "      <td>33.99</td>\n",
       "    </tr>\n",
       "    <tr>\n",
       "      <th>31735</th>\n",
       "      <td>15</td>\n",
       "      <td>79</td>\n",
       "      <td>m</td>\n",
       "      <td>28</td>\n",
       "      <td>183</td>\n",
       "      <td>2</td>\n",
       "      <td>5</td>\n",
       "      <td>0.0</td>\n",
       "      <td>79.664230</td>\n",
       "      <td>0.895493</td>\n",
       "      <td>0.024632</td>\n",
       "      <td>-0.201752</td>\n",
       "      <td>0.084626</td>\n",
       "      <td>-3.179051</td>\n",
       "      <td>-0.253906</td>\n",
       "      <td>0.005859</td>\n",
       "      <td>0.958984</td>\n",
       "      <td>-2.126875</td>\n",
       "      <td>33.99</td>\n",
       "    </tr>\n",
       "    <tr>\n",
       "      <th>31736</th>\n",
       "      <td>15</td>\n",
       "      <td>79</td>\n",
       "      <td>m</td>\n",
       "      <td>28</td>\n",
       "      <td>183</td>\n",
       "      <td>2</td>\n",
       "      <td>5</td>\n",
       "      <td>0.0</td>\n",
       "      <td>79.664230</td>\n",
       "      <td>0.896449</td>\n",
       "      <td>0.025639</td>\n",
       "      <td>-0.203514</td>\n",
       "      <td>-0.192143</td>\n",
       "      <td>-1.606602</td>\n",
       "      <td>-0.253906</td>\n",
       "      <td>0.011719</td>\n",
       "      <td>0.949219</td>\n",
       "      <td>-7.880000</td>\n",
       "      <td>33.99</td>\n",
       "    </tr>\n",
       "    <tr>\n",
       "      <th>31737</th>\n",
       "      <td>15</td>\n",
       "      <td>79</td>\n",
       "      <td>m</td>\n",
       "      <td>28</td>\n",
       "      <td>183</td>\n",
       "      <td>2</td>\n",
       "      <td>5</td>\n",
       "      <td>0.0</td>\n",
       "      <td>79.664230</td>\n",
       "      <td>0.895537</td>\n",
       "      <td>0.019741</td>\n",
       "      <td>-0.204318</td>\n",
       "      <td>-0.086073</td>\n",
       "      <td>0.440194</td>\n",
       "      <td>-0.257812</td>\n",
       "      <td>0.019531</td>\n",
       "      <td>0.962891</td>\n",
       "      <td>0.130000</td>\n",
       "      <td>33.99</td>\n",
       "    </tr>\n",
       "    <tr>\n",
       "      <th>31738</th>\n",
       "      <td>15</td>\n",
       "      <td>79</td>\n",
       "      <td>m</td>\n",
       "      <td>28</td>\n",
       "      <td>183</td>\n",
       "      <td>2</td>\n",
       "      <td>5</td>\n",
       "      <td>0.0</td>\n",
       "      <td>79.664230</td>\n",
       "      <td>0.897280</td>\n",
       "      <td>0.019643</td>\n",
       "      <td>-0.205576</td>\n",
       "      <td>0.183111</td>\n",
       "      <td>2.254107</td>\n",
       "      <td>-0.240234</td>\n",
       "      <td>0.015625</td>\n",
       "      <td>0.933594</td>\n",
       "      <td>14.740000</td>\n",
       "      <td>33.99</td>\n",
       "    </tr>\n",
       "    <tr>\n",
       "      <th>31739</th>\n",
       "      <td>15</td>\n",
       "      <td>79</td>\n",
       "      <td>m</td>\n",
       "      <td>28</td>\n",
       "      <td>183</td>\n",
       "      <td>2</td>\n",
       "      <td>5</td>\n",
       "      <td>0.0</td>\n",
       "      <td>79.664230</td>\n",
       "      <td>0.897944</td>\n",
       "      <td>0.020725</td>\n",
       "      <td>-0.202354</td>\n",
       "      <td>-0.161368</td>\n",
       "      <td>3.017909</td>\n",
       "      <td>-0.250000</td>\n",
       "      <td>0.021484</td>\n",
       "      <td>0.962891</td>\n",
       "      <td>-8.952500</td>\n",
       "      <td>33.99</td>\n",
       "    </tr>\n",
       "    <tr>\n",
       "      <th>31740</th>\n",
       "      <td>15</td>\n",
       "      <td>79</td>\n",
       "      <td>m</td>\n",
       "      <td>28</td>\n",
       "      <td>183</td>\n",
       "      <td>2</td>\n",
       "      <td>5</td>\n",
       "      <td>0.0</td>\n",
       "      <td>79.664230</td>\n",
       "      <td>0.897945</td>\n",
       "      <td>0.020448</td>\n",
       "      <td>-0.203021</td>\n",
       "      <td>-0.010868</td>\n",
       "      <td>2.432539</td>\n",
       "      <td>-0.242188</td>\n",
       "      <td>0.011719</td>\n",
       "      <td>0.949219</td>\n",
       "      <td>4.181250</td>\n",
       "      <td>34.00</td>\n",
       "    </tr>\n",
       "    <tr>\n",
       "      <th>31741</th>\n",
       "      <td>15</td>\n",
       "      <td>79</td>\n",
       "      <td>m</td>\n",
       "      <td>28</td>\n",
       "      <td>183</td>\n",
       "      <td>2</td>\n",
       "      <td>5</td>\n",
       "      <td>0.0</td>\n",
       "      <td>79.664230</td>\n",
       "      <td>0.896747</td>\n",
       "      <td>0.020778</td>\n",
       "      <td>-0.207638</td>\n",
       "      <td>0.160603</td>\n",
       "      <td>1.280997</td>\n",
       "      <td>-0.191406</td>\n",
       "      <td>0.009766</td>\n",
       "      <td>0.509766</td>\n",
       "      <td>10.438125</td>\n",
       "      <td>34.00</td>\n",
       "    </tr>\n",
       "    <tr>\n",
       "      <th>31742</th>\n",
       "      <td>15</td>\n",
       "      <td>79</td>\n",
       "      <td>m</td>\n",
       "      <td>28</td>\n",
       "      <td>183</td>\n",
       "      <td>2</td>\n",
       "      <td>5</td>\n",
       "      <td>0.0</td>\n",
       "      <td>79.664230</td>\n",
       "      <td>0.897397</td>\n",
       "      <td>0.021864</td>\n",
       "      <td>-0.206745</td>\n",
       "      <td>-0.121872</td>\n",
       "      <td>0.001657</td>\n",
       "      <td>-0.847656</td>\n",
       "      <td>0.609375</td>\n",
       "      <td>0.236328</td>\n",
       "      <td>-18.111875</td>\n",
       "      <td>34.00</td>\n",
       "    </tr>\n",
       "    <tr>\n",
       "      <th>31743</th>\n",
       "      <td>15</td>\n",
       "      <td>79</td>\n",
       "      <td>m</td>\n",
       "      <td>28</td>\n",
       "      <td>183</td>\n",
       "      <td>2</td>\n",
       "      <td>5</td>\n",
       "      <td>0.0</td>\n",
       "      <td>79.664230</td>\n",
       "      <td>0.897357</td>\n",
       "      <td>0.022410</td>\n",
       "      <td>-0.201846</td>\n",
       "      <td>0.002710</td>\n",
       "      <td>-0.996852</td>\n",
       "      <td>-0.650391</td>\n",
       "      <td>1.210938</td>\n",
       "      <td>0.378906</td>\n",
       "      <td>8.884375</td>\n",
       "      <td>34.00</td>\n",
       "    </tr>\n",
       "    <tr>\n",
       "      <th>31744</th>\n",
       "      <td>15</td>\n",
       "      <td>79</td>\n",
       "      <td>m</td>\n",
       "      <td>28</td>\n",
       "      <td>183</td>\n",
       "      <td>2</td>\n",
       "      <td>5</td>\n",
       "      <td>0.0</td>\n",
       "      <td>79.664230</td>\n",
       "      <td>0.896982</td>\n",
       "      <td>0.022335</td>\n",
       "      <td>-0.202762</td>\n",
       "      <td>0.128221</td>\n",
       "      <td>-1.359018</td>\n",
       "      <td>-0.644531</td>\n",
       "      <td>0.851562</td>\n",
       "      <td>0.039062</td>\n",
       "      <td>6.691875</td>\n",
       "      <td>33.99</td>\n",
       "    </tr>\n",
       "    <tr>\n",
       "      <th>31745</th>\n",
       "      <td>15</td>\n",
       "      <td>79</td>\n",
       "      <td>m</td>\n",
       "      <td>28</td>\n",
       "      <td>183</td>\n",
       "      <td>2</td>\n",
       "      <td>5</td>\n",
       "      <td>0.0</td>\n",
       "      <td>79.664230</td>\n",
       "      <td>0.896223</td>\n",
       "      <td>0.029703</td>\n",
       "      <td>-0.206515</td>\n",
       "      <td>-0.151076</td>\n",
       "      <td>-1.378435</td>\n",
       "      <td>-0.470703</td>\n",
       "      <td>0.921875</td>\n",
       "      <td>0.095703</td>\n",
       "      <td>-32.196250</td>\n",
       "      <td>33.99</td>\n",
       "    </tr>\n",
       "    <tr>\n",
       "      <th>31746</th>\n",
       "      <td>15</td>\n",
       "      <td>79</td>\n",
       "      <td>m</td>\n",
       "      <td>28</td>\n",
       "      <td>183</td>\n",
       "      <td>2</td>\n",
       "      <td>5</td>\n",
       "      <td>0.0</td>\n",
       "      <td>79.664230</td>\n",
       "      <td>0.885914</td>\n",
       "      <td>0.040470</td>\n",
       "      <td>-0.239301</td>\n",
       "      <td>-0.038106</td>\n",
       "      <td>-1.029018</td>\n",
       "      <td>-0.455078</td>\n",
       "      <td>0.822266</td>\n",
       "      <td>0.068359</td>\n",
       "      <td>-23.476875</td>\n",
       "      <td>33.99</td>\n",
       "    </tr>\n",
       "    <tr>\n",
       "      <th>31747</th>\n",
       "      <td>15</td>\n",
       "      <td>79</td>\n",
       "      <td>m</td>\n",
       "      <td>28</td>\n",
       "      <td>183</td>\n",
       "      <td>2</td>\n",
       "      <td>5</td>\n",
       "      <td>0.0</td>\n",
       "      <td>79.664230</td>\n",
       "      <td>0.897527</td>\n",
       "      <td>0.019464</td>\n",
       "      <td>-0.243633</td>\n",
       "      <td>0.097073</td>\n",
       "      <td>0.548880</td>\n",
       "      <td>-0.496094</td>\n",
       "      <td>0.890625</td>\n",
       "      <td>0.068359</td>\n",
       "      <td>-19.843125</td>\n",
       "      <td>33.99</td>\n",
       "    </tr>\n",
       "    <tr>\n",
       "      <th>31748</th>\n",
       "      <td>15</td>\n",
       "      <td>79</td>\n",
       "      <td>m</td>\n",
       "      <td>28</td>\n",
       "      <td>183</td>\n",
       "      <td>2</td>\n",
       "      <td>5</td>\n",
       "      <td>0.0</td>\n",
       "      <td>79.664230</td>\n",
       "      <td>0.880653</td>\n",
       "      <td>-0.017781</td>\n",
       "      <td>-0.255127</td>\n",
       "      <td>-0.166376</td>\n",
       "      <td>2.785924</td>\n",
       "      <td>-0.492188</td>\n",
       "      <td>0.886719</td>\n",
       "      <td>0.085938</td>\n",
       "      <td>48.166250</td>\n",
       "      <td>33.99</td>\n",
       "    </tr>\n",
       "    <tr>\n",
       "      <th>31749</th>\n",
       "      <td>15</td>\n",
       "      <td>79</td>\n",
       "      <td>m</td>\n",
       "      <td>28</td>\n",
       "      <td>183</td>\n",
       "      <td>2</td>\n",
       "      <td>5</td>\n",
       "      <td>0.0</td>\n",
       "      <td>79.664230</td>\n",
       "      <td>0.896769</td>\n",
       "      <td>-0.017253</td>\n",
       "      <td>-0.228310</td>\n",
       "      <td>-0.033121</td>\n",
       "      <td>3.934806</td>\n",
       "      <td>-0.470703</td>\n",
       "      <td>0.876953</td>\n",
       "      <td>0.095703</td>\n",
       "      <td>36.986250</td>\n",
       "      <td>33.99</td>\n",
       "    </tr>\n",
       "    <tr>\n",
       "      <th>31750</th>\n",
       "      <td>15</td>\n",
       "      <td>79</td>\n",
       "      <td>m</td>\n",
       "      <td>28</td>\n",
       "      <td>183</td>\n",
       "      <td>2</td>\n",
       "      <td>5</td>\n",
       "      <td>0.0</td>\n",
       "      <td>79.664230</td>\n",
       "      <td>0.889443</td>\n",
       "      <td>0.000747</td>\n",
       "      <td>-0.242222</td>\n",
       "      <td>0.142447</td>\n",
       "      <td>3.570190</td>\n",
       "      <td>-0.466797</td>\n",
       "      <td>0.865234</td>\n",
       "      <td>0.080078</td>\n",
       "      <td>4.733750</td>\n",
       "      <td>33.99</td>\n",
       "    </tr>\n",
       "    <tr>\n",
       "      <th>31751</th>\n",
       "      <td>15</td>\n",
       "      <td>79</td>\n",
       "      <td>m</td>\n",
       "      <td>28</td>\n",
       "      <td>183</td>\n",
       "      <td>2</td>\n",
       "      <td>5</td>\n",
       "      <td>0.0</td>\n",
       "      <td>79.664230</td>\n",
       "      <td>0.891137</td>\n",
       "      <td>-0.003744</td>\n",
       "      <td>-0.235411</td>\n",
       "      <td>-0.153640</td>\n",
       "      <td>1.664638</td>\n",
       "      <td>-0.515625</td>\n",
       "      <td>0.863281</td>\n",
       "      <td>0.140625</td>\n",
       "      <td>-19.655000</td>\n",
       "      <td>33.99</td>\n",
       "    </tr>\n",
       "    <tr>\n",
       "      <th>31752</th>\n",
       "      <td>15</td>\n",
       "      <td>79</td>\n",
       "      <td>m</td>\n",
       "      <td>28</td>\n",
       "      <td>183</td>\n",
       "      <td>2</td>\n",
       "      <td>5</td>\n",
       "      <td>0.0</td>\n",
       "      <td>79.664230</td>\n",
       "      <td>0.899386</td>\n",
       "      <td>-0.015863</td>\n",
       "      <td>-0.220926</td>\n",
       "      <td>-0.007924</td>\n",
       "      <td>-0.338684</td>\n",
       "      <td>-0.656250</td>\n",
       "      <td>0.716797</td>\n",
       "      <td>-0.304688</td>\n",
       "      <td>21.031250</td>\n",
       "      <td>33.99</td>\n",
       "    </tr>\n",
       "    <tr>\n",
       "      <th>31753</th>\n",
       "      <td>15</td>\n",
       "      <td>79</td>\n",
       "      <td>m</td>\n",
       "      <td>28</td>\n",
       "      <td>183</td>\n",
       "      <td>2</td>\n",
       "      <td>5</td>\n",
       "      <td>0.0</td>\n",
       "      <td>79.664230</td>\n",
       "      <td>0.903733</td>\n",
       "      <td>-0.007829</td>\n",
       "      <td>-0.219377</td>\n",
       "      <td>0.117915</td>\n",
       "      <td>-1.616098</td>\n",
       "      <td>-0.449219</td>\n",
       "      <td>0.474609</td>\n",
       "      <td>-0.671875</td>\n",
       "      <td>9.114375</td>\n",
       "      <td>33.99</td>\n",
       "    </tr>\n",
       "    <tr>\n",
       "      <th>31754</th>\n",
       "      <td>15</td>\n",
       "      <td>79</td>\n",
       "      <td>m</td>\n",
       "      <td>28</td>\n",
       "      <td>183</td>\n",
       "      <td>2</td>\n",
       "      <td>5</td>\n",
       "      <td>0.0</td>\n",
       "      <td>79.664230</td>\n",
       "      <td>0.889470</td>\n",
       "      <td>0.015502</td>\n",
       "      <td>-0.211233</td>\n",
       "      <td>-0.184228</td>\n",
       "      <td>-2.403059</td>\n",
       "      <td>-0.404297</td>\n",
       "      <td>0.328125</td>\n",
       "      <td>-0.841797</td>\n",
       "      <td>-24.615625</td>\n",
       "      <td>33.99</td>\n",
       "    </tr>\n",
       "    <tr>\n",
       "      <th>31755</th>\n",
       "      <td>15</td>\n",
       "      <td>79</td>\n",
       "      <td>m</td>\n",
       "      <td>28</td>\n",
       "      <td>183</td>\n",
       "      <td>2</td>\n",
       "      <td>5</td>\n",
       "      <td>0.0</td>\n",
       "      <td>79.664230</td>\n",
       "      <td>0.902410</td>\n",
       "      <td>0.019365</td>\n",
       "      <td>-0.196662</td>\n",
       "      <td>-0.008447</td>\n",
       "      <td>-2.013620</td>\n",
       "      <td>-0.281250</td>\n",
       "      <td>0.283203</td>\n",
       "      <td>-0.906250</td>\n",
       "      <td>22.134375</td>\n",
       "      <td>33.99</td>\n",
       "    </tr>\n",
       "  </tbody>\n",
       "</table>\n",
       "<p>517956 rows × 19 columns</p>\n",
       "</div>"
      ],
      "text/plain": [
       "      IDSubject WEIGHT Gender AGE HEIGHT SKIN SPORT  activity      label  \\\n",
       "0             1     78      m  34    182    3     6       0.0  49.611369   \n",
       "1             1     78      m  34    182    3     6       0.0  49.611369   \n",
       "2             1     78      m  34    182    3     6       0.0  49.611369   \n",
       "3             1     78      m  34    182    3     6       0.0  49.611369   \n",
       "4             1     78      m  34    182    3     6       0.0  49.611369   \n",
       "5             1     78      m  34    182    3     6       0.0  49.611369   \n",
       "6             1     78      m  34    182    3     6       0.0  49.611369   \n",
       "7             1     78      m  34    182    3     6       0.0  49.611369   \n",
       "8             1     78      m  34    182    3     6       0.0  50.323992   \n",
       "9             1     78      m  34    182    3     6       0.0  50.323992   \n",
       "10            1     78      m  34    182    3     6       0.0  50.323992   \n",
       "11            1     78      m  34    182    3     6       0.0  50.323992   \n",
       "12            1     78      m  34    182    3     6       0.0  50.323992   \n",
       "13            1     78      m  34    182    3     6       0.0  50.323992   \n",
       "14            1     78      m  34    182    3     6       0.0  50.323992   \n",
       "15            1     78      m  34    182    3     6       0.0  50.323992   \n",
       "16            1     78      m  34    182    3     6       0.0  52.708336   \n",
       "17            1     78      m  34    182    3     6       0.0  52.708336   \n",
       "18            1     78      m  34    182    3     6       0.0  52.708336   \n",
       "19            1     78      m  34    182    3     6       0.0  52.708336   \n",
       "20            1     78      m  34    182    3     6       0.0  52.708336   \n",
       "21            1     78      m  34    182    3     6       0.0  52.708336   \n",
       "22            1     78      m  34    182    3     6       0.0  52.708336   \n",
       "23            1     78      m  34    182    3     6       0.0  52.708336   \n",
       "24            1     78      m  34    182    3     6       0.0  55.640794   \n",
       "25            1     78      m  34    182    3     6       0.0  55.640794   \n",
       "26            1     78      m  34    182    3     6       0.0  55.640794   \n",
       "27            1     78      m  34    182    3     6       0.0  55.640794   \n",
       "28            1     78      m  34    182    3     6       0.0  55.640794   \n",
       "29            1     78      m  34    182    3     6       0.0  55.640794   \n",
       "...         ...    ...    ...  ..    ...  ...   ...       ...        ...   \n",
       "31726        15     79      m  28    183    2     5       0.0  80.853007   \n",
       "31727        15     79      m  28    183    2     5       0.0  80.853007   \n",
       "31728        15     79      m  28    183    2     5       0.0  79.664230   \n",
       "31729        15     79      m  28    183    2     5       0.0  79.664230   \n",
       "31730        15     79      m  28    183    2     5       0.0  79.664230   \n",
       "31731        15     79      m  28    183    2     5       0.0  79.664230   \n",
       "31732        15     79      m  28    183    2     5       0.0  79.664230   \n",
       "31733        15     79      m  28    183    2     5       0.0  79.664230   \n",
       "31734        15     79      m  28    183    2     5       0.0  79.664230   \n",
       "31735        15     79      m  28    183    2     5       0.0  79.664230   \n",
       "31736        15     79      m  28    183    2     5       0.0  79.664230   \n",
       "31737        15     79      m  28    183    2     5       0.0  79.664230   \n",
       "31738        15     79      m  28    183    2     5       0.0  79.664230   \n",
       "31739        15     79      m  28    183    2     5       0.0  79.664230   \n",
       "31740        15     79      m  28    183    2     5       0.0  79.664230   \n",
       "31741        15     79      m  28    183    2     5       0.0  79.664230   \n",
       "31742        15     79      m  28    183    2     5       0.0  79.664230   \n",
       "31743        15     79      m  28    183    2     5       0.0  79.664230   \n",
       "31744        15     79      m  28    183    2     5       0.0  79.664230   \n",
       "31745        15     79      m  28    183    2     5       0.0  79.664230   \n",
       "31746        15     79      m  28    183    2     5       0.0  79.664230   \n",
       "31747        15     79      m  28    183    2     5       0.0  79.664230   \n",
       "31748        15     79      m  28    183    2     5       0.0  79.664230   \n",
       "31749        15     79      m  28    183    2     5       0.0  79.664230   \n",
       "31750        15     79      m  28    183    2     5       0.0  79.664230   \n",
       "31751        15     79      m  28    183    2     5       0.0  79.664230   \n",
       "31752        15     79      m  28    183    2     5       0.0  79.664230   \n",
       "31753        15     79      m  28    183    2     5       0.0  79.664230   \n",
       "31754        15     79      m  28    183    2     5       0.0  79.664230   \n",
       "31755        15     79      m  28    183    2     5       0.0  79.664230   \n",
       "\n",
       "         xchest    ychest    zchest       ecg      resp    xwrist    ywrist  \\\n",
       "0      0.852157 -0.066488 -0.367784  0.035650  4.834438 -0.763672 -0.076172   \n",
       "1      0.851262 -0.066655 -0.370442  0.103145  4.238839 -0.763672 -0.078125   \n",
       "2      0.851570 -0.064677 -0.370251  0.099101  2.058559 -0.761719 -0.078125   \n",
       "3      0.852142 -0.065486 -0.371278 -0.170757 -0.463981 -0.753906 -0.078125   \n",
       "4      0.851958 -0.065894 -0.370466 -0.036633 -1.867397 -0.761719 -0.076172   \n",
       "5      0.853454 -0.066655 -0.367393  0.027540 -1.400373 -0.763672 -0.078125   \n",
       "6      0.848446 -0.068993 -0.377715  0.119724  0.611511 -0.755859 -0.076172   \n",
       "7      0.848849 -0.063319 -0.363015  0.134410  2.554940 -0.765625 -0.070312   \n",
       "8      0.847730 -0.070083 -0.379448 -0.212572  2.310625 -0.751953 -0.078125   \n",
       "9      0.848426 -0.065433 -0.378317 -0.074286  0.124163 -0.755859 -0.078125   \n",
       "10     0.851305 -0.064755 -0.372001  0.011253 -1.979283 -0.761719 -0.076172   \n",
       "11     0.850046 -0.065035 -0.370826  0.024181 -2.932199 -0.759766 -0.078125   \n",
       "12     0.852839 -0.061807 -0.369928  0.098834 -2.916495 -0.755859 -0.078125   \n",
       "13     0.850029 -0.066958 -0.373975  0.011055 -2.525678 -0.759766 -0.078125   \n",
       "14     0.848383 -0.065248 -0.375989 -0.135380 -2.297974 -0.755859 -0.078125   \n",
       "15     0.875522 -0.057907 -0.362584 -0.019439 -1.977949 -0.832031 -0.064453   \n",
       "16     0.865350 -0.093753 -0.345545  0.028982 -1.243461 -0.835938 -0.169922   \n",
       "17     0.860162 -0.036952 -0.288294  0.097250 -0.319536 -0.906250 -0.259766   \n",
       "18     0.839962 -0.057024 -0.310743  0.151247  0.639832 -1.072266 -0.162109   \n",
       "19     0.896258 -0.091599 -0.279538 -0.220004  0.371059 -0.869141 -0.419922   \n",
       "20     0.875751 -0.066258 -0.317931 -0.072209  0.732840 -0.880859 -0.486328   \n",
       "21     0.861027 -0.077419 -0.357689  0.000539  1.646136 -0.767578 -0.488281   \n",
       "22     0.836178 -0.040602 -0.382854  0.105364  1.424168 -0.800781 -0.449219   \n",
       "23     0.862327 -0.045682 -0.344133  0.079459  0.726815 -0.837891 -0.462891   \n",
       "24     0.857360 -0.075017 -0.339330 -0.149805  0.187753 -0.833984 -0.312500   \n",
       "25     0.887529 -0.085578 -0.264097 -0.023052  0.076346 -0.978516 -0.226562   \n",
       "26     0.877170 -0.073688 -0.278190  0.032590  0.395211 -1.000000 -0.181641   \n",
       "27     0.891912 -0.083240 -0.244237  0.124832  0.431013 -1.017578 -0.126953   \n",
       "28     0.894077 -0.057826 -0.251440 -0.017972  0.431920 -1.003906 -0.130859   \n",
       "29     0.888249 -0.046453 -0.249119 -0.120418  0.614790 -0.992188 -0.068359   \n",
       "...         ...       ...       ...       ...       ...       ...       ...   \n",
       "31726  0.892984  0.015378 -0.226602  0.027098 -0.262198 -0.697266  0.167969   \n",
       "31727  0.891616  0.015399 -0.230031 -0.149866  0.568359 -1.066406  0.298828   \n",
       "31728  0.891182  0.014858 -0.228905  0.052159  1.295524 -1.054688 -0.115234   \n",
       "31729  0.881602  0.028042 -0.196783  0.098479  1.610360 -0.228516  0.046875   \n",
       "31730  0.917600  0.020735 -0.173027 -0.067987  1.167742 -0.273438  0.019531   \n",
       "31731  0.874753  0.017560 -0.212190  0.116314 -0.040615 -0.253906  0.005859   \n",
       "31732  0.895957  0.032169 -0.178170  0.116551 -1.390773 -0.246094  0.037109   \n",
       "31733  0.901486  0.022885 -0.192530 -0.090502 -2.496268 -0.240234  0.017578   \n",
       "31734  0.898661  0.031704 -0.200032  0.019986 -3.371286 -0.251953  0.017578   \n",
       "31735  0.895493  0.024632 -0.201752  0.084626 -3.179051 -0.253906  0.005859   \n",
       "31736  0.896449  0.025639 -0.203514 -0.192143 -1.606602 -0.253906  0.011719   \n",
       "31737  0.895537  0.019741 -0.204318 -0.086073  0.440194 -0.257812  0.019531   \n",
       "31738  0.897280  0.019643 -0.205576  0.183111  2.254107 -0.240234  0.015625   \n",
       "31739  0.897944  0.020725 -0.202354 -0.161368  3.017909 -0.250000  0.021484   \n",
       "31740  0.897945  0.020448 -0.203021 -0.010868  2.432539 -0.242188  0.011719   \n",
       "31741  0.896747  0.020778 -0.207638  0.160603  1.280997 -0.191406  0.009766   \n",
       "31742  0.897397  0.021864 -0.206745 -0.121872  0.001657 -0.847656  0.609375   \n",
       "31743  0.897357  0.022410 -0.201846  0.002710 -0.996852 -0.650391  1.210938   \n",
       "31744  0.896982  0.022335 -0.202762  0.128221 -1.359018 -0.644531  0.851562   \n",
       "31745  0.896223  0.029703 -0.206515 -0.151076 -1.378435 -0.470703  0.921875   \n",
       "31746  0.885914  0.040470 -0.239301 -0.038106 -1.029018 -0.455078  0.822266   \n",
       "31747  0.897527  0.019464 -0.243633  0.097073  0.548880 -0.496094  0.890625   \n",
       "31748  0.880653 -0.017781 -0.255127 -0.166376  2.785924 -0.492188  0.886719   \n",
       "31749  0.896769 -0.017253 -0.228310 -0.033121  3.934806 -0.470703  0.876953   \n",
       "31750  0.889443  0.000747 -0.242222  0.142447  3.570190 -0.466797  0.865234   \n",
       "31751  0.891137 -0.003744 -0.235411 -0.153640  1.664638 -0.515625  0.863281   \n",
       "31752  0.899386 -0.015863 -0.220926 -0.007924 -0.338684 -0.656250  0.716797   \n",
       "31753  0.903733 -0.007829 -0.219377  0.117915 -1.616098 -0.449219  0.474609   \n",
       "31754  0.889470  0.015502 -0.211233 -0.184228 -2.403059 -0.404297  0.328125   \n",
       "31755  0.902410  0.019365 -0.196662 -0.008447 -2.013620 -0.281250  0.283203   \n",
       "\n",
       "         zwrist         bvp   temp  \n",
       "0      0.669922    0.138125  32.13  \n",
       "1      0.671875  -26.262500  32.16  \n",
       "2      0.671875  -40.959375  32.16  \n",
       "3      0.671875   24.173125  32.16  \n",
       "4      0.671875   25.781250  32.16  \n",
       "5      0.671875    8.678125  32.15  \n",
       "6      0.673828  -17.215625  32.15  \n",
       "7      0.671875  -35.286875  32.15  \n",
       "8      0.671875   21.870000  32.15  \n",
       "9      0.671875   28.181250  32.15  \n",
       "10     0.671875   10.370625  32.15  \n",
       "11     0.671875  -11.989375  32.15  \n",
       "12     0.673828  -47.277500  32.15  \n",
       "13     0.671875   10.258125  32.15  \n",
       "14     0.671875   30.864375  32.15  \n",
       "15     0.738281   17.435000  32.15  \n",
       "16     0.375000   -4.821875  32.15  \n",
       "17     0.296875  -35.417500  32.15  \n",
       "18     0.187500  -21.785000  32.15  \n",
       "19     0.080078   74.670000  32.15  \n",
       "20     0.210938  108.626875  32.15  \n",
       "21     0.335938 -110.475000  32.15  \n",
       "22     0.474609  -59.528125  32.15  \n",
       "23     0.341797 -105.866875  32.15  \n",
       "24     0.330078  -51.082500  32.15  \n",
       "25     0.298828  110.286250  32.13  \n",
       "26     0.199219  112.145625  32.13  \n",
       "27     0.152344  -18.624375  32.13  \n",
       "28     0.134766  -99.406875  32.13  \n",
       "29     0.144531   -8.011250  32.15  \n",
       "...         ...         ...    ...  \n",
       "31726  0.441406   14.191250  34.00  \n",
       "31727 -0.455078  -13.876250  34.00  \n",
       "31728  0.083984  -14.053125  33.99  \n",
       "31729  0.824219  -12.603750  33.99  \n",
       "31730  0.955078  -13.898750  33.99  \n",
       "31731  0.939453   67.853750  33.99  \n",
       "31732  0.957031  -22.895625  33.99  \n",
       "31733  0.947266   34.099375  33.99  \n",
       "31734  0.947266  -41.079375  33.99  \n",
       "31735  0.958984   -2.126875  33.99  \n",
       "31736  0.949219   -7.880000  33.99  \n",
       "31737  0.962891    0.130000  33.99  \n",
       "31738  0.933594   14.740000  33.99  \n",
       "31739  0.962891   -8.952500  33.99  \n",
       "31740  0.949219    4.181250  34.00  \n",
       "31741  0.509766   10.438125  34.00  \n",
       "31742  0.236328  -18.111875  34.00  \n",
       "31743  0.378906    8.884375  34.00  \n",
       "31744  0.039062    6.691875  33.99  \n",
       "31745  0.095703  -32.196250  33.99  \n",
       "31746  0.068359  -23.476875  33.99  \n",
       "31747  0.068359  -19.843125  33.99  \n",
       "31748  0.085938   48.166250  33.99  \n",
       "31749  0.095703   36.986250  33.99  \n",
       "31750  0.080078    4.733750  33.99  \n",
       "31751  0.140625  -19.655000  33.99  \n",
       "31752 -0.304688   21.031250  33.99  \n",
       "31753 -0.671875    9.114375  33.99  \n",
       "31754 -0.841797  -24.615625  33.99  \n",
       "31755 -0.906250   22.134375  33.99  \n",
       "\n",
       "[517956 rows x 19 columns]"
      ]
     },
     "execution_count": 19,
     "metadata": {},
     "output_type": "execute_result"
    }
   ],
   "source": [
    "for k,v in alldatas.items():\n",
    "    \n",
    "    dfactivity = pd.DataFrame.from_dict(v[\"activity\"])\n",
    "    dfactivity.rename(columns={0:'activity'}, inplace=True)\n",
    "    \n",
    "    #On a besoin de répéter les données afin d'éviter les Nan \n",
    "    temp=v['label'].repeat(len(v['activity'])/len(v['label'])).tolist()\n",
    "    #On obtient pas le bon nombre de valeur car il prend l'entier inférieur. \n",
    "    #Afin de ne pas fausser les valeurs on rajoute la moyenne des valeurs \n",
    "    temp.extend([statistics.mean(v['label'])] * (len(v['activity'])-len(temp)))\n",
    "    dflabel = pd.DataFrame(temp)\n",
    "    dflabel.rename(columns={0:'label'}, inplace=True)\n",
    "    \n",
    "    v[\"signal\"][\"chest\"][\"ECG\"] = mise_echelle_4H(v[\"signal\"][\"chest\"][\"ECG\"], 700)\n",
    "    dfecg =pd.DataFrame.from_dict(v[\"signal\"][\"chest\"][\"ECG\"])\n",
    "    dfecg.rename(columns={0:'ecg'}, inplace=True)\n",
    "    \n",
    "    v[\"signal\"][\"chest\"][\"ACC\"] = mise_echelle_4H(v[\"signal\"][\"chest\"][\"ACC\"], 700)\n",
    "    dfchestacc = pd.DataFrame.from_dict(v[\"signal\"][\"chest\"][\"ACC\"])\n",
    "    dfchestacc.rename(columns={0:'xchest',1:'ychest',2:'zchest'}, inplace=True)\n",
    "    \n",
    "    v[\"signal\"][\"chest\"][\"Resp\"] = mise_echelle_4H(v[\"signal\"][\"chest\"][\"Resp\"], 700)    \n",
    "    dfresp=pd.DataFrame.from_dict(v[\"signal\"][\"chest\"][\"Resp\"])\n",
    "    dfresp.rename(columns={0:'resp'}, inplace=True)\n",
    "\n",
    "    dfallchest = pd.concat([dfchestacc,dfecg , dfresp], axis=1)\n",
    "    \n",
    "    \n",
    "    dftemp=pd.DataFrame.from_dict(v[\"signal\"][\"wrist\"][\"TEMP\"])\n",
    "    dftemp.rename(columns={0:'temp'}, inplace=True)\n",
    "    \n",
    "    v[\"signal\"][\"wrist\"][\"ACC\"] = mise_echelle_4H(v[\"signal\"][\"wrist\"][\"ACC\"], 32)\n",
    "    dfwristacc = pd.DataFrame.from_dict(v[\"signal\"][\"wrist\"][\"ACC\"])\n",
    "    dfwristacc.rename(columns={0:'xwrist', 1:'ywrist', 2:'zwrist'}, inplace=True)\n",
    "    \n",
    "    v[\"signal\"][\"wrist\"][\"BVP\"] = mise_echelle_4H(v[\"signal\"][\"wrist\"][\"BVP\"], 64)\n",
    "    dfbvp=pd.DataFrame.from_dict(v[\"signal\"][\"wrist\"][\"BVP\"])\n",
    "    dfbvp.rename(columns={0:'bvp'}, inplace=True )\n",
    "    \n",
    "    dfallwrist = pd.concat([dfwristacc, dfbvp, dftemp], axis=1)\n",
    "    \n",
    "    \n",
    "    \n",
    "    #On multipplie par la taille de dfallwrist afin de répéter sur toutes les lignes l'id des sujets\n",
    "    #C'est le même principe pour les informations des sujets\n",
    "    dfid=pd.DataFrame([v['subject'][1:]] * len(dfallwrist))\n",
    "    dfid.rename(columns = {0:'IDSubject'}, inplace=True)\n",
    "    \n",
    "    questionnaire = v[\"questionnaire\"]\n",
    "    dfquestionnaire = pd.DataFrame.from_dict(questionnaire, orient = 'index').T\n",
    "    dfquestionnaire = pd.concat([dfquestionnaire]*len(dfallwrist), ignore_index=True)\n",
    "    \n",
    "\n",
    "    dfalldatas = pd.concat([dfid,dfquestionnaire,dfactivity,dflabel,dfallchest, dfallwrist], axis=1)\n",
    "    \n",
    "    alldatas[k] = dfalldatas\n",
    "\n",
    "\n",
    "dfalldataframes = pd.concat([alldatas[1],alldatas[2],alldatas[3],alldatas[4],alldatas[5],alldatas[6],alldatas[7],alldatas[8],alldatas[9],alldatas[10],alldatas[11],alldatas[12],alldatas[13],alldatas[14],alldatas[15]])\n",
    "dfalldataframes"
   ]
  },
  {
   "cell_type": "code",
   "execution_count": 20,
   "metadata": {},
   "outputs": [
    {
     "data": {
      "image/png": "[encoded data removed]",
      "text/plain": [
       "<Figure size 1296x432 with 2 Axes>"
      ]
     },
     "metadata": {
      "needs_background": "light"
     },
     "output_type": "display_data"
    }
   ],
   "source": [
    "matrix_correlation = dfalldataframes.corr()\n",
    "\n",
    "plt.figure(figsize = (18,6))\n",
    "seaborn.heatmap(matrix_correlation,annot=True)\n",
    "plt.show()"
   ]
  },
  {
   "cell_type": "markdown",
   "metadata": {},
   "source": [
    "## 3. Classification "
   ]
  },
  {
   "cell_type": "markdown",
   "metadata": {},
   "source": [
    "## 3.1. On récupère notre X et y"
   ]
  },
  {
   "cell_type": "code",
   "execution_count": 21,
   "metadata": {},
   "outputs": [
    {
     "data": {
      "text/plain": [
       "((517956, 14), (517956, 1))"
      ]
     },
     "execution_count": 21,
     "metadata": {},
     "output_type": "execute_result"
    }
   ],
   "source": [
    "X = dfalldataframes[['IDSubject','AGE','SPORT','label','xchest','ychest','zchest','ecg','resp','xwrist','ywrist','zwrist','bvp','temp']]\n",
    "y = dfalldataframes[['activity']]\n",
    "\n",
    "X.shape, y.shape"
   ]
  },
  {
   "cell_type": "markdown",
   "metadata": {},
   "source": [
    "Pour passer le y en array 1d on utilise y.ravel()"
   ]
  },
  {
   "cell_type": "markdown",
   "metadata": {},
   "source": [
    "## 3.2. On divise en jeu de test et apprentissage"
   ]
  },
  {
   "cell_type": "code",
   "execution_count": 22,
   "metadata": {},
   "outputs": [],
   "source": [
    "X_train, X_test, y_train, y_test = train_test_split(X, y.values.ravel(), random_state=1234)"
   ]
  },
  {
   "cell_type": "code",
   "execution_count": 23,
   "metadata": {},
   "outputs": [
    {
     "data": {
      "text/plain": [
       "((388467, 14), (129489, 14), (388467,), (129489,))"
      ]
     },
     "execution_count": 23,
     "metadata": {},
     "output_type": "execute_result"
    }
   ],
   "source": [
    "X_train.shape, X_test.shape, y_train.shape, y_test.shape"
   ]
  },
  {
   "cell_type": "markdown",
   "metadata": {},
   "source": [
    "On retrouve bien le splitage ratio"
   ]
  },
  {
   "cell_type": "code",
   "execution_count": 24,
   "metadata": {},
   "outputs": [
    {
     "data": {
      "text/plain": [
       "[0.75, 0.25, 0.75, 0.25]"
      ]
     },
     "execution_count": 24,
     "metadata": {},
     "output_type": "execute_result"
    }
   ],
   "source": [
    "[tuple_[0]/X.shape[0] for tuple_ in (X_train.shape, X_test.shape, y_train.shape, y_test.shape)]"
   ]
  },
  {
   "cell_type": "code",
   "execution_count": 25,
   "metadata": {},
   "outputs": [],
   "source": [
    "performances = dict()"
   ]
  },
  {
   "cell_type": "markdown",
   "metadata": {},
   "source": [
    "Il est préférable de standardiser les valeurs"
   ]
  },
  {
   "cell_type": "code",
   "execution_count": 26,
   "metadata": {},
   "outputs": [],
   "source": [
    "scaler   = StandardScaler().fit(X_train)\n",
    "X_train  = scaler.transform(X_train)\n",
    "X_test   = scaler.transform(X_test)"
   ]
  },
  {
   "cell_type": "markdown",
   "metadata": {},
   "source": [
    "### On crée une fonction de tout ceci afin de pouvoir l'utiliser après"
   ]
  },
  {
   "cell_type": "code",
   "execution_count": 27,
   "metadata": {},
   "outputs": [],
   "source": [
    "def get_score(algorithme, X_train, X_test, y_train, y_test, display_graph=False, display_options=True):\n",
    "    if display_options:\n",
    "        print(\"fitting :\\n\"+ str(algorithme))\n",
    "        print(\"X_train:{} , X_test:{} ,  y_train:{} ,  y_test:{}\".format(X_train.shape, X_test.shape, y_train.shape, y_test.shape))\n",
    "    modele = algorithme.fit(X_train, y_train)\n",
    "    score  = modele.score(X_test, y_test)\n",
    "    if display_graph:\n",
    "        import matplotlib.pyplot as plt\n",
    "        plt.scatter(x=y_test, y=algorithme.predict(X_test)) ## Predictions against True values\n",
    "    return score"
   ]
  },
  {
   "cell_type": "markdown",
   "metadata": {},
   "source": [
    "## 3.3. DecisionTreeClassifier"
   ]
  },
  {
   "cell_type": "code",
   "execution_count": 28,
   "metadata": {},
   "outputs": [
    {
     "name": "stdout",
     "output_type": "stream",
     "text": [
      "fitting :\n",
      "DecisionTreeClassifier(ccp_alpha=0.0, class_weight=None, criterion='gini',\n",
      "                       max_depth=None, max_features=None, max_leaf_nodes=None,\n",
      "                       min_impurity_decrease=0.0, min_impurity_split=None,\n",
      "                       min_samples_leaf=1, min_samples_split=2,\n",
      "                       min_weight_fraction_leaf=0.0, presort='deprecated',\n",
      "                       random_state=None, splitter='best')\n",
      "X_train:(388467, 14) , X_test:(129489, 14) ,  y_train:(388467,) ,  y_test:(129489,)\n"
     ]
    }
   ],
   "source": [
    "Decisionalgo = DecisionTreeClassifier()\n",
    "score = get_score(Decisionalgo, X_train, X_test, y_train, y_test)\n",
    "performances[Decisionalgo] = score"
   ]
  },
  {
   "cell_type": "code",
   "execution_count": 29,
   "metadata": {},
   "outputs": [
    {
     "data": {
      "text/plain": [
       "<matplotlib.collections.PathCollection at 0x13e6a06c898>"
      ]
     },
     "execution_count": 29,
     "metadata": {},
     "output_type": "execute_result"
    },
    {
     "data": {
      "image/png": "[encoded data removed]",
      "text/plain": [
       "<Figure size 432x288 with 1 Axes>"
      ]
     },
     "metadata": {
      "needs_background": "light"
     },
     "output_type": "display_data"
    }
   ],
   "source": [
    "plt.scatter(x=y_test, y=Decisionalgo.predict(X_test))"
   ]
  },
  {
   "cell_type": "code",
   "execution_count": 30,
   "metadata": {},
   "outputs": [
    {
     "data": {
      "text/plain": [
       "<sklearn.metrics._plot.confusion_matrix.ConfusionMatrixDisplay at 0x13e4f565898>"
      ]
     },
     "execution_count": 30,
     "metadata": {},
     "output_type": "execute_result"
    },
    {
     "data": {
      "image/png": "[encoded data removed]",
      "text/plain": [
       "<Figure size 432x288 with 2 Axes>"
      ]
     },
     "metadata": {
      "needs_background": "light"
     },
     "output_type": "display_data"
    }
   ],
   "source": [
    "plot_confusion_matrix(Decisionalgo, X_test, y_test)"
   ]
  },
  {
   "cell_type": "code",
   "execution_count": 31,
   "metadata": {},
   "outputs": [
    {
     "data": {
      "text/plain": [
       "array([0.95602942, 0.95627033, 0.9548706 , 0.95484164, 0.95348051])"
      ]
     },
     "metadata": {},
     "output_type": "display_data"
    },
    {
     "data": {
      "text/plain": [
       "0.9550985007782083"
      ]
     },
     "metadata": {},
     "output_type": "display_data"
    },
    {
     "data": {
      "text/plain": [
       "0.0009975574025960017"
      ]
     },
     "metadata": {},
     "output_type": "display_data"
    }
   ],
   "source": [
    "# On va utiliser la cross validation afin de valider la robustesse de notre modèle. Cela évite donc le coup de chance\n",
    "results = cross_val_score(Decisionalgo, X, y, cv=KFold(shuffle=True, n_splits=5))\n",
    "display(results, results.mean(), results.std())"
   ]
  },
  {
   "cell_type": "markdown",
   "metadata": {},
   "source": [
    "## 3.4. RandomForestClassifier"
   ]
  },
  {
   "cell_type": "code",
   "execution_count": 32,
   "metadata": {},
   "outputs": [
    {
     "name": "stdout",
     "output_type": "stream",
     "text": [
      "fitting :\n",
      "RandomForestClassifier(bootstrap=True, ccp_alpha=0.0, class_weight=None,\n",
      "                       criterion='gini', max_depth=None, max_features='auto',\n",
      "                       max_leaf_nodes=None, max_samples=None,\n",
      "                       min_impurity_decrease=0.0, min_impurity_split=None,\n",
      "                       min_samples_leaf=1, min_samples_split=2,\n",
      "                       min_weight_fraction_leaf=0.0, n_estimators=30,\n",
      "                       n_jobs=None, oob_score=False, random_state=None,\n",
      "                       verbose=0, warm_start=False)\n",
      "X_train:(388467, 14) , X_test:(129489, 14) ,  y_train:(388467,) ,  y_test:(129489,)\n"
     ]
    }
   ],
   "source": [
    "hyperparametres = { 'n_estimators':30 }\n",
    "RandomFalgo = RandomForestClassifier(**hyperparametres)\n",
    "score = get_score(RandomFalgo, X_train, X_test, y_train, y_test)\n",
    "performances[RandomFalgo] = score"
   ]
  },
  {
   "cell_type": "code",
   "execution_count": 33,
   "metadata": {},
   "outputs": [
    {
     "data": {
      "text/plain": [
       "<matplotlib.collections.PathCollection at 0x13e523ad780>"
      ]
     },
     "execution_count": 33,
     "metadata": {},
     "output_type": "execute_result"
    },
    {
     "data": {
      "image/png": "[encoded data removed]",
      "text/plain": [
       "<Figure size 432x288 with 1 Axes>"
      ]
     },
     "metadata": {
      "needs_background": "light"
     },
     "output_type": "display_data"
    }
   ],
   "source": [
    "plt.scatter(x=y_test, y=RandomFalgo.predict(X_test))"
   ]
  },
  {
   "cell_type": "code",
   "execution_count": 34,
   "metadata": {},
   "outputs": [
    {
     "data": {
      "text/plain": [
       "<sklearn.metrics._plot.confusion_matrix.ConfusionMatrixDisplay at 0x13e52384d68>"
      ]
     },
     "execution_count": 34,
     "metadata": {},
     "output_type": "execute_result"
    },
    {
     "data": {
      "image/png": "[encoded data removed]",
      "text/plain": [
       "<Figure size 432x288 with 2 Axes>"
      ]
     },
     "metadata": {
      "needs_background": "light"
     },
     "output_type": "display_data"
    }
   ],
   "source": [
    "plot_confusion_matrix(RandomFalgo, X_test, y_test)"
   ]
  },
  {
   "cell_type": "code",
   "execution_count": 35,
   "metadata": {},
   "outputs": [
    {
     "data": {
      "text/plain": [
       "array([0.97037416, 0.97069243, 0.96876177, 0.97098204, 0.96923478])"
      ]
     },
     "metadata": {},
     "output_type": "display_data"
    },
    {
     "data": {
      "text/plain": [
       "0.9700090348115953"
      ]
     },
     "metadata": {},
     "output_type": "display_data"
    },
    {
     "data": {
      "text/plain": [
       "0.0008604923429501338"
      ]
     },
     "metadata": {},
     "output_type": "display_data"
    }
   ],
   "source": [
    "# On va utiliser la cross validation afin de valider la robustesse de notre modèle. Cela évite donc le coup de chance\n",
    "results = cross_val_score(RandomFalgo, X, y.values.ravel(), cv=KFold(shuffle=True, n_splits=5))\n",
    "display(results, results.mean(), results.std())"
   ]
  },
  {
   "cell_type": "markdown",
   "metadata": {},
   "source": [
    "## 3.5. ExtraTreesClassifier"
   ]
  },
  {
   "cell_type": "code",
   "execution_count": 36,
   "metadata": {},
   "outputs": [
    {
     "name": "stdout",
     "output_type": "stream",
     "text": [
      "fitting :\n",
      "ExtraTreesClassifier(bootstrap=False, ccp_alpha=0.0, class_weight=None,\n",
      "                     criterion='gini', max_depth=None, max_features='auto',\n",
      "                     max_leaf_nodes=None, max_samples=None,\n",
      "                     min_impurity_decrease=0.0, min_impurity_split=None,\n",
      "                     min_samples_leaf=1, min_samples_split=2,\n",
      "                     min_weight_fraction_leaf=0.0, n_estimators=100,\n",
      "                     n_jobs=None, oob_score=False, random_state=None, verbose=0,\n",
      "                     warm_start=False)\n",
      "X_train:(388467, 14) , X_test:(129489, 14) ,  y_train:(388467,) ,  y_test:(129489,)\n"
     ]
    }
   ],
   "source": [
    "ExtraTreesalgo = ExtraTreesClassifier()\n",
    "score      = get_score(ExtraTreesalgo, X_train, X_test, y_train, y_test)\n",
    "performances[ExtraTreesalgo] = score"
   ]
  },
  {
   "cell_type": "code",
   "execution_count": 37,
   "metadata": {},
   "outputs": [
    {
     "data": {
      "text/plain": [
       "<matplotlib.collections.PathCollection at 0x13e659c5470>"
      ]
     },
     "execution_count": 37,
     "metadata": {},
     "output_type": "execute_result"
    },
    {
     "data": {
      "image/png": "[encoded data removed]",
      "text/plain": [
       "<Figure size 432x288 with 1 Axes>"
      ]
     },
     "metadata": {
      "needs_background": "light"
     },
     "output_type": "display_data"
    }
   ],
   "source": [
    "plt.scatter(x=y_test, y=ExtraTreesalgo.predict(X_test))"
   ]
  },
  {
   "cell_type": "code",
   "execution_count": 38,
   "metadata": {},
   "outputs": [
    {
     "data": {
      "text/plain": [
       "<sklearn.metrics._plot.confusion_matrix.ConfusionMatrixDisplay at 0x13e4f565710>"
      ]
     },
     "execution_count": 38,
     "metadata": {},
     "output_type": "execute_result"
    },
    {
     "data": {
      "image/png": "[encoded data removed]",
      "text/plain": [
       "<Figure size 432x288 with 2 Axes>"
      ]
     },
     "metadata": {
      "needs_background": "light"
     },
     "output_type": "display_data"
    }
   ],
   "source": [
    "plot_confusion_matrix(ExtraTreesalgo, X_test, y_test)"
   ]
  },
  {
   "cell_type": "code",
   "execution_count": 39,
   "metadata": {},
   "outputs": [
    {
     "data": {
      "text/plain": [
       "array([0.97767202, 0.97716983, 0.97703468, 0.97703468, 0.97819309])"
      ]
     },
     "metadata": {},
     "output_type": "display_data"
    },
    {
     "data": {
      "text/plain": [
       "0.9774208615188174"
      ]
     },
     "metadata": {},
     "output_type": "display_data"
    },
    {
     "data": {
      "text/plain": [
       "0.0004518171554750648"
      ]
     },
     "metadata": {},
     "output_type": "display_data"
    }
   ],
   "source": [
    "# On va utiliser la cross validation afin de valider la robustesse de notre modèle. Cela évite donc le coup de chance\n",
    "results = cross_val_score(ExtraTreesalgo, X, y.values.ravel(), cv=KFold(shuffle=True, n_splits=5))\n",
    "display(results, results.mean(), results.std())"
   ]
  },
  {
   "cell_type": "markdown",
   "metadata": {},
   "source": [
    "## 3.6. AdaBoostClassifier"
   ]
  },
  {
   "cell_type": "code",
   "execution_count": 40,
   "metadata": {},
   "outputs": [
    {
     "name": "stdout",
     "output_type": "stream",
     "text": [
      "fitting :\n",
      "AdaBoostClassifier(algorithm='SAMME.R', base_estimator=None, learning_rate=1.0,\n",
      "                   n_estimators=100, random_state=1234)\n",
      "X_train:(388467, 14) , X_test:(129489, 14) ,  y_train:(388467,) ,  y_test:(129489,)\n"
     ]
    }
   ],
   "source": [
    "AdaBoostalgo = AdaBoostClassifier(n_estimators=100, random_state=1234)\n",
    "score      = get_score(AdaBoostalgo, X_train, X_test, y_train, y_test)\n",
    "performances[AdaBoostalgo] = score"
   ]
  },
  {
   "cell_type": "code",
   "execution_count": 41,
   "metadata": {},
   "outputs": [
    {
     "data": {
      "text/plain": [
       "<matplotlib.collections.PathCollection at 0x13e690891d0>"
      ]
     },
     "execution_count": 41,
     "metadata": {},
     "output_type": "execute_result"
    },
    {
     "data": {
      "image/png": "[encoded data removed]",
      "text/plain": [
       "<Figure size 432x288 with 1 Axes>"
      ]
     },
     "metadata": {
      "needs_background": "light"
     },
     "output_type": "display_data"
    }
   ],
   "source": [
    "plt.scatter(x=y_test, y=AdaBoostalgo.predict(X_test))"
   ]
  },
  {
   "cell_type": "code",
   "execution_count": 42,
   "metadata": {},
   "outputs": [
    {
     "data": {
      "text/plain": [
       "<sklearn.metrics._plot.confusion_matrix.ConfusionMatrixDisplay at 0x13eb64f6588>"
      ]
     },
     "execution_count": 42,
     "metadata": {},
     "output_type": "execute_result"
    },
    {
     "data": {
      "image/png": "[encoded data removed]",
      "text/plain": [
       "<Figure size 432x288 with 2 Axes>"
      ]
     },
     "metadata": {
      "needs_background": "light"
     },
     "output_type": "display_data"
    }
   ],
   "source": [
    "plot_confusion_matrix(AdaBoostalgo, X_test, y_test)"
   ]
  },
  {
   "cell_type": "code",
   "execution_count": 44,
   "metadata": {},
   "outputs": [
    {
     "data": {
      "text/plain": [
       "array([0.47071202, 0.38021643, 0.39211901, 0.44652528, 0.38447355])"
      ]
     },
     "metadata": {},
     "output_type": "display_data"
    },
    {
     "data": {
      "text/plain": [
       "0.41480925811697145"
      ]
     },
     "metadata": {},
     "output_type": "display_data"
    },
    {
     "data": {
      "text/plain": [
       "0.036777143530259696"
      ]
     },
     "metadata": {},
     "output_type": "display_data"
    }
   ],
   "source": [
    "# On va utiliser la cross validation afin de valider la robustesse de notre modèle. Cela évite donc le coup de chance\n",
    "results = cross_val_score(AdaBoostalgo, X, y.values.ravel(), cv=KFold(shuffle=True, n_splits=5))\n",
    "display(results, results.mean(), results.std())"
   ]
  },
  {
   "cell_type": "markdown",
   "metadata": {},
   "source": [
    "## 3.7. Comparaison des résultats de nos modèles"
   ]
  },
  {
   "cell_type": "code",
   "execution_count": 45,
   "metadata": {},
   "outputs": [
    {
     "data": {
      "text/html": [
       "<div>\n",
       "<style scoped>\n",
       "    .dataframe tbody tr th:only-of-type {\n",
       "        vertical-align: middle;\n",
       "    }\n",
       "\n",
       "    .dataframe tbody tr th {\n",
       "        vertical-align: top;\n",
       "    }\n",
       "\n",
       "    .dataframe thead th {\n",
       "        text-align: right;\n",
       "    }\n",
       "</style>\n",
       "<table border=\"1\" class=\"dataframe\">\n",
       "  <thead>\n",
       "    <tr style=\"text-align: right;\">\n",
       "      <th></th>\n",
       "      <th>perf</th>\n",
       "      <th>algo</th>\n",
       "    </tr>\n",
       "    <tr>\n",
       "      <th>nom_algo</th>\n",
       "      <th></th>\n",
       "      <th></th>\n",
       "    </tr>\n",
       "  </thead>\n",
       "  <tbody>\n",
       "    <tr>\n",
       "      <th>DecisionTreeClassifier</th>\n",
       "      <td>0.953973</td>\n",
       "      <td>DecisionTreeClassifier(ccp_alpha=0.0, class_we...</td>\n",
       "    </tr>\n",
       "    <tr>\n",
       "      <th>RandomForestClassifier</th>\n",
       "      <td>0.968708</td>\n",
       "      <td>(DecisionTreeClassifier(ccp_alpha=0.0, class_w...</td>\n",
       "    </tr>\n",
       "    <tr>\n",
       "      <th>ExtraTreesClassifier</th>\n",
       "      <td>0.976747</td>\n",
       "      <td>(ExtraTreeClassifier(ccp_alpha=0.0, class_weig...</td>\n",
       "    </tr>\n",
       "    <tr>\n",
       "      <th>AdaBoostClassifier</th>\n",
       "      <td>0.425372</td>\n",
       "      <td>(DecisionTreeClassifier(ccp_alpha=0.0, class_w...</td>\n",
       "    </tr>\n",
       "  </tbody>\n",
       "</table>\n",
       "</div>"
      ],
      "text/plain": [
       "                            perf  \\\n",
       "nom_algo                           \n",
       "DecisionTreeClassifier  0.953973   \n",
       "RandomForestClassifier  0.968708   \n",
       "ExtraTreesClassifier    0.976747   \n",
       "AdaBoostClassifier      0.425372   \n",
       "\n",
       "                                                                     algo  \n",
       "nom_algo                                                                   \n",
       "DecisionTreeClassifier  DecisionTreeClassifier(ccp_alpha=0.0, class_we...  \n",
       "RandomForestClassifier  (DecisionTreeClassifier(ccp_alpha=0.0, class_w...  \n",
       "ExtraTreesClassifier    (ExtraTreeClassifier(ccp_alpha=0.0, class_weig...  \n",
       "AdaBoostClassifier      (DecisionTreeClassifier(ccp_alpha=0.0, class_w...  "
      ]
     },
     "execution_count": 45,
     "metadata": {},
     "output_type": "execute_result"
    }
   ],
   "source": [
    "dico_ordonne = OrderedDict(performances)\n",
    "df = pd.DataFrame()\n",
    "df[\"perf\"] = dico_ordonne.values()\n",
    "df[\"algo\"] = dico_ordonne.keys()\n",
    "df['nom_algo'] = df.algo.apply(lambda algo: str(algo).split('(')[0])\n",
    "df.set_index('nom_algo', inplace=True)\n",
    "df"
   ]
  },
  {
   "cell_type": "code",
   "execution_count": 46,
   "metadata": {},
   "outputs": [
    {
     "data": {
      "text/plain": [
       "<matplotlib.axes._subplots.AxesSubplot at 0x13fbf000588>"
      ]
     },
     "execution_count": 46,
     "metadata": {},
     "output_type": "execute_result"
    },
    {
     "data": {
      "image/png": "[encoded data removed]",
      "text/plain": [
       "<Figure size 432x288 with 1 Axes>"
      ]
     },
     "metadata": {
      "needs_background": "light"
     },
     "output_type": "display_data"
    }
   ],
   "source": [
    "df[[\"perf\"]].plot(kind='line', rot=60)"
   ]
  },
  {
   "cell_type": "markdown",
   "metadata": {},
   "source": [
    "# 4. API"
   ]
  },
  {
   "cell_type": "code",
   "execution_count": 47,
   "metadata": {},
   "outputs": [],
   "source": [
    "scaler =  StandardScaler()\n",
    "X = scaler.fit_transform(X)"
   ]
  },
  {
   "cell_type": "code",
   "execution_count": 49,
   "metadata": {},
   "outputs": [
    {
     "data": {
      "text/plain": [
       "ExtraTreesClassifier(bootstrap=False, ccp_alpha=0.0, class_weight=None,\n",
       "                     criterion='gini', max_depth=None, max_features='auto',\n",
       "                     max_leaf_nodes=None, max_samples=None,\n",
       "                     min_impurity_decrease=0.0, min_impurity_split=None,\n",
       "                     min_samples_leaf=1, min_samples_split=2,\n",
       "                     min_weight_fraction_leaf=0.0, n_estimators=100,\n",
       "                     n_jobs=None, oob_score=False, random_state=None, verbose=0,\n",
       "                     warm_start=False)"
      ]
     },
     "execution_count": 49,
     "metadata": {},
     "output_type": "execute_result"
    }
   ],
   "source": [
    "lm = ExtraTreesClassifier()\n",
    "lm.fit(X, y.values.ravel())"
   ]
  },
  {
   "cell_type": "code",
   "execution_count": 50,
   "metadata": {},
   "outputs": [
    {
     "data": {
      "text/plain": [
       "<matplotlib.collections.PathCollection at 0x13fbf15d6d8>"
      ]
     },
     "execution_count": 50,
     "metadata": {},
     "output_type": "execute_result"
    },
    {
     "data": {
      "image/png": "[encoded data removed]",
      "text/plain": [
       "<Figure size 432x288 with 1 Axes>"
      ]
     },
     "metadata": {
      "needs_background": "light"
     },
     "output_type": "display_data"
    }
   ],
   "source": [
    "plt.scatter(y, lm.predict(X))"
   ]
  },
  {
   "cell_type": "code",
   "execution_count": 51,
   "metadata": {},
   "outputs": [
    {
     "data": {
      "text/plain": [
       "['model_simple.sav']"
      ]
     },
     "execution_count": 51,
     "metadata": {},
     "output_type": "execute_result"
    }
   ],
   "source": [
    "joblib.dump(lm, \"model_simple.sav\")"
   ]
  },
  {
   "cell_type": "code",
   "execution_count": 52,
   "metadata": {},
   "outputs": [
    {
     "data": {
      "text/plain": [
       "['scaler.sav']"
      ]
     },
     "execution_count": 52,
     "metadata": {},
     "output_type": "execute_result"
    }
   ],
   "source": [
    "joblib.dump(scaler, \"scaler.sav\")"
   ]
  }
 ],
 "metadata": {
  "kernelspec": {
   "display_name": "Python 3",
   "language": "python",
   "name": "python3"
  },
  "language_info": {
   "codemirror_mode": {
    "name": "ipython",
    "version": 3
   },
   "file_extension": ".py",
   "mimetype": "text/x-python",
   "name": "python",
   "nbconvert_exporter": "python",
   "pygments_lexer": "ipython3",
   "version": "3.7.3"
  }
 },
 "nbformat": 4,
 "nbformat_minor": 2
}
